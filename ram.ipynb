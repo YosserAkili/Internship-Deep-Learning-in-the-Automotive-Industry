{
 "cells": [
  {
   "cell_type": "markdown",
   "id": "f479f147",
   "metadata": {},
   "source": [
    "## Importation des librairies"
   ]
  },
  {
   "cell_type": "code",
   "execution_count": 1,
   "id": "bb30ec5c",
   "metadata": {},
   "outputs": [],
   "source": [
    "from bs4 import BeautifulSoup\n",
    "import requests\n",
    "import pandas as pd \n",
    "import numpy as np\n"
   ]
  },
  {
   "cell_type": "markdown",
   "id": "d668d8b7",
   "metadata": {},
   "source": [
    "## Extraction des liens disponibles"
   ]
  },
  {
   "cell_type": "code",
   "execution_count": 2,
   "id": "03251522",
   "metadata": {
    "scrolled": true
   },
   "outputs": [
    {
     "name": "stdout",
     "output_type": "stream",
     "text": [
      "['https://www.kbb.com/ram/1500-quad-cab/', 'https://www.kbb.com/ram/1500-crew-cab/', 'https://www.kbb.com/ram/2500-regular-cab/', 'https://www.kbb.com/ram/3500-regular-cab/', 'https://www.kbb.com/ram/2500-crew-cab/', 'https://www.kbb.com/ram/3500-crew-cab/', 'https://www.kbb.com/ram/2500-mega-cab/', 'https://www.kbb.com/ram/3500-mega-cab/', 'https://www.kbb.com/ram/1500-classic-regular-cab/', 'https://www.kbb.com/ram/1500-classic-quad-cab/', 'https://www.kbb.com/ram/1500-classic-crew-cab/', 'https://www.kbb.com/ram/promaster-cargo-van/', 'https://www.kbb.com/ram/promaster-window-van/', 'https://www.kbb.com/ram/1500-quad-cab/2022/', 'https://www.kbb.com/ram/2500-crew-cab/2022/', 'https://www.kbb.com/ram/1500-crew-cab/2022/', 'https://www.kbb.com/ram/1500-classic-regular-cab/2022/', 'https://www.kbb.com/ram/1500-classic-quad-cab/2022/', 'https://www.kbb.com/ram/1500-classic-crew-cab/2022/', 'https://www.kbb.com/ram/promaster-city/', 'https://www.kbb.com/ram/2500-regular-cab/2022/', 'https://www.kbb.com/ram/promaster-cargo-van/2022/', 'https://www.kbb.com/ram/promaster-window-van/2022/', 'https://www.kbb.com/ram/3500-regular-cab/2022/', 'https://www.kbb.com/ram/2500-mega-cab/2022/', 'https://www.kbb.com/ram/3500-crew-cab/2022/', 'https://www.kbb.com/ram/3500-mega-cab/2022/', 'https://www.kbb.com/ram/1500-quad-cab/2021/', 'https://www.kbb.com/ram/1500-crew-cab/2021/', 'https://www.kbb.com/ram/2500-regular-cab/2021/', 'https://www.kbb.com/ram/2500-crew-cab/2021/', 'https://www.kbb.com/ram/2500-mega-cab/2021/', 'https://www.kbb.com/ram/3500-mega-cab/2021/', 'https://www.kbb.com/ram/1500-classic-regular-cab/2021/', 'https://www.kbb.com/ram/1500-classic-crew-cab/2021/', 'https://www.kbb.com/ram/promaster-city/2021/', 'https://www.kbb.com/ram/1500-classic-quad-cab/2021/', 'https://www.kbb.com/ram/promaster-cargo-van/2021/', 'https://www.kbb.com/ram/promaster-window-van/2021/', 'https://www.kbb.com/ram/3500-regular-cab/2021/', 'https://www.kbb.com/ram/3500-crew-cab/2021/', 'https://www.kbb.com/ram/2500-crew-cab/2020/', 'https://www.kbb.com/ram/3500-crew-cab/2020/', 'https://www.kbb.com/ram/2500-mega-cab/2020/', 'https://www.kbb.com/ram/1500-quad-cab/2020/', 'https://www.kbb.com/ram/1500-crew-cab/2020/', 'https://www.kbb.com/ram/1500-classic-quad-cab/2020/', 'https://www.kbb.com/ram/1500-classic-crew-cab/2020/', 'https://www.kbb.com/ram/promaster-city/2020/', 'https://www.kbb.com/ram/1500-classic-regular-cab/2020/', 'https://www.kbb.com/ram/promaster-cargo-van/2020/', 'https://www.kbb.com/ram/2500-regular-cab/2020/', 'https://www.kbb.com/ram/promaster-window-van/2020/', 'https://www.kbb.com/ram/3500-regular-cab/2020/', 'https://www.kbb.com/ram/3500-mega-cab/2020/', 'https://www.kbb.com/ram/1500-quad-cab/2019/', 'https://www.kbb.com/ram/1500-crew-cab/2019/', 'https://www.kbb.com/ram/2500-regular-cab/2019/', 'https://www.kbb.com/ram/2500-crew-cab/2019/', 'https://www.kbb.com/ram/3500-regular-cab/2019/', 'https://www.kbb.com/ram/2500-mega-cab/2019/', 'https://www.kbb.com/ram/3500-crew-cab/2019/', 'https://www.kbb.com/ram/3500-mega-cab/2019/', 'https://www.kbb.com/ram/1500-classic-regular-cab/2019/', 'https://www.kbb.com/ram/1500-classic-crew-cab/2019/', 'https://www.kbb.com/ram/1500-classic-quad-cab/2019/', 'https://www.kbb.com/ram/promaster-city/2019/', 'https://www.kbb.com/ram/promaster-cargo-van/2019/', 'https://www.kbb.com/ram/promaster-window-van/2019/', 'https://www.kbb.com/ram/1500-regular-cab/', 'https://www.kbb.com/ram/1500-crew-cab/2018/', 'https://www.kbb.com/ram/1500-quad-cab/2018/', 'https://www.kbb.com/ram/2500-regular-cab/2018/', 'https://www.kbb.com/ram/2500-crew-cab/2018/', 'https://www.kbb.com/ram/3500-regular-cab/2018/', 'https://www.kbb.com/ram/3500-crew-cab/2018/', 'https://www.kbb.com/ram/2500-mega-cab/2018/', 'https://www.kbb.com/ram/3500-mega-cab/2018/', 'https://www.kbb.com/ram/promaster-city/2018/', 'https://www.kbb.com/ram/promaster-cargo-van/2018/', 'https://www.kbb.com/ram/promaster-window-van/2018/', 'https://www.kbb.com/ram/1500-regular-cab/2017/', 'https://www.kbb.com/ram/1500-quad-cab/2017/', 'https://www.kbb.com/ram/1500-crew-cab/2017/', 'https://www.kbb.com/ram/2500-regular-cab/2017/', 'https://www.kbb.com/ram/2500-crew-cab/2017/', 'https://www.kbb.com/ram/3500-regular-cab/2017/', 'https://www.kbb.com/ram/3500-crew-cab/2017/', 'https://www.kbb.com/ram/2500-mega-cab/2017/', 'https://www.kbb.com/ram/3500-mega-cab/2017/', 'https://www.kbb.com/ram/promaster-city/2017/', 'https://www.kbb.com/ram/promaster-window-van/2017/', 'https://www.kbb.com/ram/promaster-cargo-van/2017/', 'https://www.kbb.com/ram/1500-regular-cab/2016/', 'https://www.kbb.com/ram/1500-quad-cab/2016/', 'https://www.kbb.com/ram/1500-crew-cab/2016/', 'https://www.kbb.com/ram/promaster-city/2016/', 'https://www.kbb.com/ram/promaster-window-van/2016/', 'https://www.kbb.com/ram/promaster-cargo-van/2016/', 'https://www.kbb.com/ram/2500-regular-cab/2016/', 'https://www.kbb.com/ram/2500-crew-cab/2016/', 'https://www.kbb.com/ram/3500-regular-cab/2016/', 'https://www.kbb.com/ram/3500-crew-cab/2016/', 'https://www.kbb.com/ram/2500-mega-cab/2016/', 'https://www.kbb.com/ram/3500-mega-cab/2016/', 'https://www.kbb.com/ram/1500-regular-cab/2015/', 'https://www.kbb.com/ram/1500-quad-cab/2015/', 'https://www.kbb.com/ram/1500-crew-cab/2015/', 'https://www.kbb.com/ram/c-v-tradesman/', 'https://www.kbb.com/ram/promaster-city/2015/', 'https://www.kbb.com/ram/promaster-cargo-van/2015/', 'https://www.kbb.com/ram/2500-regular-cab/2015/', 'https://www.kbb.com/ram/promaster-window-van/2015/', 'https://www.kbb.com/ram/2500-crew-cab/2015/', 'https://www.kbb.com/ram/3500-regular-cab/2015/', 'https://www.kbb.com/ram/3500-crew-cab/2015/', 'https://www.kbb.com/ram/2500-mega-cab/2015/', 'https://www.kbb.com/ram/3500-mega-cab/2015/', 'https://www.kbb.com/ram/1500-regular-cab/2014/', 'https://www.kbb.com/ram/1500-quad-cab/2014/', 'https://www.kbb.com/ram/1500-crew-cab/2014/', 'https://www.kbb.com/ram/c-v-tradesman/2014/', 'https://www.kbb.com/ram/promaster-1500-cargo/', 'https://www.kbb.com/ram/2500-regular-cab/2014/', 'https://www.kbb.com/ram/promaster-2500-cargo/', 'https://www.kbb.com/ram/promaster-3500-cargo/', 'https://www.kbb.com/ram/2500-crew-cab/2014/', 'https://www.kbb.com/ram/3500-regular-cab/2014/', 'https://www.kbb.com/ram/3500-crew-cab/2014/', 'https://www.kbb.com/ram/2500-mega-cab/2014/', 'https://www.kbb.com/ram/3500-mega-cab/2014/', 'https://www.kbb.com/ram/1500-regular-cab/2013/', 'https://www.kbb.com/ram/1500-quad-cab/2013/', 'https://www.kbb.com/ram/1500-crew-cab/2013/', 'https://www.kbb.com/ram/c-v-tradesman/2013/', 'https://www.kbb.com/ram/2500-regular-cab/2013/', 'https://www.kbb.com/ram/2500-crew-cab/2013/', 'https://www.kbb.com/ram/3500-regular-cab/2013/', 'https://www.kbb.com/ram/3500-crew-cab/2013/', 'https://www.kbb.com/ram/2500-mega-cab/2013/', 'https://www.kbb.com/ram/3500-mega-cab/2013/', 'https://www.kbb.com/ram/1500-regular-cab/2012/', 'https://www.kbb.com/ram/1500-quad-cab/2012/', 'https://www.kbb.com/ram/1500-crew-cab/2012/', 'https://www.kbb.com/ram/c-v/', 'https://www.kbb.com/ram/2500-regular-cab/2012/', 'https://www.kbb.com/ram/2500-crew-cab/2012/', 'https://www.kbb.com/ram/3500-regular-cab/2012/', 'https://www.kbb.com/ram/3500-crew-cab/2012/', 'https://www.kbb.com/ram/2500-mega-cab/2012/', 'https://www.kbb.com/ram/3500-mega-cab/2012/', 'https://www.kbb.com/ram/dakota-extended-cab/', 'https://www.kbb.com/ram/1500-regular-cab/2011/', 'https://www.kbb.com/ram/dakota-crew-cab/', 'https://www.kbb.com/ram/1500-quad-cab/2011/', 'https://www.kbb.com/ram/2500-regular-cab/2011/', 'https://www.kbb.com/ram/1500-crew-cab/2011/', 'https://www.kbb.com/ram/2500-crew-cab/2011/', 'https://www.kbb.com/ram/3500-regular-cab/2011/', 'https://www.kbb.com/ram/3500-crew-cab/2011/', 'https://www.kbb.com/ram/2500-mega-cab/2011/', 'https://www.kbb.com/ram/3500-mega-cab/2011/']\n"
     ]
    }
   ],
   "source": [
    "url='https://www.kbb.com/ram/'\n",
    "response = requests.get(url, allow_redirects=False)\n",
    "soup = BeautifulSoup(response.content, 'html.parser')\n",
    "content = soup.get_text()\n",
    "models = soup.find_all('a', {'class' : 'css-1p1ymyr ewtqiv30'})\n",
    "option_values = [option['href'] for option in models]\n",
    "for i in range(2,6) :\n",
    "    url='https://www.kbb.com/ram/page-'+str(i)+'/'\n",
    "    response = requests.get(url, allow_redirects=False)\n",
    "    soup = BeautifulSoup(response.content, 'html.parser')\n",
    "    content = soup.get_text()\n",
    "    models = soup.find_all('a', {'class' : 'css-1p1ymyr ewtqiv30'})\n",
    "    option_values = option_values+[option['href'] for option in models]\n",
    "\n",
    "urls=[]\n",
    "for op in option_values :\n",
    "    urls.append(\"https://www.kbb.com\"+op)\n",
    "    \n",
    "print(urls)    "
   ]
  },
  {
   "cell_type": "markdown",
   "id": "f00560a8",
   "metadata": {},
   "source": [
    "## Création de la première ligne "
   ]
  },
  {
   "cell_type": "markdown",
   "id": "8eede71d",
   "metadata": {},
   "source": [
    "### Extraction des ratings"
   ]
  },
  {
   "cell_type": "code",
   "execution_count": 3,
   "id": "e1c646b5",
   "metadata": {
    "scrolled": true
   },
   "outputs": [
    {
     "name": "stdout",
     "output_type": "stream",
     "text": [
      "['2023 Volkswagen ID.4']\n",
      "['Value', 'Performance', 'Quality', 'Comfort', 'Reliability', 'Styling']\n",
      "[4.6, 4.6, 4.8, 4.6, 4.6, 4.8, 5.0, 5.0, 4.0, 5.0]\n"
     ]
    },
    {
     "data": {
      "text/html": [
       "<div>\n",
       "<style scoped>\n",
       "    .dataframe tbody tr th:only-of-type {\n",
       "        vertical-align: middle;\n",
       "    }\n",
       "\n",
       "    .dataframe tbody tr th {\n",
       "        vertical-align: top;\n",
       "    }\n",
       "\n",
       "    .dataframe thead th {\n",
       "        text-align: right;\n",
       "    }\n",
       "</style>\n",
       "<table border=\"1\" class=\"dataframe\">\n",
       "  <thead>\n",
       "    <tr style=\"text-align: right;\">\n",
       "      <th></th>\n",
       "      <th>Car</th>\n",
       "      <th>Value</th>\n",
       "      <th>Performance</th>\n",
       "      <th>Quality</th>\n",
       "      <th>Comfort</th>\n",
       "      <th>Reliability</th>\n",
       "      <th>Styling</th>\n",
       "    </tr>\n",
       "  </thead>\n",
       "  <tbody>\n",
       "    <tr>\n",
       "      <th>0</th>\n",
       "      <td>2023 Volkswagen ID.4</td>\n",
       "      <td>4.6</td>\n",
       "      <td>4.6</td>\n",
       "      <td>4.8</td>\n",
       "      <td>4.6</td>\n",
       "      <td>4.6</td>\n",
       "      <td>4.8</td>\n",
       "    </tr>\n",
       "  </tbody>\n",
       "</table>\n",
       "</div>"
      ],
      "text/plain": [
       "                    Car  Value  Performance  Quality  Comfort  Reliability  \\\n",
       "0  2023 Volkswagen ID.4    4.6          4.6      4.8      4.6          4.6   \n",
       "\n",
       "   Styling  \n",
       "0      4.8  "
      ]
     },
     "execution_count": 3,
     "metadata": {},
     "output_type": "execute_result"
    }
   ],
   "source": [
    "voit=[]\n",
    "var=[]\n",
    "ratings=[]\n",
    "name=[]\n",
    "caracter=[]\n",
    "url=\"https://www.kbb.com/volkswagen/id4/\"\n",
    "response = requests.get(url)\n",
    "soup = BeautifulSoup(response.content, 'html.parser')\n",
    "content = soup.get_text()\n",
    "name = soup.find('div', {'class' : 'css-1z001wv evrbb773'})\n",
    "voit.append(name.get_text())\n",
    "print(voit)\n",
    "var.append(\"Car\")\n",
    "results = soup.find_all('div', {'class' : 'css-1rttn8x'})\n",
    "for result in results :\n",
    "    var.append(result.text)\n",
    "    caracter.append(result.text)\n",
    "var=var[:7]    \n",
    "caracter=caracter[:6]\n",
    "print(caracter)\n",
    "rate= soup.find_all('div', {'class' : 'css-sf59yt'})\n",
    "for rating in rate :\n",
    "    ratings.append(float(rating.text))\n",
    "    \n",
    "print(ratings) \n",
    "\n",
    "\n",
    "df=pd.DataFrame([voit+ratings[:6]],columns=var)\n",
    "\n",
    "    \n",
    "df"
   ]
  },
  {
   "cell_type": "code",
   "execution_count": 4,
   "id": "c709ea98",
   "metadata": {},
   "outputs": [
    {
     "name": "stdout",
     "output_type": "stream",
     "text": [
      "10\n"
     ]
    }
   ],
   "source": [
    "var1=var+[\"Pros\", \"Cons\",\"New\"]\n",
    "print(len(var1))"
   ]
  },
  {
   "cell_type": "markdown",
   "id": "5f64ef6c",
   "metadata": {},
   "source": [
    "### Extraction des caractéristiques communes des voitures (éléctrique/mécanique)"
   ]
  },
  {
   "cell_type": "code",
   "execution_count": 5,
   "id": "4aa48b7d",
   "metadata": {},
   "outputs": [
    {
     "name": "stdout",
     "output_type": "stream",
     "text": [
      "['Heated Steering Wheel', 'Available', 'Integrated Garage Door Opener', 'Port Installed', 'Interior Ambient Lighting', 'Available', 'Curb Weight', '4317 lbs.', 'Front Head Room', '40.6 inches', 'Front Leg Room', '41.1 inches', 'Max Seating Capacity', '5', 'Minimum Ground Clearance', '6.0 inches', 'Overall Length', '180.5 inches', 'Front Shoulder Room', '57.5 inches', 'Trunk or Cargo Capacity', '64.2 cu.ft.', 'Turning Diameter', '36.4 feet', 'Wheel Base', '108.7 inches', 'Width with mirrors', '72.9 inches', 'Alloy Wheels', 'Available', 'Number of Doors', '4 doors', 'Power Folding Exterior Mirrors', 'Available', 'Privacy Glass', 'Available', 'Roof Rails', 'Available', 'LED Headlights', 'Available', 'City', '115 MPGe', 'Combined', '107 MPGe', 'Highway', '99 MPGe', 'Drivetrain', 'RWD', '1 speed', 'Available', 'Parking Assist System', 'Available', 'Horsepower', '201 hp', 'Torque', '229 foot pounds', 'Engine', 'Electric Motor', 'Estimated Electric Range', '209 miles', 'Charge Time (240V)', '6 hours', 'Battery Capacity', '62.00 kwh', 'Basic', '4 years / 50000 miles', 'Powertrain', '4 years / 50000 miles', 'Corrosion', '7 years / 100000 miles']\n",
      "['Heated Steering Wheel', 'Integrated Garage Door Opener', 'Interior Ambient Lighting', 'Curb Weight', 'Front Head Room', 'Front Leg Room', 'Max Seating Capacity', 'Minimum Ground Clearance', 'Overall Length', 'Front Shoulder Room', 'Trunk or Cargo Capacity', 'Turning Diameter', 'Wheel Base', 'Width with mirrors', 'Alloy Wheels', 'Number of Doors', 'Power Folding Exterior Mirrors', 'Privacy Glass', 'Roof Rails', 'LED Headlights', 'City', 'Combined', 'Highway', 'Drivetrain', '1 speed', 'Parking Assist System', 'Horsepower', 'Torque', 'Engine', 'Estimated Electric Range', 'Charge Time (240V)', 'Battery Capacity', 'Basic', 'Powertrain', 'Corrosion']\n",
      "['Available', 'Port Installed', 'Available', '4317 lbs.', '40.6 inches', '41.1 inches', '5', '6.0 inches', '180.5 inches', '57.5 inches', '64.2 cu.ft.', '36.4 feet', '108.7 inches', '72.9 inches', 'Available', '4 doors', 'Available', 'Available', 'Available', 'Available', '115 MPGe', '107 MPGe', '99 MPGe', 'RWD', 'Available', 'Available', '201 hp', '229 foot pounds', 'Electric Motor', '209 miles', '6 hours', '62.00 kwh', '4 years / 50000 miles', '4 years / 50000 miles', '7 years / 100000 miles']\n",
      "35\n",
      "35\n"
     ]
    }
   ],
   "source": [
    "lelect=[]\n",
    "lelect1=[]\n",
    "lelect2=[]\n",
    "i=0\n",
    "url=\"https://www.kbb.com/volkswagen/id4/\"\n",
    "response = requests.get(url)\n",
    "soup = BeautifulSoup(response.content, 'html.parser')\n",
    "content = soup.get_text()\n",
    "caract= soup.find_all('div',{'class' : 'css-z687n ee33uo36'})\n",
    "for car in caract :\n",
    "    lelect.append(car.text)\n",
    "print(lelect) \n",
    "while i<len(lelect) :\n",
    "    lelect1.append(lelect[i]) #lelect1 va contenir toutes les variables des voitures électriques\n",
    "    lelect2.append(lelect[i+1])  #lelect2 contient toutzq les valeurs correspondantes à ces variables\n",
    "    i=i+2\n",
    "print(lelect1)\n",
    "print(lelect2)\n",
    "print(len(lelect1))\n",
    "print(len(lelect2))"
   ]
  },
  {
   "cell_type": "code",
   "execution_count": 6,
   "id": "7b027d0a",
   "metadata": {},
   "outputs": [
    {
     "name": "stdout",
     "output_type": "stream",
     "text": [
      "['Climate Control Air Conditioning', 'Available', 'Heated Steering Wheel', 'Available', 'Integrated Garage Door Opener', 'Port Installed', 'Interior Ambient Lighting', 'Available', 'Curb Weight', '3133 lbs.', 'EPA Passenger', '91.9 cu.ft.', 'Fuel Capacity', '13.2 gallons', 'Front Head Room', '38.5 inches', 'Front Leg Room', '41.2 inches', 'Max Seating Capacity', '5', 'Minimum Ground Clearance', '4.7 inches', 'Overall Length', '168.8 inches', 'Front Shoulder Room', '55.9 inches', 'Trunk or Cargo Capacity', '34.5 cu.ft.', 'Turning Diameter', '35.8 feet', 'Wheel Base', '103.6 inches', 'Width with mirrors', '70.4 inches', 'Alloy Wheels', 'Available', 'Fog Lights', 'Available', 'Number of Doors', '4 doors', 'LED Headlights', 'Available', 'Rear Spoiler', 'Available', 'City', '23 mpg', 'Highway', '32 mpg', 'Combined', '27 mpg', 'Drivetrain', 'FWD', 'Transmission Type', 'Manual', '6 speed', 'Available', 'Recommended Fuel', 'Regular', 'Hill Start Assist', 'Available', 'Limited Slip Differential', 'Available', 'Horsepower', '241 @ 5000 RPM', 'Torque', '273 @ 1600 rpm', 'Engine', '4-Cyl, Turbo, 2.0 Liter', 'Basic', '4 years / 50000 miles', 'Powertrain', '4 years / 50000 miles', 'Corrosion', '7 years / 100000 miles']\n",
      "['Climate Control Air Conditioning', 'Heated Steering Wheel', 'Integrated Garage Door Opener', 'Interior Ambient Lighting', 'Curb Weight', 'EPA Passenger', 'Fuel Capacity', 'Front Head Room', 'Front Leg Room', 'Max Seating Capacity', 'Minimum Ground Clearance', 'Overall Length', 'Front Shoulder Room', 'Trunk or Cargo Capacity', 'Turning Diameter', 'Wheel Base', 'Width with mirrors', 'Alloy Wheels', 'Fog Lights', 'Number of Doors', 'LED Headlights', 'Rear Spoiler', 'City', 'Highway', 'Combined', 'Drivetrain', 'Transmission Type', '6 speed', 'Recommended Fuel', 'Hill Start Assist', 'Limited Slip Differential', 'Horsepower', 'Torque', 'Engine', 'Basic', 'Powertrain', 'Corrosion']\n",
      "['Available', 'Available', 'Port Installed', 'Available', '3133 lbs.', '91.9 cu.ft.', '13.2 gallons', '38.5 inches', '41.2 inches', '5', '4.7 inches', '168.8 inches', '55.9 inches', '34.5 cu.ft.', '35.8 feet', '103.6 inches', '70.4 inches', 'Available', 'Available', '4 doors', 'Available', 'Available', '23 mpg', '32 mpg', '27 mpg', 'FWD', 'Manual', 'Available', 'Regular', 'Available', 'Available', '241 @ 5000 RPM', '273 @ 1600 rpm', '4-Cyl, Turbo, 2.0 Liter', '4 years / 50000 miles', '4 years / 50000 miles', '7 years / 100000 miles']\n",
      "37\n",
      "37\n"
     ]
    }
   ],
   "source": [
    "l=[]\n",
    "l1=[]\n",
    "l2=[]\n",
    "i=0\n",
    "url=\"https://www.kbb.com/volkswagen/golf/\"\n",
    "response = requests.get(url)\n",
    "soup = BeautifulSoup(response.content, 'html.parser')\n",
    "content = soup.get_text()\n",
    "caract= soup.find_all('div',{'class' : 'css-z687n ee33uo36'})\n",
    "for car in caract :\n",
    "    l.append(car.text)\n",
    "print(l) \n",
    "while i<len(l) :\n",
    "    l1.append(l[i])\n",
    "    l2.append(l[i+1])\n",
    "    i=i+2\n",
    "print(l1)\n",
    "print(l2)\n",
    "print(len(l1))\n",
    "print(len(l2))"
   ]
  },
  {
   "cell_type": "code",
   "execution_count": 7,
   "id": "b1a0dc4c",
   "metadata": {},
   "outputs": [
    {
     "name": "stdout",
     "output_type": "stream",
     "text": [
      "27\n",
      "27\n"
     ]
    }
   ],
   "source": [
    "l3=[] #liste des variables finales\n",
    "l4=[] #liste des valeurs pour les voitures mec\n",
    "lelect4=[] #liste des valeurs pour les voitures éléctriques\n",
    "\n",
    "\n",
    "for i in  range(0,len(l1)) :\n",
    "    for j in range(0,len(lelect1)) :\n",
    "        if l1[i]==lelect1[j]: \n",
    "            l3.append(l1[i])\n",
    "            l4.append(l2[i])\n",
    "            lelect4.append(lelect2[j]) \n",
    "\n",
    "print(len(l3))\n",
    "print(len(l4))\n"
   ]
  },
  {
   "cell_type": "code",
   "execution_count": 8,
   "id": "c29e4abb",
   "metadata": {},
   "outputs": [
    {
     "data": {
      "text/html": [
       "<div>\n",
       "<style scoped>\n",
       "    .dataframe tbody tr th:only-of-type {\n",
       "        vertical-align: middle;\n",
       "    }\n",
       "\n",
       "    .dataframe tbody tr th {\n",
       "        vertical-align: top;\n",
       "    }\n",
       "\n",
       "    .dataframe thead th {\n",
       "        text-align: right;\n",
       "    }\n",
       "</style>\n",
       "<table border=\"1\" class=\"dataframe\">\n",
       "  <thead>\n",
       "    <tr style=\"text-align: right;\">\n",
       "      <th></th>\n",
       "      <th>Heated Steering Wheel</th>\n",
       "      <th>Integrated Garage Door Opener</th>\n",
       "      <th>Interior Ambient Lighting</th>\n",
       "      <th>Curb Weight</th>\n",
       "      <th>Front Head Room</th>\n",
       "      <th>Front Leg Room</th>\n",
       "      <th>Max Seating Capacity</th>\n",
       "      <th>Minimum Ground Clearance</th>\n",
       "      <th>Overall Length</th>\n",
       "      <th>Front Shoulder Room</th>\n",
       "      <th>...</th>\n",
       "      <th>City</th>\n",
       "      <th>Highway</th>\n",
       "      <th>Combined</th>\n",
       "      <th>Drivetrain</th>\n",
       "      <th>Horsepower</th>\n",
       "      <th>Torque</th>\n",
       "      <th>Engine</th>\n",
       "      <th>Basic</th>\n",
       "      <th>Powertrain</th>\n",
       "      <th>Corrosion</th>\n",
       "    </tr>\n",
       "  </thead>\n",
       "  <tbody>\n",
       "    <tr>\n",
       "      <th>0</th>\n",
       "      <td>Available</td>\n",
       "      <td>Port Installed</td>\n",
       "      <td>Available</td>\n",
       "      <td>4317 lbs.</td>\n",
       "      <td>40.6 inches</td>\n",
       "      <td>41.1 inches</td>\n",
       "      <td>5</td>\n",
       "      <td>6.0 inches</td>\n",
       "      <td>180.5 inches</td>\n",
       "      <td>57.5 inches</td>\n",
       "      <td>...</td>\n",
       "      <td>115 MPGe</td>\n",
       "      <td>99 MPGe</td>\n",
       "      <td>107 MPGe</td>\n",
       "      <td>RWD</td>\n",
       "      <td>201 hp</td>\n",
       "      <td>229 foot pounds</td>\n",
       "      <td>Electric Motor</td>\n",
       "      <td>4 years / 50000 miles</td>\n",
       "      <td>4 years / 50000 miles</td>\n",
       "      <td>7 years / 100000 miles</td>\n",
       "    </tr>\n",
       "  </tbody>\n",
       "</table>\n",
       "<p>1 rows × 27 columns</p>\n",
       "</div>"
      ],
      "text/plain": [
       "  Heated Steering Wheel Integrated Garage Door Opener  \\\n",
       "0             Available                Port Installed   \n",
       "\n",
       "  Interior Ambient Lighting Curb Weight Front Head Room Front Leg Room  \\\n",
       "0                 Available   4317 lbs.     40.6 inches    41.1 inches   \n",
       "\n",
       "  Max Seating Capacity Minimum Ground Clearance Overall Length  \\\n",
       "0                    5               6.0 inches   180.5 inches   \n",
       "\n",
       "  Front Shoulder Room  ...      City  Highway  Combined Drivetrain Horsepower  \\\n",
       "0         57.5 inches  ...  115 MPGe  99 MPGe  107 MPGe        RWD     201 hp   \n",
       "\n",
       "            Torque          Engine                  Basic  \\\n",
       "0  229 foot pounds  Electric Motor  4 years / 50000 miles   \n",
       "\n",
       "              Powertrain               Corrosion  \n",
       "0  4 years / 50000 miles  7 years / 100000 miles  \n",
       "\n",
       "[1 rows x 27 columns]"
      ]
     },
     "execution_count": 8,
     "metadata": {},
     "output_type": "execute_result"
    }
   ],
   "source": [
    "dataf= pd.DataFrame([lelect4],columns=l3)\n",
    "dataf"
   ]
  },
  {
   "cell_type": "markdown",
   "id": "c5a7e854",
   "metadata": {},
   "source": [
    "### Ajout de colonnes pros/cons et news (selon les experts)"
   ]
  },
  {
   "cell_type": "code",
   "execution_count": 9,
   "id": "90841d78",
   "metadata": {},
   "outputs": [
    {
     "name": "stdout",
     "output_type": "stream",
     "text": [
      "                                                Pros  \\\n",
      "0  \\nDriving dynamics\\nRefinement\\nPlenty of stan...   \n",
      "\n",
      "                                      Cons                         New  \n",
      "0  \\nNo physical volume/radio controls\\n\\n  \\nAnniversary editions\\n\\n  \n"
     ]
    },
    {
     "data": {
      "text/html": [
       "<div>\n",
       "<style scoped>\n",
       "    .dataframe tbody tr th:only-of-type {\n",
       "        vertical-align: middle;\n",
       "    }\n",
       "\n",
       "    .dataframe tbody tr th {\n",
       "        vertical-align: top;\n",
       "    }\n",
       "\n",
       "    .dataframe thead th {\n",
       "        text-align: right;\n",
       "    }\n",
       "</style>\n",
       "<table border=\"1\" class=\"dataframe\">\n",
       "  <thead>\n",
       "    <tr style=\"text-align: right;\">\n",
       "      <th></th>\n",
       "      <th>Car</th>\n",
       "      <th>Value</th>\n",
       "      <th>Performance</th>\n",
       "      <th>Quality</th>\n",
       "      <th>Comfort</th>\n",
       "      <th>Reliability</th>\n",
       "      <th>Styling</th>\n",
       "      <th>Pros</th>\n",
       "      <th>Cons</th>\n",
       "      <th>New</th>\n",
       "      <th>...</th>\n",
       "      <th>City</th>\n",
       "      <th>Highway</th>\n",
       "      <th>Combined</th>\n",
       "      <th>Drivetrain</th>\n",
       "      <th>Horsepower</th>\n",
       "      <th>Torque</th>\n",
       "      <th>Engine</th>\n",
       "      <th>Basic</th>\n",
       "      <th>Powertrain</th>\n",
       "      <th>Corrosion</th>\n",
       "    </tr>\n",
       "  </thead>\n",
       "  <tbody>\n",
       "    <tr>\n",
       "      <th>0</th>\n",
       "      <td>2023 Volkswagen ID.4</td>\n",
       "      <td>4.6</td>\n",
       "      <td>4.6</td>\n",
       "      <td>4.8</td>\n",
       "      <td>4.6</td>\n",
       "      <td>4.6</td>\n",
       "      <td>4.8</td>\n",
       "      <td>\\nDriving dynamics\\nRefinement\\nPlenty of stan...</td>\n",
       "      <td>\\nNo physical volume/radio controls\\n\\n</td>\n",
       "      <td>\\nAnniversary editions\\n\\n</td>\n",
       "      <td>...</td>\n",
       "      <td>115 MPGe</td>\n",
       "      <td>99 MPGe</td>\n",
       "      <td>107 MPGe</td>\n",
       "      <td>RWD</td>\n",
       "      <td>201 hp</td>\n",
       "      <td>229 foot pounds</td>\n",
       "      <td>Electric Motor</td>\n",
       "      <td>4 years / 50000 miles</td>\n",
       "      <td>4 years / 50000 miles</td>\n",
       "      <td>7 years / 100000 miles</td>\n",
       "    </tr>\n",
       "  </tbody>\n",
       "</table>\n",
       "<p>1 rows × 37 columns</p>\n",
       "</div>"
      ],
      "text/plain": [
       "                    Car  Value  Performance  Quality  Comfort  Reliability  \\\n",
       "0  2023 Volkswagen ID.4    4.6          4.6      4.8      4.6          4.6   \n",
       "\n",
       "   Styling                                               Pros  \\\n",
       "0      4.8  \\nDriving dynamics\\nRefinement\\nPlenty of stan...   \n",
       "\n",
       "                                      Cons                         New  ...  \\\n",
       "0  \\nNo physical volume/radio controls\\n\\n  \\nAnniversary editions\\n\\n  ...   \n",
       "\n",
       "       City  Highway  Combined Drivetrain Horsepower           Torque  \\\n",
       "0  115 MPGe  99 MPGe  107 MPGe        RWD     201 hp  229 foot pounds   \n",
       "\n",
       "           Engine                  Basic             Powertrain  \\\n",
       "0  Electric Motor  4 years / 50000 miles  4 years / 50000 miles   \n",
       "\n",
       "                Corrosion  \n",
       "0  7 years / 100000 miles  \n",
       "\n",
       "[1 rows x 37 columns]"
      ]
     },
     "execution_count": 9,
     "metadata": {},
     "output_type": "execute_result"
    }
   ],
   "source": [
    "proscons = soup.find_all('div', {'class' : 'editoralContent css-q5da8s'})\n",
    "\n",
    "dict1={\"Pros\": proscons[0].text, \"Cons\" : proscons[1].text, \"New\" : proscons[2].text }\n",
    "dict1\n",
    "data=pd.DataFrame([dict1])\n",
    "print(data)\n",
    "df=pd.concat([df,data,dataf], axis =1)\n",
    "df"
   ]
  },
  {
   "cell_type": "code",
   "execution_count": 10,
   "id": "84649f48",
   "metadata": {},
   "outputs": [
    {
     "name": "stdout",
     "output_type": "stream",
     "text": [
      "37\n",
      "['Car', 'Value', 'Performance', 'Quality', 'Comfort', 'Reliability', 'Styling', 'Pros', 'Cons', 'New', 'Heated Steering Wheel', 'Integrated Garage Door Opener', 'Interior Ambient Lighting', 'Curb Weight', 'Front Head Room', 'Front Leg Room', 'Max Seating Capacity', 'Minimum Ground Clearance', 'Overall Length', 'Front Shoulder Room', 'Trunk or Cargo Capacity', 'Turning Diameter', 'Wheel Base', 'Width with mirrors', 'Alloy Wheels', 'Number of Doors', 'LED Headlights', 'City', 'Highway', 'Combined', 'Drivetrain', 'Horsepower', 'Torque', 'Engine', 'Basic', 'Powertrain', 'Corrosion']\n"
     ]
    }
   ],
   "source": [
    "var2 = var1+l3\n",
    "print(len(var2))\n",
    "print(var2)"
   ]
  },
  {
   "cell_type": "markdown",
   "id": "98160e10",
   "metadata": {},
   "source": [
    "## Création de la base "
   ]
  },
  {
   "cell_type": "code",
   "execution_count": 11,
   "id": "486d5e37",
   "metadata": {
    "scrolled": true
   },
   "outputs": [
    {
     "name": "stdout",
     "output_type": "stream",
     "text": [
      "[4.4, 4.5, 4.4, 4.7, 4.5, 4.7]\n",
      "['2023 Ram 1500 Quad Cab', 4.4, 4.5, 4.4, 4.7, 4.5, 4.7, '\\nComfortable as well as capable\\nGreat engine choices\\nPlenty of cabin storage\\n\\n', '\\nDue for a mid-life revamp\\nRivals can tow more\\nNo Regular Cab version\\n\\n', '\\nLimited Elite Edition\\nDigital driver display offered\\nLED hitch light now standard\\n\\n', '', '', '', '', '40.9 inches', '40.9 inches', '6', '', '228.9 inches', '66.0 inches', '', '', '140.5 inches', '82.1 inches', 'Available', '4 doors', '', '20 mpg', '25 mpg', '22 mpg', '2WD', '305 @ 6400 RPM', '269 @ 4800 rpm', 'V6, VVT, eTorque, 3.6 Liter', '3 years / 36000 miles', '5 years / 100000 miles', '5 years / 100000 miles']\n",
      "[4.4, 4.5, 4.4, 4.7, 4.5, 4.7]\n",
      "['2023 Ram 1500 Crew Cab', 4.4, 4.5, 4.4, 4.7, 4.5, 4.7, '\\nComfortable as well as capable\\nGreat engine choices\\nPlenty of cabin storage\\n\\n', '\\nDue for a mid-life revamp\\nRivals can tow more\\nNo Regular Cab version\\n\\n', '\\nLimited Elite Edition\\nDigital driver display offered\\nLED hitch light now standard\\n\\n', '', '', '', '', '40.9 inches', '40.9 inches', '6', '', '232.9 inches', '66.0 inches', '', '', '144.6 inches', '82.1 inches', 'Available', '4 doors', '', '20 mpg', '25 mpg', '22 mpg', '2WD', '305 @ 6400 RPM', '269 @ 4800 rpm', 'V6, VVT, eTorque, 3.6 Liter', '3 years / 36000 miles', '5 years / 60000 miles', '5 years / Unlimited miles']\n",
      "[4.4, 4.2, 4.4, 4.6, 4.2, 4.5]\n",
      "['2023 Ram 2500 Regular Cab', 4.4, 4.2, 4.4, 4.6, 4.2, 4.5, '\\nImpressive work capabilities\\nNicer to drive than a typical truck\\nLuxurious upper trims\\n\\n', '\\nForward collision warning is optional\\n\\n', '\\nDigital instrument cluster available\\nCamera system upgrades\\nNew Trailer Reverse steering system\\n\\n', '', '', '', '', '39.8 inches', '40.9 inches', '3', '13.0 inches', '232.0 inches', '65.9 inches', '', '45.4 feet', '140.0 inches', '83.5 inches', '', '2 doors', 'Available', '', '', '', '2WD', '410 @ 5600 RPM', '429 @ 4000 rpm', 'V8, HEMI, 6.4 Liter', '3 years / 36000 miles', '5 years / 60000 miles', '5 years / 100000 miles']\n",
      "[3.9, 4.2, 3.6, 4.1, 3.6, 4.1]\n",
      "['2023 Ram 3500 Regular Cab', 3.9, 4.2, 3.6, 4.1, 3.6, 4.1, '\\nImpressive work capabilities\\nNicer to drive than a typical truck\\nLuxurious upper trims\\n\\n', '\\nForward collision warning is optional\\n\\n', '\\nDigital instrument cluster available\\nCamera system upgrades\\nNew Trailer Reverse steering system\\n\\n', '', '', '', '', '39.8 inches', '40.9 inches', '3', '13.0 inches', '232.0 inches', '65.9 inches', '', '13.8 feet', '140.2 inches', '', 'Available', '2 doors', 'Available', '', '', '', '2WD', '410 @ 5600 RPM', '429 @ 4000 rpm', 'V8, HEMI, MDS, 6.4 Liter', '3 years / 36000 miles', '5 years / 100000 miles', '5 years / 100000 miles']\n",
      "[4.4, 4.2, 4.4, 4.6, 4.2, 4.5]\n",
      "['2023 Ram 2500 Crew Cab', 4.4, 4.2, 4.4, 4.6, 4.2, 4.5, '\\nImpressive work capabilities\\nNicer to drive than a typical truck\\nLuxurious upper trims\\n\\n', '\\nForward collision warning is optional\\n\\n', '\\nDigital instrument cluster available\\nCamera system upgrades\\nNew Trailer Reverse steering system\\n\\n', '', '', '', '', '40.9 inches', '40.9 inches', '6', '11.1 inches', '238.8 inches', '65.9 inches', '', '45.4 feet', '149.0 inches', '83.5 inches', '', '4 doors', '', '', '', '', '2WD', '410 @ 5600 RPM', '429 @ 4000 rpm', 'V8, HEMI, 6.4 Liter', '3 years / 36000 miles', '5 years / 60000 miles', '5 years / Unlimited miles']\n",
      "[3.9, 4.2, 3.6, 4.1, 3.6, 4.1]\n",
      "['2023 Ram 3500 Crew Cab', 3.9, 4.2, 3.6, 4.1, 3.6, 4.1, '\\nImpressive work capabilities\\nNicer to drive than a typical truck\\nLuxurious upper trims\\n\\n', '\\nForward collision warning is optional\\n\\n', '\\nDigital instrument cluster available\\nCamera system upgrades\\nNew Trailer Reverse steering system\\n\\n', '', '', '', '6399 lbs.', '40.9 inches', '40.9 inches', '6', '', '237.3 inches', '65.9 inches', '', '47.5 feet', '149.5 inches', '83.5 inches', '', '4 doors', '', '', '', '', '2WD', '410 @ 5600 RPM', '429 @ 4000 rpm', 'V8, HEMI, 6.4 Liter', '3 years / 36000 miles', '5 years / 60000 miles', '5 years / Unlimited miles']\n",
      "[4.4, 4.2, 4.4, 4.6, 4.2, 4.5]\n",
      "['2023 Ram 2500 Mega Cab', 4.4, 4.2, 4.4, 4.6, 4.2, 4.5, '\\nImpressive work capabilities\\nNicer to drive than a typical truck\\nLuxurious upper trims\\n\\n', '\\nForward collision warning is optional\\n\\n', '\\nDigital instrument cluster available\\nCamera system upgrades\\nNew Trailer Reverse steering system\\n\\n', '', '', '', '', '40.9 inches', '40.9 inches', '6', '13.1 inches', '249.9 inches', '65.9 inches', '', '', '160.4 inches', '', 'Available', '4 doors', 'Available', '', '', '', '4WD', '410 @ 5600 RPM', '429 @ 4000 rpm', 'V8, HEMI, 6.4 Liter', '3 years / 36000 miles', '5 years / 60000 miles', '3 years / Unlimited miles']\n",
      "[3.9, 4.2, 3.6, 4.1, 3.6, 4.1]\n",
      "['2023 Ram 3500 Mega Cab', 3.9, 4.2, 3.6, 4.1, 3.6, 4.1, '\\nImpressive work capabilities\\nNicer to drive than a typical truck\\nLuxurious upper trims\\n\\n', '\\nForward collision warning is optional\\n\\n', '\\nDigital instrument cluster available\\nCamera system upgrades\\nNew Trailer Reverse steering system\\n\\n', '', '', '', '', '40.9 inches', '40.9 inches', '6', '13.1 inches', '249.9 inches', '65.9 inches', '', '', '160.4 inches', '83.5 inches', 'Available', '4 doors', 'Available', '', '', '', '4WD', '410 @ 5600 RPM', '429 @ 4000 rpm', 'V8, HEMI, 6.4 Liter', '3 years / 36000 miles', '5 years / 100000 miles', '5 years / 100000 miles']\n",
      "[4.4, 4.5, 4.4, 4.7, 4.5, 4.7]\n",
      "['2023 Ram 1500 Classic Regular Cab', 4.4, 4.5, 4.4, 4.7, 4.5, 4.7, '\\nRelatively cheap\\nCapable\\nDecent ride quality\\n\\n', '\\nAll rivals are more modern\\nLow on safety features\\n\\n', '\\nTrims now Tradesman and SLT\\nRegular Cab only pairs with long bed\\n\\n', '', '', '', '', '39.9 inches', '41.0 inches', '3', '', '231.0 inches', '66.0 inches', '', '45.1 feet', '140.5 inches', '79.4 inches', 'Available', '2 doors', '', '17 mpg', '25 mpg', '20 mpg', '2WD', '305 @ 6400 RPM', '269 @ 4175 rpm', 'V6, 3.6 Liter', '3 years / 36000 miles', '5 years / 100000 miles', '5 years / 100000 miles']\n",
      "[4.4, 4.5, 4.4, 4.7, 4.5, 4.7]\n",
      "['2023 Ram 1500 Classic Quad Cab', 4.4, 4.5, 4.4, 4.7, 4.5, 4.7, '\\nRelatively cheap\\nCapable\\nDecent ride quality\\n\\n', '\\nAll rivals are more modern\\nLow on safety features\\n\\n', '\\nTrims now Tradesman and SLT\\nRegular Cab only pairs with long bed\\n\\n', '', '', '', '', '41.0 inches', '41.0 inches', '6', '', '229.0 inches', '66.0 inches', '', '45.1 feet', '140.5 inches', '79.4 inches', 'Available', '4 doors', '', '17 mpg', '25 mpg', '20 mpg', '2WD', '305 @ 6400 RPM', '269 @ 4175 rpm', 'V6, 3.6 Liter', '3 years / 36000 miles', '5 years / 100000 miles', '5 years / Unlimited miles']\n",
      "[4.4, 4.5, 4.4, 4.7, 4.5, 4.7]\n",
      "['2023 Ram 1500 Classic Crew Cab', 4.4, 4.5, 4.4, 4.7, 4.5, 4.7, '\\nRelatively cheap\\nCapable\\nDecent ride quality\\n\\n', '\\nAll rivals are more modern\\nLow on safety features\\n\\n', '\\nTrims now Tradesman and SLT\\nRegular Cab only pairs with long bed\\n\\n', '', '', '', '', '41.0 inches', '41.0 inches', '5', '', '229.0 inches', '66.0 inches', '', '39.5 feet', '140.5 inches', '79.4 inches', 'Available', '4 doors', '', '17 mpg', '25 mpg', '20 mpg', '2WD', '305 @ 6400 RPM', '269 @ 4175 rpm', 'V6, 3.6 Liter', '3 years / 36000 miles', '5 years / 60000 miles', '5 years / Unlimited miles']\n",
      "[3.5, 3.5, 3.5, 3.6, 3.6, 3.8]\n",
      "['2023 Ram ProMaster Cargo Van', 3.5, 3.5, 3.5, 3.6, 3.6, 3.8, '\\nBest-in-class cargo volume and payload\\nUnique FWD configuration\\nNice standard tech\\n\\n', '\\nJust one engine\\nOnly seats up to six\\nNoisy on the highway\\n\\n', '\\nRefreshed styling\\nSuper High Roof option\\nAvailable roll-up cargo door\\n\\n', '', '', '', '', '', '', '3', '6.9 inches', '195.8 inches', '', '259.0 cu.ft.', '36.3 feet', '118.0 inches', '97.6 inches', 'Available', '3 doors', 'Available', '', '', '', 'FWD', '276 @ 6400 RPM', '250 @ 4400 rpm', 'V6, VVT, 3.6 Liter', '3 years / 36000 miles', '5 years / 60000 miles', '5 years / 60000 miles']\n",
      "[5.0, 5.0, 5.0, 4.5, 5.0, 5.0]\n",
      "['2023 Ram ProMaster Window Van', 5.0, 5.0, 5.0, 4.5, 5.0, 5.0, '\\nBest-in-class cargo volume and payload\\nUnique FWD configuration\\nNice standard tech\\n\\n', '\\nJust one engine\\nOnly seats up to six\\nNoisy on the highway\\n\\n', '\\nRefreshed styling\\nSuper High Roof option\\nAvailable roll-up cargo door\\n\\n', '', '', '', '', '', '', '2', '6.9 inches', '236.7 inches', '', '420.0 cu.ft.', '46.8 feet', '159.0 inches', '97.6 inches', 'Available', '3 doors', 'Available', '', '', '', 'FWD', '276 @ 6400 RPM', '250 @ 4400 rpm', 'V6, VVT, 3.6 Liter', '3 years / 36000 miles', '5 years / 60000 miles', '5 years / 60000 miles']\n"
     ]
    },
    {
     "name": "stdout",
     "output_type": "stream",
     "text": [
      "[4.4, 4.5, 4.4, 4.7, 4.5, 4.7]\n",
      "['2022 Ram 1500 Quad Cab', 4.4, 4.5, 4.4, 4.7, 4.5, 4.7, '\\nAvailable diesel engine\\nV6 and V8 with eTorque electric assist\\nAvailable air suspension\\nIntuitive Uconnect infotainment\\nLots of onboard storage\\n702-hp TRX still available\\n\\n', '\\nDoesn’t tow as much as Ford F-150\\nWhere’s the Regular Cab version?\\nTop models are expensive\\nBig price jump for TRX\\n\\n', '\\nTRX Ignition Edition\\nRam 1500 Limited 10th Anniversary Edition\\nRam 1500 GT (Laramie and Rebel)\\nRam 1500 BackCountry\\nRam 1500 Longhorn SouthFork\\nRam 1500 Limited (RED)\\nAll-new Uconnect 5 is standard on Big Horn and above\\nTrailer Tow Group now includes LED lighting\\n\\n', '', '', '', '', '40.9 inches', '40.9 inches', '6', '', '228.9 inches', '66.0 inches', '', '', '140.5 inches', '82.1 inches', 'Available', '4 doors', '', '20 mpg', '25 mpg', '22 mpg', '2WD', '305 @ 6400 RPM', '269 @ 4800 rpm', 'V6, VVT, eTorque, 3.6 Liter', '3 years / 36000 miles', '5 years / 100000 miles', '5 years / 100000 miles']\n",
      "[4.4, 4.2, 4.4, 4.6, 4.2, 4.5]\n",
      "['2022 Ram 2500 Crew Cab', 4.4, 4.2, 4.4, 4.6, 4.2, 4.5, '\\nClass-leading towing up to 37,100 pounds\\nMany available tech and luxury features\\nPremium interior\\nOff-road-ready Power Wagon model\\nMassive Mega Cab option\\n\\n', '\\nTop trims are expensive\\n\\n', '\\nUpdated Uconnect 5 infotainment system\\nBig Horn/Lone Star Silver Star Edition\\nPower Wagon Level 3 Equipment Package\\nAvailable features enhancing visibility while towing\\n\\n', '', '', '', '', '40.9 inches', '40.9 inches', '6', '11.1 inches', '238.8 inches', '65.9 inches', '', '', '149.0 inches', '83.5 inches', '', '4 doors', '', '', '', '', '2WD', '410 @ 5600 RPM', '429 @ 4000 rpm', 'V8, HEMI, 6.4 Liter', '3 years / 36000 miles', '5 years / 60000 miles', '5 years / Unlimited miles']\n",
      "[4.4, 4.5, 4.4, 4.7, 4.5, 4.7]\n",
      "['2022 Ram 1500 Crew Cab', 4.4, 4.5, 4.4, 4.7, 4.5, 4.7, '\\nAvailable diesel engine\\nV6 and V8 with eTorque electric assist\\nAvailable air suspension\\nIntuitive Uconnect infotainment\\nLots of onboard storage\\n702-hp TRX still available\\n\\n', '\\nDoesn’t tow as much as Ford F-150\\nWhere’s the Regular Cab version?\\nTop models are expensive\\nBig price jump for TRX\\n\\n', '\\nTRX Ignition Edition\\nRam 1500 Limited 10th Anniversary Edition\\nRam 1500 GT (Laramie and Rebel)\\nRam 1500 BackCountry\\nRam 1500 Longhorn SouthFork\\nRam 1500 Limited (RED)\\nAll-new Uconnect 5 is standard on Big Horn and above\\nTrailer Tow Group now includes LED lighting\\n\\n', '', '', '', '', '40.9 inches', '40.9 inches', '6', '', '232.9 inches', '66.0 inches', '', '', '144.6 inches', '82.1 inches', 'Available', '4 doors', '', '20 mpg', '25 mpg', '22 mpg', '2WD', '305 @ 6400 RPM', '269 @ 4800 rpm', 'V6, VVT, eTorque, 3.6 Liter', '3 years / 36000 miles', '5 years / 60000 miles', '5 years / Unlimited miles']\n",
      "[4.4, 4.5, 4.4, 4.7, 4.5, 4.7]\n",
      "['2022 Ram 1500 Classic Regular Cab', 4.4, 4.5, 4.4, 4.7, 4.5, 4.7, '\\nRelatively low pricing\\nHighly capable\\nComfortable ride\\n\\n', '\\nShort on convenience & safety features\\nNewer rivals have stronger resale values\\nBeen around since 2009\\n\\n', '\\nThere are no changes this year\\n\\n', '', '', '', '', '39.9 inches', '41.0 inches', '3', '', '209.0 inches', '66.0 inches', '', '', '120.5 inches', '79.4 inches', 'Available', '2 doors', '', '17 mpg', '25 mpg', '20 mpg', '2WD', '305 @ 6400 RPM', '269 @ 4175 rpm', 'V6, 3.6 Liter', '3 years / 36000 miles', '5 years / 100000 miles', '5 years / 100000 miles']\n",
      "[4.4, 4.5, 4.4, 4.7, 4.5, 4.7]\n",
      "['2022 Ram 1500 Classic Quad Cab', 4.4, 4.5, 4.4, 4.7, 4.5, 4.7, '\\nRelatively low pricing\\nHighly capable\\nComfortable ride\\n\\n', '\\nShort on convenience & safety features\\nNewer rivals have stronger resale values\\nBeen around since 2009\\n\\n', '\\nThere are no changes this year\\n\\n', '', '', '', '', '41.0 inches', '41.0 inches', '6', '', '229.0 inches', '66.0 inches', '', '45.1 feet', '140.5 inches', '79.4 inches', 'Available', '4 doors', '', '17 mpg', '25 mpg', '20 mpg', '2WD', '305 @ 6400 RPM', '269 @ 4175 rpm', 'V6, 3.6 Liter', '3 years / 36000 miles', '5 years / 100000 miles', '5 years / 100000 miles']\n",
      "[4.4, 4.5, 4.4, 4.7, 4.5, 4.7]\n",
      "['2022 Ram 1500 Classic Crew Cab', 4.4, 4.5, 4.4, 4.7, 4.5, 4.7, '\\nRelatively low pricing\\nHighly capable\\nComfortable ride\\n\\n', '\\nShort on convenience & safety features\\nNewer rivals have stronger resale values\\nBeen around since 2009\\n\\n', '\\nThere are no changes this year\\n\\n', '', '', '', '', '41.0 inches', '41.0 inches', '5', '', '229.0 inches', '66.0 inches', '', '39.5 feet', '140.5 inches', '79.4 inches', 'Available', '4 doors', '', '17 mpg', '25 mpg', '20 mpg', '2WD', '305 @ 6400 RPM', '269 @ 4175 rpm', 'V6, 3.6 Liter', '3 years / 36000 miles', '5 years / 60000 miles', '5 years / Unlimited miles']\n",
      "[3.2, 3.5, 3.1, 3.3, 3.2, 3.3]\n",
      "['2022 Ram ProMaster City', 3.2, 3.5, 3.1, 3.3, 3.2, 3.3, '\\nStrong yet efficient engine\\nEasy to drive\\nClass-leading cargo capacity\\n1,900-pound payload\\n\\n', '\\nLimited configuration options\\nOnly one trim\\nNo AWD option\\nLacks modern tech features\\nNo third row of seats in Passenger Wagon\\n\\n', '\\nModel range simplified to one trim\\n\\n', '', '', '', '3500 lbs.', '46.0 inches', '40.8 inches', '2', '5.2 inches', '187.1 inches', '59.3 inches', '131.7 cu.ft.', '42.0 feet', '122.4 inches', '84.6 inches', 'Available', '4 doors', '', '21 mpg', '28 mpg', '24 mpg', 'FWD', '178 @ 6400 RPM', '174 @ 3800 rpm', '4-Cyl, 2.4 Liter', '3 years / 36000 miles', '5 years / 60000 miles', '5 years / Unlimited miles']\n",
      "[4.4, 4.2, 4.4, 4.6, 4.2, 4.5]\n",
      "['2022 Ram 2500 Regular Cab', 4.4, 4.2, 4.4, 4.6, 4.2, 4.5, '', '', '', '', '', '', '', '39.8 inches', '40.9 inches', '3', '13.0 inches', '232.0 inches', '65.9 inches', '', '45.4 feet', '140.0 inches', '83.5 inches', '', '2 doors', 'Available', '', '', '', '2WD', '410 @ 5600 RPM', '429 @ 4000 rpm', 'V8, HEMI, 6.4 Liter', '3 years / 36000 miles', '5 years / 60000 miles', '5 years / 100000 miles']\n",
      "[3.5, 3.5, 3.5, 3.6, 3.6, 3.8]\n",
      "['2022 Ram ProMaster Cargo Van', 3.5, 3.5, 3.5, 3.6, 3.6, 3.8, '\\nClass-exclusive front-wheel drive\\nStrong standard V6\\nBest-in-class payload capacity\\nLow load floor\\nGood infotainment system\\nWide variety of body configurations\\nValue priced\\n\\n', '\\nOnly one engine option\\nNo AWD option\\nMost rivals have more available features\\nBack seats don’t come standard in the window van.\\n\\n', '\\nUpdated interior with new infotainment system\\nNew 9-speed transmission\\nCrew van option\\nMore available safety and technology features\\n\\n', '', '', '', '', '', '', '3', '6.9 inches', '195.8 inches', '', '259.0 cu.ft.', '36.3 feet', '118.0 inches', '97.6 inches', 'Available', '3 doors', '', '', '', '', 'FWD', '280 @ 6400 RPM', '260 @ 4400 rpm', 'V6, VVT, 3.6 Liter', '3 years / 36000 miles', '5 years / 60000 miles', '5 years / 60000 miles']\n",
      "[5.0, 5.0, 5.0, 4.5, 5.0, 5.0]\n",
      "['2022 Ram ProMaster Window Van', 5.0, 5.0, 5.0, 4.5, 5.0, 5.0, '\\nClass-exclusive front-wheel drive\\nStrong standard V6\\nBest-in-class payload capacity\\nLow load floor\\nGood infotainment system\\nWide variety of body configurations\\nValue priced\\n\\n', '\\nOnly one engine option\\nNo AWD option\\nMost rivals have more available features\\nBack seats don’t come standard in the window van.\\n\\n', '\\nUpdated interior with new infotainment system\\nNew 9-speed transmission\\nCrew van option\\nMore available safety and technology features\\n\\n', '', '', '', '', '', '', '2', '6.9 inches', '236.7 inches', '', '420.0 cu.ft.', '46.8 feet', '159.0 inches', '97.6 inches', 'Available', '3 doors', '', '', '', '', 'FWD', '280 @ 6400 RPM', '260 @ 4400 rpm', 'V6, VVT, 3.6 Liter', '3 years / 36000 miles', '5 years / 60000 miles', '5 years / 60000 miles']\n",
      "[3.9, 4.2, 3.6, 4.1, 3.6, 4.1]\n",
      "['2022 Ram 3500 Regular Cab', 3.9, 4.2, 3.6, 4.1, 3.6, 4.1, '', '', '', '', '', '', '', '39.8 inches', '40.9 inches', '3', '11.2 inches', '232.0 inches', '65.9 inches', '', '13.8 feet', '140.2 inches', '', 'Available', '2 doors', 'Available', '', '', '', '2WD', '410 @ 5600 RPM', '429 @ 4000 rpm', 'V8, HEMI, MDS, 6.4 Liter', '3 years / 36000 miles', '5 years / 100000 miles', '5 years / 100000 miles']\n",
      "[4.4, 4.2, 4.4, 4.6, 4.2, 4.5]\n",
      "['2022 Ram 2500 Mega Cab', 4.4, 4.2, 4.4, 4.6, 4.2, 4.5, '', '', '', '', '', '', '', '40.9 inches', '40.9 inches', '6', '13.1 inches', '249.9 inches', '65.9 inches', '', '', '160.0 inches', '', 'Available', '4 doors', 'Available', '', '', '', '4WD', '', '', 'V8, HEMI, 6.4 Liter', '3 years / 36000 miles', '5 years / 60000 miles', '3 years / Unlimited miles']\n"
     ]
    },
    {
     "name": "stdout",
     "output_type": "stream",
     "text": [
      "[3.9, 4.2, 3.6, 4.1, 3.6, 4.1]\n",
      "['2022 Ram 3500 Crew Cab', 3.9, 4.2, 3.6, 4.1, 3.6, 4.1, '', '', '', '', '', '', '6399 lbs.', '40.9 inches', '40.9 inches', '6', '', '237.3 inches', '65.9 inches', '', '47.5 feet', '149.5 inches', '83.5 inches', '', '4 doors', '', '', '', '', '2WD', '410 @ 5600 RPM', '429 @ 4000 rpm', 'V8, HEMI, 6.4 Liter', '3 years / 36000 miles', '5 years / 60000 miles', '5 years / Unlimited miles']\n",
      "[3.9, 4.2, 3.6, 4.1, 3.6, 4.1]\n",
      "['2022 Ram 3500 Mega Cab', 3.9, 4.2, 3.6, 4.1, 3.6, 4.1, '', '', '', '', '', '', '', '40.9 inches', '40.9 inches', '6', '13.1 inches', '249.9 inches', '65.9 inches', '', '', '160.4 inches', '83.5 inches', 'Available', '4 doors', 'Available', '', '', '', '4WD', '410 @ 5600 RPM', '429 @ 4000 rpm', 'V8, HEMI, 6.4 Liter', '3 years / 36000 miles', '5 years / 100000 miles', '5 years / 100000 miles']\n",
      "[4.4, 4.5, 4.4, 4.7, 4.5, 4.7]\n",
      "['2021 Ram 1500 Quad Cab', 4.4, 4.5, 4.4, 4.7, 4.5, 4.7, '\\nPotent new 702-hp TRX model\\nHalf-ton diesel: Efficient and tows well\\nV6 and V8 have eTorque system\\nAvailable air suspension\\nUconnect infotainment\\nAbundant onboard storage\\n\\n', '\\nTrails Ford F-150 in towing & payload\\nNo Regular Cab\\nUpper-trim models get expensive\\nTRX is pricey\\n\\n', '\\nTRX off-road model with 702 horsepower\\nLimited Longhorn 10th Anniversary Edition joins the lineup\\nAll-new optional head-up display (HUD)\\nOptional digital rearview mirror\\nTrailer Reverse Steering Control joins the available Trailer Package\\n\\n', '', '', '', '', '40.9 inches', '40.9 inches', '0', '', '228.9 inches', '66.0 inches', '', '', '140.5 inches', '82.1 inches', '', '4 doors', '', '20 mpg', '26 mpg', '23 mpg', '2WD', '305 @ 6400 RPM', '269 @ 4800 rpm', 'V6, VVT, eTorque, 3.6 Liter', '3 years / 36000 miles', '5 years / 100000 miles', '5 years / 100000 miles']\n",
      "[4.4, 4.5, 4.4, 4.7, 4.5, 4.7]\n",
      "['2021 Ram 1500 Crew Cab', 4.4, 4.5, 4.4, 4.7, 4.5, 4.7, '\\nPotent new 702-hp TRX model\\nHalf-ton diesel: Efficient and tows well\\nV6 and V8 have eTorque system\\nAvailable air suspension\\nUconnect infotainment\\nAbundant onboard storage\\n\\n', '\\nTrails Ford F-150 in towing & payload\\nNo Regular Cab\\nUpper-trim models get expensive\\nTRX is pricey\\n\\n', '\\nTRX off-road model with 702 horsepower\\nLimited Longhorn 10th Anniversary Edition joins the lineup\\nAll-new optional head-up display (HUD)\\nOptional digital rearview mirror\\nTrailer Reverse Steering Control joins the available Trailer Package\\n\\n', '', '', '', '', '40.9 inches', '40.9 inches', '', '', '232.9 inches', '66.0 inches', '', '', '144.6 inches', '82.1 inches', '', '4 doors', '', '23 mpg', '33 mpg', '26 mpg', '2WD', '260 @ 3600 RPM', '480 @ 1600 rpm', 'V6, Turbo Diesel, 3.0 Liter', '3 years / 36000 miles', '5 years / 60000 miles', '5 years / Unlimited miles']\n",
      "[4.4, 4.2, 4.4, 4.6, 4.2, 4.5]\n",
      "['2021 Ram 2500 Regular Cab', 4.4, 4.2, 4.4, 4.6, 4.2, 4.5, '\\nGreat towing (35,100 pounds) & payload (7,680 pounds)\\nCivilized & luxurious\\nPlenty of tech & luxury features\\n\\n', '\\nThe 2021 Chevy Silverado HD can tow 35,500 pounds\\nThe 2021 Ford F-350 Super Duty can tow 35,750 pounds\\n\\n', '\\nA Limited Night Edition w/black-finished 20-inch alloy wheels & monochromatic exterior elements\\n\\n', '', '', '', '', '39.8 inches', '40.9 inches', '3', '13.1 inches', '232.0 inches', '65.9 inches', '', '45.5 feet', '140.2 inches', '83.5 inches', '', '2 doors', 'Available', '', '', '', '4WD', '410 @ 5600 RPM', '429 @ 4000 rpm', 'V8, HEMI, 6.4 Liter', '3 years / 36000 miles', '5 years / 60000 miles', '5 years / 100000 miles']\n",
      "[4.4, 4.2, 4.4, 4.6, 4.2, 4.5]\n",
      "['2021 Ram 2500 Crew Cab', 4.4, 4.2, 4.4, 4.6, 4.2, 4.5, '\\nGreat towing (35,100 pounds) & payload (7,680 pounds)\\nCivilized & luxurious\\nPlenty of tech & luxury features\\n\\n', '\\nThe 2021 Chevy Silverado HD can tow 35,500 pounds\\nThe 2021 Ford F-350 Super Duty can tow 35,750 pounds\\n\\n', '\\nA Limited Night Edition w/black-finished 20-inch alloy wheels & monochromatic exterior elements\\n\\n', '', '', '', '', '40.9 inches', '40.9 inches', '6', '13.1 inches', '238.8 inches', '65.9 inches', '', '', '149.0 inches', '83.5 inches', 'Available', '4 doors', 'Available', '', '', '', '4WD', '370 @ 2800 RPM', '850 @ 1700 rpm', '6-Cyl, Turbo Diesel, 6.7 Liter', '3 years / 36000 miles', '5 years / 60000 miles', '5 years / Unlimited miles']\n",
      "[4.4, 4.2, 4.4, 4.6, 4.2, 4.5]\n",
      "['2021 Ram 2500 Mega Cab', 4.4, 4.2, 4.4, 4.6, 4.2, 4.5, '\\nGreat towing (35,100 pounds) & payload (7,680 pounds)\\nCivilized & luxurious\\nPlenty of tech & luxury features\\n\\n', '\\nThe 2021 Chevy Silverado HD can tow 35,500 pounds\\nThe 2021 Ford F-350 Super Duty can tow 35,750 pounds\\n\\n', '\\nA Limited Night Edition w/black-finished 20-inch alloy wheels & monochromatic exterior elements\\n\\n', '', '', '', '', '40.9 inches', '40.9 inches', '6', '13.1 inches', '249.9 inches', '65.9 inches', '', '', '160.0 inches', '', 'Available', '4 doors', 'Available', '', '', '', '4WD', '370 @ 2800 RPM', '850 @ 1700 rpm', '6-Cyl, Turbo Diesel, 6.7 Liter', '3 years / 36000 miles', '5 years / 60000 miles', '3 years / Unlimited miles']\n",
      "[3.9, 4.2, 3.6, 4.1, 3.6, 4.1]\n",
      "['2021 Ram 3500 Mega Cab', 3.9, 4.2, 3.6, 4.1, 3.6, 4.1, '\\nGreat towing (35,100 pounds) & payload (7,680 pounds)\\nCivilized & luxurious\\nPlenty of tech & luxury features\\n\\n', '\\nThe 2021 Chevy Silverado HD can tow 35,500 pounds\\nThe 2021 Ford F-350 Super Duty can tow 35,750 pounds\\n\\n', '\\nA Limited Night Edition w/black-finished 20-inch alloy wheels & monochromatic exterior elements\\n\\n', '', '', '', '', '40.9 inches', '40.9 inches', '6', '13.1 inches', '249.9 inches', '65.9 inches', '', '', '160.4 inches', '83.5 inches', 'Available', '4 doors', 'Available', '', '', '', '4WD', '400 @ 2800 RPM', '1000 @ 1800 rpm', '6-Cyl, Turbo Diesel, 6.7 Liter', '3 years / 36000 miles', '5 years / 100000 miles', '5 years / 100000 miles']\n",
      "[4.4, 4.5, 4.4, 4.7, 4.5, 4.7]\n",
      "['2021 Ram 1500 Classic Regular Cab', 4.4, 4.5, 4.4, 4.7, 4.5, 4.7, '\\nExtremely capable\\nReasonably priced\\nRefined ride quality\\n\\n', '\\nFar from the newest truck on the block\\nPretty basic\\nResale values not as strong as newer rivals\\n\\n', '\\nThe Ram 1500 Classic carries over with no changes\\n\\n', '', '', '', '', '39.9 inches', '41.0 inches', '3', '', '209.0 inches', '66.0 inches', '', '39.5 feet', '120.5 inches', '79.4 inches', 'Available', '2 doors', '', '15 mpg', '22 mpg', '17 mpg', '2WD', '395 @ 5600 RPM', '410 @ 3950 rpm', 'V8, HEMI, 5.7 Liter', '3 years / 36000 miles', '5 years / 100000 miles', '5 years / 100000 miles']\n",
      "[4.4, 4.5, 4.4, 4.7, 4.5, 4.7]\n",
      "['2021 Ram 1500 Classic Crew Cab', 4.4, 4.5, 4.4, 4.7, 4.5, 4.7, '\\nExtremely capable\\nReasonably priced\\nRefined ride quality\\n\\n', '\\nFar from the newest truck on the block\\nPretty basic\\nResale values not as strong as newer rivals\\n\\n', '\\nThe Ram 1500 Classic carries over with no changes\\n\\n', '', '', '', '', '41.0 inches', '41.0 inches', '6', '', '229.0 inches', '66.0 inches', '', '39.8 feet', '140.5 inches', '79.4 inches', 'Available', '4 doors', '', '15 mpg', '21 mpg', '17 mpg', '4WD', '395 @ 5600 RPM', '410 @ 3950 rpm', 'V8, HEMI, 5.7 Liter', '3 years / 36000 miles', '5 years / 60000 miles', '5 years / Unlimited miles']\n",
      "[3.2, 3.5, 3.1, 3.3, 3.2, 3.3]\n",
      "['2021 Ram ProMaster City', 3.2, 3.5, 3.1, 3.3, 3.2, 3.3, '\\nEasy to use/operate in the city\\n1,883-pound payload\\nExcellent cargo volume\\nGood fuel economy\\n448-mile range\\nIn-floor cargo anchors\\n\\n', '\\nNo all-wheel-drive model\\nApple CarPlay/Android Auto unavailable\\nNo driver-assist safety features\\nFord Transit Connect is more modern\\n\\n', '\\nFoglamps now available on the Tradesman\\nAlloy wheels now available on the Tradesman\\n\\n', '', '', '', '3682 lbs.', '46.0 inches', '40.8 inches', '5', '5.2 inches', '187.1 inches', '59.3 inches', '101.7 cu.ft.', '42.0 feet', '122.4 inches', '84.6 inches', 'Available', '4 doors', '', '21 mpg', '28 mpg', '24 mpg', 'FWD', '178 @ 6400 RPM', '174 @ 3800 rpm', '4-Cyl, 2.4 Liter', '3 years / 36000 miles', '5 years / 60000 miles', '5 years / Unlimited miles']\n",
      "[4.4, 4.5, 4.4, 4.7, 4.5, 4.7]\n",
      "['2021 Ram 1500 Classic Quad Cab', 4.4, 4.5, 4.4, 4.7, 4.5, 4.7, '', '', '', '', '', '', '', '41.0 inches', '41.0 inches', '6', '', '229.0 inches', '66.0 inches', '', '45.4 feet', '140.5 inches', '79.4 inches', 'Available', '4 doors', '', '15 mpg', '21 mpg', '17 mpg', '4WD', '395 @ 5600 RPM', '410 @ 3950 rpm', 'V8, HEMI, 5.7 Liter', '3 years / 36000 miles', '5 years / 100000 miles', '5 years / 100000 miles']\n"
     ]
    },
    {
     "name": "stdout",
     "output_type": "stream",
     "text": [
      "[3.2, 3.5, 3.1, 3.3, 3.2, 3.3]\n",
      "['2021 Ram ProMaster Cargo Van', 3.2, 3.5, 3.1, 3.3, 3.2, 3.3, '\\nFront-wheel drive for optimum traction & low floor height\\nTall roof for maximum interior space\\nPowerful V6 engine is standard\\nTight turning circle\\n\\n', '\\nNo diesel engine option\\nAll-wheel drive not offered\\nNo passenger variant\\n\\n', '\\nCrosswind assistance is standard throughout the range\\nAdvance driver aids become available\\nOptional digital rearview mirror\\n\\n', '', '', '', '', '', '', '3', '6.9 inches', '213.2 inches', '', '', '40.7 feet', '136.0 inches', '97.6 inches', 'Available', '3 doors', '', '', '', '', 'FWD', '280 @ 6400 RPM', '260 @ 4400 rpm', 'V6, VVT, 3.6 Liter', '3 years / 36000 miles', '5 years / 60000 miles', '5 years / 60000 miles']\n",
      "[5.0, 5.0, 5.0, 4.5, 5.0, 5.0]\n",
      "['2021 Ram ProMaster Window Van', 5.0, 5.0, 5.0, 4.5, 5.0, 5.0, '\\nFront-wheel drive for optimum traction & low floor height\\nTall roof for maximum interior space\\nPowerful V6 engine is standard\\nTight turning circle\\n\\n', '\\nNo diesel engine option\\nAll-wheel drive not offered\\nNo passenger variant\\n\\n', '\\nCrosswind assistance is standard throughout the range\\nAdvance driver aids become available\\nOptional digital rearview mirror\\n\\n', '', '', '', '', '', '', '2', '6.9 inches', '236.2 inches', '', '', '46.8 feet', '159.0 inches', '97.6 inches', 'Available', '3 doors', '', '', '', '', 'FWD', '280 @ 6400 RPM', '260 @ 4400 rpm', 'V6, VVT, 3.6 Liter', '3 years / 36000 miles', '5 years / 60000 miles', '5 years / 60000 miles']\n",
      "[3.9, 4.2, 3.6, 4.1, 3.6, 4.1]\n",
      "['2021 Ram 3500 Regular Cab', 3.9, 4.2, 3.6, 4.1, 3.6, 4.1, '', '', '', '', '', '', '', '39.8 inches', '40.9 inches', '3', '13.3 inches', '232.0 inches', '65.9 inches', '', '', '140.2 inches', '', 'Available', '2 doors', '', '', '', '', '4WD', '370 @ 2800 RPM', '850 @ 1700 rpm', '6-Cyl, Turbo Diesel, 6.7 Liter', '3 years / 36000 miles', '5 years / 100000 miles', '5 years / 100000 miles']\n",
      "[3.9, 4.2, 3.6, 4.1, 3.6, 4.1]\n",
      "['2021 Ram 3500 Crew Cab', 3.9, 4.2, 3.6, 4.1, 3.6, 4.1, '', '', '', '', '', '', '6728 lbs.', '40.9 inches', '40.9 inches', '6', '', '237.3 inches', '65.9 inches', '', '43.9 feet', '149.5 inches', '83.5 inches', 'Available', '4 doors', 'Available', '', '', '', '4WD', '370 @ 2800 RPM', '850 @ 1152 rpm', '6-Cyl, Turbo Diesel, 6.7 Liter', '3 years / 36000 miles', '5 years / 60000 miles', '5 years / Unlimited miles']\n",
      "[4.4, 4.2, 4.4, 4.6, 4.2, 4.5]\n",
      "['2020 Ram 2500 Crew Cab', 4.4, 4.2, 4.4, 4.6, 4.2, 4.5, '\\nGreat towing (35,100 pounds) & payload (7,680 pounds)\\nCivilized & luxurious\\nPlenty of tech & luxury features\\n\\n', '\\nThe all-new 2020 Chevy Silverado HD can tow 35,500 pounds\\nThe 2020 Ford F-350 Super Duty can tow 35,750 pounds\\n\\n', '\\nNew Night Edition versions (in Big Horn & Laramie trims) have black cosmetic additions including 20-inch alloy wheels\\nLane-keep assist, adaptive steering, blind-spot monitoring available in all models\\nTrailer tire-pressure monitoring also available throughout\\nCrew-cab/8-foot-bed versions offer a 50-gallon fuel tank\\nAuxiliary camera system now supports two cameras\\nSome minor cosmetic choices join the options list\\n\\n', '', '', '', '', '40.9 inches', '40.9 inches', '6', '13.1 inches', '260.8 inches', '65.9 inches', '', '', '169.0 inches', '83.5 inches', 'Available', '4 doors', '', '', '', '', '4WD', '370 @ 2800 RPM', '850 @ 1700 rpm', '6-Cyl, Turbo Diesel, 6.7 Liter', '3 years / 36000 miles', '5 years / 60000 miles', '5 years / Unlimited miles']\n",
      "[3.9, 4.2, 3.6, 4.1, 3.6, 4.1]\n",
      "['2020 Ram 3500 Crew Cab', 3.9, 4.2, 3.6, 4.1, 3.6, 4.1, '\\nGreat towing (35,100 pounds) & payload (7,680 pounds)\\nCivilized & luxurious\\nPlenty of tech & luxury features\\n\\n', '\\nThe all-new 2020 Chevy Silverado HD can tow 35,500 pounds\\nThe 2020 Ford F-350 Super Duty can tow 35,750 pounds\\n\\n', '\\nNew Night Edition versions (in Big Horn & Laramie trims) have black cosmetic additions including 20-inch alloy wheels\\nLane-keep assist, adaptive steering, blind-spot monitoring available in all models\\nTrailer tire-pressure monitoring also available throughout\\nCrew-cab/8-foot-bed versions offer a 50-gallon fuel tank\\nAuxiliary camera system now supports two cameras\\nSome minor cosmetic choices join the options list\\n\\n', '', '', '', '6728 lbs.', '40.9 inches', '40.9 inches', '6', '', '237.3 inches', '65.9 inches', '', '43.9 feet', '149.5 inches', '83.5 inches', '', '4 doors', '', '', '', '', '4WD', '370 @ 2800 RPM', '850 @ 1152 rpm', '6-Cyl, Turbo Diesel, 6.7 Liter', '3 years / 36000 miles', '5 years / 60000 miles', '5 years / Unlimited miles']\n",
      "[4.4, 4.2, 4.4, 4.6, 4.2, 4.5]\n",
      "['2020 Ram 2500 Mega Cab', 4.4, 4.2, 4.4, 4.6, 4.2, 4.5, '\\nGreat towing (35,100 pounds) & payload (7,680 pounds)\\nCivilized & luxurious\\nPlenty of tech & luxury features\\n\\n', '\\nThe all-new 2020 Chevy Silverado HD can tow 35,500 pounds\\nThe 2020 Ford F-350 Super Duty can tow 35,750 pounds\\n\\n', '\\nNew Night Edition versions (in Big Horn & Laramie trims) have black cosmetic additions including 20-inch alloy wheels\\nLane-keep assist, adaptive steering, blind-spot monitoring available in all models\\nTrailer tire-pressure monitoring also available throughout\\nCrew-cab/8-foot-bed versions offer a 50-gallon fuel tank\\nAuxiliary camera system now supports two cameras\\nSome minor cosmetic choices join the options list\\n\\n', '', '', '', '', '40.9 inches', '40.9 inches', '6', '13.1 inches', '249.9 inches', '65.9 inches', '', '', '160.0 inches', '', 'Available', '4 doors', 'Available', '', '', '', '4WD', '370 @ 2800 RPM', '850 @ 1700 rpm', '6-Cyl, Turbo Diesel, 6.7 Liter', '3 years / 36000 miles', '5 years / 60000 miles', '3 years / Unlimited miles']\n",
      "[4.4, 4.5, 4.4, 4.7, 4.5, 4.7]\n",
      "['2020 Ram 1500 Quad Cab', 4.4, 4.5, 4.4, 4.7, 4.5, 4.7, '\\nHighest half-ton diesel tow rating\\nMild hybrid eTorque system on V6 & V8 engines\\nAvailable class-exclusive air suspension\\nUconnect infotainment\\nNumerous clever storage features\\n\\n', '\\nLags behind Ford F-150 in towing & payload\\nNo Regular Cab model\\nUpper-trim models can get expensive\\nEngine options not as varied as Ford and Chevy\\n\\n', '\\nNew 3.0-liter EcoDiesel engine with best-in-class torque rating\\nUpdated Night Edition and Rebel Black Appearance Group\\nRebel Safety Group adds driver aids such as adaptive cruise control & lane-departure warning\\nNew wheel design for Longhorn trim\\n\\n', '', '', '', '', '40.9 inches', '40.9 inches', '0', '', '228.9 inches', '66.0 inches', '', '', '140.5 inches', '82.1 inches', '', '4 doors', '', '20 mpg', '26 mpg', '23 mpg', '2WD', '305 @ 6400 RPM', '269 @ 4800 rpm', 'V6, VVT, eTorque, 3.6 Liter', '3 years / 36000 miles', '5 years / 100000 miles', '5 years / 100000 miles']\n",
      "[4.4, 4.5, 4.4, 4.7, 4.5, 4.7]\n",
      "['2020 Ram 1500 Crew Cab', 4.4, 4.5, 4.4, 4.7, 4.5, 4.7, '\\nHighest half-ton diesel tow rating\\nMild hybrid eTorque system on V6 & V8 engines\\nAvailable class-exclusive air suspension\\nUconnect infotainment\\nNumerous clever storage features\\n\\n', '\\nLags behind Ford F-150 in towing & payload\\nNo Regular Cab model\\nUpper-trim models can get expensive\\nEngine options not as varied as Ford and Chevy\\n\\n', '\\nNew 3.0-liter EcoDiesel engine with best-in-class torque rating\\nUpdated Night Edition and Rebel Black Appearance Group\\nRebel Safety Group adds driver aids such as adaptive cruise control & lane-departure warning\\nNew wheel design for Longhorn trim\\n\\n', '', '', '', '', '40.9 inches', '40.9 inches', '6', '8.7 inches', '232.9 inches', '66.0 inches', '', '', '144.6 inches', '82.1 inches', 'Available', '4 doors', '', '15 mpg', '21 mpg', '17 mpg', '4WD', '395 @ 5600 RPM', '410 @ 3950 rpm', 'V8, HEMI, 5.7 Liter', '3 years / 36000 miles', '5 years / 60000 miles', '5 years / Unlimited miles']\n",
      "[4.4, 4.5, 4.4, 4.7, 4.5, 4.7]\n",
      "['2020 Ram 1500 Classic Quad Cab', 4.4, 4.5, 4.4, 4.7, 4.5, 4.7, '\\nPrice\\nPowerful Hemi V8\\nFuel-efficient V6\\nProven design\\nBetter towing & payload than Toyota Tundra\\n\\n', '\\nOlder design lacks modern infotainment & driver-assist features\\nLimited configurations\\nTowing & payload falls behind newer Ford & Chevy trucks\\n\\n', '\\nFor 2020, the Ram 1500 Classic lineup is reduced to just three trims: Tradesman, Express & Warlock.\\n\\n', '', '', '', '', '41.0 inches', '41.0 inches', '6', '', '229.0 inches', '66.0 inches', '', '45.4 feet', '140.5 inches', '79.4 inches', 'Available', '4 doors', '', '15 mpg', '21 mpg', '17 mpg', '4WD', '395 @ 5600 RPM', '410 @ 3950 rpm', 'V8, HEMI, 5.7 Liter', '3 years / 36000 miles', '5 years / 100000 miles', '5 years / 100000 miles']\n"
     ]
    },
    {
     "name": "stdout",
     "output_type": "stream",
     "text": [
      "[4.4, 4.5, 4.4, 4.7, 4.5, 4.7]\n",
      "['2020 Ram 1500 Classic Crew Cab', 4.4, 4.5, 4.4, 4.7, 4.5, 4.7, '\\nPrice\\nPowerful Hemi V8\\nFuel-efficient V6\\nProven design\\nBetter towing & payload than Toyota Tundra\\n\\n', '\\nOlder design lacks modern infotainment & driver-assist features\\nLimited configurations\\nTowing & payload falls behind newer Ford & Chevy trucks\\n\\n', '\\nFor 2020, the Ram 1500 Classic lineup is reduced to just three trims: Tradesman, Express & Warlock.\\n\\n', '', '', '', '', '41.0 inches', '41.0 inches', '5', '', '237.9 inches', '66.0 inches', '', '45.4 feet', '149.5 inches', '79.4 inches', 'Available', '4 doors', '', '15 mpg', '21 mpg', '17 mpg', '4WD', '395 @ 5600 RPM', '410 @ 3950 rpm', 'V8, HEMI, 5.7 Liter', '3 years / 36000 miles', '5 years / 60000 miles', '5 years / Unlimited miles']\n",
      "[3.2, 3.5, 3.1, 3.3, 3.2, 3.3]\n",
      "['2020 Ram ProMaster City', 3.2, 3.5, 3.1, 3.3, 3.2, 3.3, '\\nEasy to maneuver\\n1,883-pound payload\\nBig cargo bay\\nGood fuel economy\\nPrice\\n\\n', '\\nNo all-wheel-drive option\\nNo Apple CarPlay or Android Auto integration\\nNo active driver-assist safety features\\nPassenger version can’t compete with Ford Transit Connect\\n\\n', '\\nNo changes for the 2020 model year\\n\\n\\xa0\\n', '', '', '', '3682 lbs.', '46.0 inches', '40.8 inches', '5', '5.2 inches', '187.1 inches', '59.3 inches', '101.7 cu.ft.', '42.0 feet', '122.4 inches', '84.6 inches', '', '4 doors', '', '21 mpg', '28 mpg', '24 mpg', 'FWD', '178 @ 6400 RPM', '174 @ 3800 rpm', '4-Cyl, 2.4 Liter', '3 years / 36000 miles', '5 years / 60000 miles', '5 years / Unlimited miles']\n",
      "[4.4, 4.5, 4.4, 4.7, 4.5, 4.7]\n",
      "['2020 Ram 1500 Classic Regular Cab', 4.4, 4.5, 4.4, 4.7, 4.5, 4.7, '', '', '', '', '', '', '', '39.9 inches', '41.0 inches', '3', '', '209.0 inches', '66.0 inches', '', '39.5 feet', '120.5 inches', '79.4 inches', 'Available', '2 doors', '', '15 mpg', '22 mpg', '17 mpg', '2WD', '395 @ 5600 RPM', '410 @ 3950 rpm', 'V8, HEMI, 5.7 Liter', '3 years / 36000 miles', '5 years / 100000 miles', '5 years / 100000 miles']\n",
      "[3.5, 3.5, 3.5, 3.6, 3.6, 3.8]\n",
      "['2020 Ram ProMaster Cargo Van', 3.5, 3.5, 3.5, 3.6, 3.6, 3.8, '\\nTall roof allows for maximum interior space\\nFront-wheel drive for improved traction & low floor height\\nPowerful standard V6 engine\\nTight turning diameter\\n\\n', '\\nNo diesel engine option\\nNo all-wheel-drive option\\nNo passenger version\\nNo active driver-safety systems\\n\\n', '\\nFactory-installed trailer hitch w/max 6,800-pound tow rating\\nThree new 136-inch wheelbase models: 2500 standard roof & 3500 standard-and high-roof\\n\\n', '', '', '', '', '', '', '3', '6.9 inches', '213.2 inches', '', '', '40.7 feet', '136.0 inches', '97.6 inches', 'Available', '3 doors', '', '', '', '', 'FWD', '280 @ 6400 RPM', '260 @ 4400 rpm', 'V6, VVT, 3.6 Liter', '3 years / 36000 miles', '5 years / 60000 miles', '5 years / 60000 miles']\n",
      "[4.4, 4.2, 4.4, 4.6, 4.2, 4.5]\n",
      "['2020 Ram 2500 Regular Cab', 4.4, 4.2, 4.4, 4.6, 4.2, 4.5, '', '', '', '', '', '', '', '39.8 inches', '40.9 inches', '3', '13.1 inches', '232.0 inches', '65.9 inches', '', '45.5 feet', '140.2 inches', '83.5 inches', '', '2 doors', 'Available', '', '', '', '4WD', '410 @ 5600 RPM', '429 @ 4000 rpm', 'V8, HEMI, 6.4 Liter', '3 years / 36000 miles', '5 years / 60000 miles', '5 years / 100000 miles']\n",
      "[5.0, 5.0, 5.0, 4.5, 5.0, 5.0]\n",
      "['2020 Ram ProMaster Window Van', 5.0, 5.0, 5.0, 4.5, 5.0, 5.0, '\\nTall roof allows for maximum interior space\\nFront-wheel drive for improved traction & low floor height\\nPowerful standard V6 engine\\nTight turning diameter\\n\\n', '\\nNo diesel engine option\\nNo all-wheel-drive option\\nNo passenger version\\nNo active driver-safety systems\\n\\n', '\\nFactory-installed trailer hitch w/max 6,800-pound tow rating\\nThree new 136-inch wheelbase models: 2500 standard roof & 3500 standard-and high-roof\\n\\n', '', '', '', '', '', '', '2', '6.9 inches', '236.2 inches', '', '', '46.8 feet', '159.0 inches', '97.6 inches', 'Available', '3 doors', '', '', '', '', 'FWD', '280 @ 6400 RPM', '260 @ 4400 rpm', 'V6, VVT, 3.6 Liter', '3 years / 36000 miles', '5 years / 60000 miles', '5 years / 60000 miles']\n",
      "[3.9, 4.2, 3.6, 4.1, 3.6, 4.1]\n",
      "['2020 Ram 3500 Regular Cab', 3.9, 4.2, 3.6, 4.1, 3.6, 4.1, '', '', '', '', '', '', '', '39.8 inches', '40.9 inches', '3', '13.3 inches', '232.0 inches', '65.9 inches', '', '', '140.2 inches', '', 'Available', '2 doors', '', '', '', '', '4WD', '370 @ 2800 RPM', '850 @ 1700 rpm', '6-Cyl, Turbo Diesel, 6.7 Liter', '3 years / 36000 miles', '5 years / 100000 miles', '5 years / 100000 miles']\n",
      "[3.9, 4.2, 3.6, 4.1, 3.6, 4.1]\n",
      "['2020 Ram 3500 Mega Cab', 3.9, 4.2, 3.6, 4.1, 3.6, 4.1, '', '', '', '', '', '', '', '40.9 inches', '40.9 inches', '6', '13.1 inches', '249.9 inches', '65.9 inches', '', '', '160.4 inches', '83.5 inches', 'Available', '4 doors', 'Available', '', '', '', '4WD', '400 @ 2800 RPM', '1000 @ 1800 rpm', '6-Cyl, Turbo Diesel, 6.7 Liter', '3 years / 36000 miles', '5 years / 100000 miles', '5 years / 100000 miles']\n",
      "[4.4, 4.5, 4.4, 4.7, 4.5, 4.7]\n",
      "['2019 Ram 1500 Quad Cab', 4.4, 4.5, 4.4, 4.7, 4.5, 4.7, '\\nChoice of three powertrains, including two mild hybrids\\nPremium interior with variety of themes\\nTech-centric features like 12-inch infotainment screen\\nComfortable ride and handling\\n\\n', '\\nTow rating maxes out at 12,750 pounds – slightly less than Ford F-150\\nFewer towing-specific features\\n\\n', '\\n2019 Ram 1500 is all-new from the ground up\\n\\n', '', '', '', '', '41.0 inches', '41.0 inches', '6', '', '229.0 inches', '66.0 inches', '', '45.1 feet', '140.5 inches', '79.4 inches', '', '4 doors', '', '17 mpg', '25 mpg', '20 mpg', '2WD', '', '', 'V6, VVT, eTorque, 3.6 Liter', '3 years / 36000 miles', '5 years / 100000 miles', '5 years / 100000 miles']\n",
      "[4.4, 4.5, 4.4, 4.7, 4.5, 4.7]\n",
      "['2019 Ram 1500 Crew Cab', 4.4, 4.5, 4.4, 4.7, 4.5, 4.7, '\\nChoice of three powertrains, including two mild hybrids\\nPremium interior with variety of themes\\nTech-centric features like 12-inch infotainment screen\\nComfortable ride and handling\\n\\n', '\\nTow rating maxes out at 12,750 pounds – slightly less than Ford F-150\\nFewer towing-specific features\\n\\n', '\\n2019 Ram 1500 is all-new from the ground up\\n\\n', '', '', '', '', '40.9 inches', '40.9 inches', '6', '', '241.8 inches', '66.0 inches', '', '', '153.5 inches', '82.1 inches', 'Available', '4 doors', '', '15 mpg', '21 mpg', '17 mpg', '4WD', '395 @ 5600 RPM', '410 @ 3950 rpm', 'V8, HEMI, 5.7 Liter', '3 years / 36000 miles', '5 years / 100000 miles', '5 years / 100000 miles']\n",
      "[4.4, 4.2, 4.4, 4.6, 4.2, 4.5]\n",
      "['2019 Ram 2500 Regular Cab', 4.4, 4.2, 4.4, 4.6, 4.2, 4.5, 'The 2019 Ram Heavy Duty offers fantastic towing and payload capability in a civilized, luxurious truck. There’s no shortage of available high-tech or high-luxe features — including a massive 12-inch touch screen — and the interiors are as plush as you can get in a truck.\\n', 'The 2020 Chevy Silverado HD promises a higher maximum towing capacity, and we don’t yet know the full details of the Ford F-Series Super Duty, so you may want to research the new competition before choosing a heavy-duty truck. For a truck that’s so capable, the Ram Heavy Duty’s ride is pleasant, and the interior is quiet. But if you don’t need to tow more than 10,000 pounds, consider a smaller, lighter, less expensive, more comfortable half-ton instead.\\n', 'The truck is all-new for 2019, with a stronger and stiffer frame, major suspension redesign, new transmission, dramatically updated turbodiesel engine, next-level luxury interior choices, and eye-catching styling. It’s also the most capable Ram Heavy Duty ever, able to tow over 35,000 pounds and carry nearly 8,000 pounds of payload.\\n', '', '', '', '', '39.8 inches', '40.9 inches', '3', '', '232.0 inches', '65.9 inches', '', '', '140.2 inches', '83.5 inches', '', '2 doors', 'Available', '', '', '', '4WD', '410 @ 5600 RPM', '429 @ 4000 rpm', 'V8, HEMI, 6.4 Liter', '3 years / 36000 miles', '5 years / 60000 miles', '5 years / 100000 miles']\n",
      "[4.4, 4.2, 4.4, 4.6, 4.2, 4.5]\n",
      "['2019 Ram 2500 Crew Cab', 4.4, 4.2, 4.4, 4.6, 4.2, 4.5, 'The 2019 Ram Heavy Duty offers fantastic towing and payload capability in a civilized, luxurious truck. There’s no shortage of available high-tech or high-luxe features — including a massive 12-inch touch screen — and the interiors are as plush as you can get in a truck.\\n', 'The 2020 Chevy Silverado HD promises a higher maximum towing capacity, and we don’t yet know the full details of the Ford F-Series Super Duty, so you may want to research the new competition before choosing a heavy-duty truck. For a truck that’s so capable, the Ram Heavy Duty’s ride is pleasant, and the interior is quiet. But if you don’t need to tow more than 10,000 pounds, consider a smaller, lighter, less expensive, more comfortable half-ton instead.\\n', 'The truck is all-new for 2019, with a stronger and stiffer frame, major suspension redesign, new transmission, dramatically updated turbodiesel engine, next-level luxury interior choices, and eye-catching styling. It’s also the most capable Ram Heavy Duty ever, able to tow over 35,000 pounds and carry nearly 8,000 pounds of payload.\\n', '', '', '', '', '40.9 inches', '40.9 inches', '6', '13.1 inches', '238.8 inches', '65.9 inches', '', '', '149.0 inches', '83.5 inches', 'Available', '4 doors', 'Available', '', '', '', '4WD', '370 @ 2800 RPM', '850 @ 1700 rpm', '6-Cyl, Turbo Diesel, 6.7 Liter', '3 years / 36000 miles', '5 years / 60000 miles', '5 years / Unlimited miles']\n"
     ]
    },
    {
     "name": "stdout",
     "output_type": "stream",
     "text": [
      "[3.9, 4.2, 3.6, 4.1, 3.6, 4.1]\n",
      "['2019 Ram 3500 Regular Cab', 3.9, 4.2, 3.6, 4.1, 3.6, 4.1, 'The 2019 Ram Heavy Duty offers fantastic towing and payload capability in a civilized, luxurious truck. There’s no shortage of available high-tech or high-luxe features — including a massive 12-inch touch screen — and the interiors are as plush as you can get in a truck.\\n', 'The 2020 Chevy Silverado HD promises a higher maximum towing capacity, and we don’t yet know the full details of the Ford F-Series Super Duty, so you may want to research the new competition before choosing a heavy-duty truck. For a truck that’s so capable, the Ram Heavy Duty’s ride is pleasant, and the interior is quiet. But if you don’t need to tow more than 10,000 pounds, consider a smaller, lighter, less expensive, more comfortable half-ton instead.\\n', 'The truck is all-new for 2019, with a stronger and stiffer frame, major suspension redesign, new transmission, dramatically updated turbodiesel engine, next-level luxury interior choices, and eye-catching styling. It’s also the most capable Ram Heavy Duty ever, able to tow over 35,000 pounds and carry nearly 8,000 pounds of payload.\\n', '', '', '', '', '39.8 inches', '40.9 inches', '3', '13.3 inches', '232.0 inches', '65.9 inches', '', '', '140.2 inches', '', 'Available', '2 doors', 'Available', '', '', '', '4WD', '370 @ 2800 RPM', '850 @ 1700 rpm', '6-Cyl, Turbo Diesel, 6.7 Liter', '3 years / 36000 miles', '5 years / 100000 miles', '5 years / 100000 miles']\n",
      "[4.4, 4.2, 4.4, 4.6, 4.2, 4.5]\n",
      "['2019 Ram 2500 Mega Cab', 4.4, 4.2, 4.4, 4.6, 4.2, 4.5, 'The 2019 Ram Heavy Duty offers fantastic towing and payload capability in a civilized, luxurious truck. There’s no shortage of available high-tech or high-luxe features — including a massive 12-inch touch screen — and the interiors are as plush as you can get in a truck.\\n', 'The 2020 Chevy Silverado HD promises a higher maximum towing capacity, and we don’t yet know the full details of the Ford F-Series Super Duty, so you may want to research the new competition before choosing a heavy-duty truck. For a truck that’s so capable, the Ram Heavy Duty’s ride is pleasant, and the interior is quiet. But if you don’t need to tow more than 10,000 pounds, consider a smaller, lighter, less expensive, more comfortable half-ton instead.\\n', 'The truck is all-new for 2019, with a stronger and stiffer frame, major suspension redesign, new transmission, dramatically updated turbodiesel engine, next-level luxury interior choices, and eye-catching styling. It’s also the most capable Ram Heavy Duty ever, able to tow over 35,000 pounds and carry nearly 8,000 pounds of payload.\\n', '', '', '', '', '40.9 inches', '40.9 inches', '6', '13.1 inches', '249.9 inches', '65.9 inches', '', '', '160.0 inches', '', 'Available', '4 doors', 'Available', '', '', '', '4WD', '370 @ 2800 RPM', '850 @ 1700 rpm', '6-Cyl, Turbo Diesel, 6.7 Liter', '3 years / 36000 miles', '5 years / 60000 miles', '3 years / Unlimited miles']\n",
      "[3.9, 4.2, 3.6, 4.1, 3.6, 4.1]\n",
      "['2019 Ram 3500 Crew Cab', 3.9, 4.2, 3.6, 4.1, 3.6, 4.1, 'The 2019 Ram Heavy Duty offers fantastic towing and payload capability in a civilized, luxurious truck. There’s no shortage of available high-tech or high-luxe features — including a massive 12-inch touch screen — and the interiors are as plush as you can get in a truck.\\n', 'The 2020 Chevy Silverado HD promises a higher maximum towing capacity, and we don’t yet know the full details of the Ford F-Series Super Duty, so you may want to research the new competition before choosing a heavy-duty truck. For a truck that’s so capable, the Ram Heavy Duty’s ride is pleasant, and the interior is quiet. But if you don’t need to tow more than 10,000 pounds, consider a smaller, lighter, less expensive, more comfortable half-ton instead.\\n', 'The truck is all-new for 2019, with a stronger and stiffer frame, major suspension redesign, new transmission, dramatically updated turbodiesel engine, next-level luxury interior choices, and eye-catching styling. It’s also the most capable Ram Heavy Duty ever, able to tow over 35,000 pounds and carry nearly 8,000 pounds of payload.\\n', '', '', '', '6728 lbs.', '40.9 inches', '40.9 inches', '6', '', '237.3 inches', '65.9 inches', '', '43.9 feet', '149.5 inches', '83.5 inches', '', '4 doors', '', '', '', '', '4WD', '370 @ 2800 RPM', '850 @ 1700 rpm', '6-Cyl, Turbo Diesel, 6.7 Liter', '3 years / 36000 miles', '5 years / 60000 miles', '5 years / 100000 miles']\n",
      "[3.9, 4.2, 3.6, 4.1, 3.6, 4.1]\n",
      "['2019 Ram 3500 Mega Cab', 3.9, 4.2, 3.6, 4.1, 3.6, 4.1, 'The 2019 Ram Heavy Duty offers fantastic towing and payload capability in a civilized, luxurious truck. There’s no shortage of available high-tech or high-luxe features — including a massive 12-inch touch screen — and the interiors are as plush as you can get in a truck.\\n', 'The 2020 Chevy Silverado HD promises a higher maximum towing capacity, and we don’t yet know the full details of the Ford F-Series Super Duty, so you may want to research the new competition before choosing a heavy-duty truck. For a truck that’s so capable, the Ram Heavy Duty’s ride is pleasant, and the interior is quiet. But if you don’t need to tow more than 10,000 pounds, consider a smaller, lighter, less expensive, more comfortable half-ton instead.\\n', 'The truck is all-new for 2019, with a stronger and stiffer frame, major suspension redesign, new transmission, dramatically updated turbodiesel engine, next-level luxury interior choices, and eye-catching styling. It’s also the most capable Ram Heavy Duty ever, able to tow over 35,000 pounds and carry nearly 8,000 pounds of payload.\\n', '', '', '', '', '40.9 inches', '40.9 inches', '6', '13.1 inches', '249.9 inches', '65.9 inches', '', '', '160.4 inches', '83.5 inches', 'Available', '4 doors', 'Available', '', '', '', '4WD', '400 @ 2800 RPM', '1000 @ 1800 rpm', '6-Cyl, Turbo Diesel, 6.7 Liter', '3 years / 36000 miles', '5 years / 100000 miles', '5 years / 100000 miles']\n",
      "[4.6, 4.7, 4.5, 4.7, 4.6, 4.7]\n",
      "['2019 Ram 1500 Classic Regular Cab', 4.6, 4.7, 4.5, 4.7, 4.6, 4.7, 'If you want a proven full-size pickup that rides smoothly and packs plenty of power, you’ll like the 2019 Ram 1500 Classic. Also, the upcoming diesel should offer class-leading fuel economy, while the Hemi V8 continues to be one of the most powerful engines in the segment.\\n', 'If you plan to do some heavy towing, the Ram 1500 Classic comes up short against the Ford F-150 and Chevy Silverado, both of which have higher towing capacities.\\n', 'The 2019 Ram 1500 Classic is a continuation of last year’s Ram pickup, so little has changed for the new model year. But with items such as LED bed lights, a rearview camera, an 8.4-inch touch screen, onboard Wi-Fi and Apple CarPlay/Android Auto, the Ram 1500 Classic is by no means a dinosaur.\\n', '', '', '', '', '39.9 inches', '41.0 inches', '3', '', '209.0 inches', '66.0 inches', '', '39.5 feet', '120.5 inches', '79.4 inches', 'Available', '2 doors', '', '15 mpg', '22 mpg', '17 mpg', '2WD', '395 @ 5600 RPM', '410 @ 3950 rpm', 'V8, HEMI, 5.7 Liter', '3 years / 36000 miles', '5 years / 100000 miles', '5 years / 100000 miles']\n",
      "[4.6, 4.7, 4.5, 4.7, 4.6, 4.7]\n",
      "['2019 Ram 1500 Classic Crew Cab', 4.6, 4.7, 4.5, 4.7, 4.6, 4.7, 'If you want a proven full-size pickup that rides smoothly and packs plenty of power, you’ll like the 2019 Ram 1500 Classic. Also, the upcoming diesel should offer class-leading fuel economy, while the Hemi V8 continues to be one of the most powerful engines in the segment.\\n', 'If you plan to do some heavy towing, the Ram 1500 Classic comes up short against the Ford F-150 and Chevy Silverado, both of which have higher towing capacities.\\n', 'The 2019 Ram 1500 Classic is a continuation of last year’s Ram pickup, so little has changed for the new model year. But with items such as LED bed lights, a rearview camera, an 8.4-inch touch screen, onboard Wi-Fi and Apple CarPlay/Android Auto, the Ram 1500 Classic is by no means a dinosaur.\\n', '', '', '', '', '41.0 inches', '41.0 inches', '5', '', '237.9 inches', '66.0 inches', '', '45.4 feet', '149.5 inches', '79.4 inches', 'Available', '4 doors', '', '15 mpg', '21 mpg', '17 mpg', '4WD', '395 @ 5600 RPM', '410 @ 3950 rpm', 'V8, HEMI, 5.7 Liter', '3 years / 36000 miles', '5 years / 100000 miles', '5 years / 100000 miles']\n"
     ]
    },
    {
     "name": "stdout",
     "output_type": "stream",
     "text": [
      "[4.6, 4.7, 4.5, 4.7, 4.6, 4.7]\n",
      "['2019 Ram 1500 Classic Quad Cab', 4.6, 4.7, 4.5, 4.7, 4.6, 4.7, 'If you want a proven full-size pickup that rides smoothly and packs plenty of power, you’ll like the 2019 Ram 1500 Classic. Also, the upcoming diesel should offer class-leading fuel economy, while the Hemi V8 continues to be one of the most powerful engines in the segment.\\n', 'If you plan to do some heavy towing, the Ram 1500 Classic comes up short against the Ford F-150 and Chevy Silverado, both of which have higher towing capacities.\\n', 'The 2019 Ram 1500 Classic is a continuation of last year’s Ram pickup, so little has changed for the new model year. But with items such as LED bed lights, a rearview camera, an 8.4-inch touch screen, onboard Wi-Fi and Apple CarPlay/Android Auto, the Ram 1500 Classic is by no means a dinosaur.\\n', '', '', '', '', '41.0 inches', '41.0 inches', '6', '', '229.0 inches', '66.0 inches', '', '45.4 feet', '140.5 inches', '79.4 inches', 'Available', '4 doors', '', '15 mpg', '21 mpg', '17 mpg', '4WD', '395 @ 5600 RPM', '410 @ 3950 rpm', 'V8, HEMI, 5.7 Liter', '3 years / 36000 miles', '5 years / 100000 miles', '5 years / 100000 miles']\n",
      "[3.2, 3.5, 3.1, 3.3, 3.2, 3.3]\n",
      "['2019 Ram ProMaster City', 3.2, 3.5, 3.1, 3.3, 3.2, 3.3, 'If your needs, budget and space require a smaller cargo van but you still want some grunt with your practicality, you’ll appreciate the Ram ProMaster City’s 1,883-pound payload capacity and 131.7 cubic feet of cargo room.\\n', 'While pricier and larger, the Mercedes Metris has more power, more room, is rear-wheel drive and rated to tow up to 5,000 pounds. The Ford Transit Connect offers long- and short-wheelbase variants, has fresher technology like Apple CarPlay integration, and its passenger version is plusher than the Ram and can seat up to seven.\\n', 'The Ram ProMaster City sees only minor changes for the 2019 model year, such as exterior styling tweaks that include RAM lettering in the front grille. The van now offers Ram Telematics, a system that works in partnership with Verizon and allows vehicle data, monitoring and diagnostics for fleets.\\n', '', '', '', '3682 lbs.', '45.8 inches', '40.8 inches', '5', '5.2 inches', '187.1 inches', '59.3 inches', '101.7 cu.ft.', '42.0 feet', '122.4 inches', '84.6 inches', '', '4 doors', '', '21 mpg', '28 mpg', '24 mpg', 'FWD', '178 @ 6400 RPM', '174 @ 3800 rpm', '4-Cyl, 2.4 Liter', '3 years / 36000 miles', '5 years / 60000 miles', '5 years / Unlimited miles']\n",
      "[3.5, 3.5, 3.5, 3.6, 3.6, 3.8]\n",
      "['2019 Ram ProMaster Cargo Van', 3.5, 3.5, 3.5, 3.6, 3.6, 3.8, 'Equipped with a muscular American V6 here in the States, the European-derived Ram ProMaster offers the size, power and capability required of a rugged work truck. Its tight turning radius and best-in-class payload make it ideal as a work van, delivery truck or even the base for an RV conversion.\\n', 'The ProMaster doesn’t offer a passenger version, and it loses its diesel engine this year, two features you can still find in a Ford or Mercedes-Benz showroom. A V6-powered Nissan NV costs less than a similar ProMaster, offers the option of a V8 plus a better warranty.\\n', 'For 2019, the ProMaster line expands the number of models riding on the 136-inch wheelbase, and offers both high and low roofs on the 2500 and 3500 models. Both payload and towing are improved this year, as is the ProMaster’s redesigned front nose/grille. The 3.0-liter EcoDiesel has been dropped.\\n', '', '', '', '', '', '', '3', '6.9 inches', '213.2 inches', '', '', '40.7 feet', '136.0 inches', '97.6 inches', 'Available', '3 doors', '', '', '', '', 'FWD', '280 @ 6400 RPM', '260 @ 4400 rpm', 'V6, VVT, 3.6 Liter', '3 years / 36000 miles', '5 years / 60000 miles', '5 years / 60000 miles']\n",
      "[5.0, 5.0, 5.0, 4.5, 5.0, 5.0]\n",
      "['2019 Ram ProMaster Window Van', 5.0, 5.0, 5.0, 4.5, 5.0, 5.0, 'Equipped with a muscular American V6 here in the States, the European-derived Ram ProMaster offers the size, power and capability required of a rugged work truck. Its tight turning radius and best-in-class payload make it ideal as a work van, delivery truck or even the base for an RV conversion.\\n', 'The ProMaster doesn’t offer a passenger version, and it loses its diesel engine this year, two features you can still find in a Ford or Mercedes-Benz showroom. A V6-powered Nissan NV costs less than a similar ProMaster, offers the option of a V8 plus a better warranty.\\n', 'For 2019, the ProMaster line expands the number of models riding on the 136-inch wheelbase, and offers both high and low roofs on the 2500 and 3500 models. Both payload and towing are improved this year, as is the ProMaster’s redesigned front nose/grille. The 3.0-liter EcoDiesel has been dropped.\\n', '', '', '', '', '', '', '2', '6.9 inches', '236.2 inches', '', '', '46.8 feet', '159.0 inches', '97.6 inches', 'Available', '3 doors', '', '', '', '', 'FWD', '280 @ 6400 RPM', '260 @ 4400 rpm', 'V6, VVT, 3.6 Liter', '3 years / 36000 miles', '5 years / 60000 miles', '5 years / 60000 miles']\n",
      "[4.6, 4.7, 4.5, 4.7, 4.6, 4.7]\n",
      "['2018 Ram 1500 Regular Cab', 4.6, 4.7, 4.5, 4.7, 4.6, 4.7, 'If you want a capable, comfortable and luxurious full-size pickup that looks tough, rides smooth and packs plenty of power, you’ll like the new 2018 Ram 1500. Until the Ford F-150 diesel comes out this fall, the Ram is the only half-ton truck to offer diesel power, which delivers class-leading fuel economy, and its Hemi V8 is one of the most powerful engines available in the segment.\\n', 'If you’re shopping for the ultimate tow rig, the 2018 Ram 1500 will disappoint. Both the Ford F-150 and Chevy Silverado have higher towing capacities. The Ford also offers more tow technology, like an advanced trailer-back-up assistance system, and the Chevy’s 6.2-liter V8 is larger and more powerful than the Ram’s optional Hemi.\\n', 'For 2018 the Ram 1500 has been improved with a switch in the truck bed to activate LED bed lights. A rearview camera is now standard on all models and the 8.4-inch touch screen has been improved with greater resolution, pinch-to-zoom, 4G LTE onboard Wi-Fi, HD Radio, Android Auto and Apple Car Play.\\n', '', '', '', '', '39.9 inches', '41.0 inches', '3', '', '209.0 inches', '66.0 inches', '', '39.5 feet', '120.5 inches', '79.4 inches', 'Available', '2 doors', '', '15 mpg', '22 mpg', '17 mpg', '2WD', '395 @ 5600 RPM', '410 @ 3950 rpm', 'V8, HEMI, 5.7 Liter', '3 years / 36000 miles', '5 years / 100000 miles', '5 years / 100000 miles']\n",
      "[4.6, 4.7, 4.5, 4.7, 4.6, 4.7]\n",
      "['2018 Ram 1500 Crew Cab', 4.6, 4.7, 4.5, 4.7, 4.6, 4.7, 'If you want a capable, comfortable and luxurious full-size pickup that looks tough, rides smooth and packs plenty of power, you’ll like the new 2018 Ram 1500. Until the Ford F-150 diesel comes out this fall, the Ram is the only half-ton truck to offer diesel power, which delivers class-leading fuel economy, and its Hemi V8 is one of the most powerful engines available in the segment.\\n', 'If you’re shopping for the ultimate tow rig, the 2018 Ram 1500 will disappoint. Both the Ford F-150 and Chevy Silverado have higher towing capacities. The Ford also offers more tow technology, like an advanced trailer-back-up assistance system, and the Chevy’s 6.2-liter V8 is larger and more powerful than the Ram’s optional Hemi.\\n', 'For 2018 the Ram 1500 has been improved with a switch in the truck bed to activate LED bed lights. A rearview camera is now standard on all models and the 8.4-inch touch screen has been improved with greater resolution, pinch-to-zoom, 4G LTE onboard Wi-Fi, HD Radio, Android Auto and Apple Car Play.\\n', '', '', '', '', '41.0 inches', '41.0 inches', '5', '', '237.9 inches', '66.0 inches', '', '45.4 feet', '149.4 inches', '79.4 inches', 'Available', '4 doors', '', '15 mpg', '21 mpg', '17 mpg', '4WD', '395 @ 5600 RPM', '410 @ 3950 rpm', 'V8, HEMI, 5.7 Liter', '3 years / 36000 miles', '5 years / 100000 miles', '5 years / 100000 miles']\n",
      "[4.6, 4.7, 4.5, 4.7, 4.6, 4.7]\n",
      "['2018 Ram 1500 Quad Cab', 4.6, 4.7, 4.5, 4.7, 4.6, 4.7, 'If you want a capable, comfortable and luxurious full-size pickup that looks tough, rides smooth and packs plenty of power, you’ll like the new 2018 Ram 1500. Until the Ford F-150 diesel comes out this fall, the Ram is the only half-ton truck to offer diesel power, which delivers class-leading fuel economy, and its Hemi V8 is one of the most powerful engines available in the segment.\\n', 'If you’re shopping for the ultimate tow rig, the 2018 Ram 1500 will disappoint. Both the Ford F-150 and Chevy Silverado have higher towing capacities. The Ford also offers more tow technology, like an advanced trailer-back-up assistance system, and the Chevy’s 6.2-liter V8 is larger and more powerful than the Ram’s optional Hemi.\\n', 'For 2018 the Ram 1500 has been improved with a switch in the truck bed to activate LED bed lights. A rearview camera is now standard on all models and the 8.4-inch touch screen has been improved with greater resolution, pinch-to-zoom, 4G LTE onboard Wi-Fi, HD Radio, Android Auto and Apple Car Play.\\n', '', '', '', '', '41.0 inches', '41.0 inches', '6', '', '229.0 inches', '66.0 inches', '', '45.4 feet', '140.5 inches', '79.4 inches', 'Available', '4 doors', '', '15 mpg', '21 mpg', '17 mpg', '4WD', '395 @ 5600 RPM', '410 @ 3950 rpm', 'V8, HEMI, 5.7 Liter', '3 years / 36000 miles', '5 years / 100000 miles', '5 years / 100000 miles']\n"
     ]
    },
    {
     "name": "stdout",
     "output_type": "stream",
     "text": [
      "[4.4, 4.4, 4.4, 4.5, 4.4, 4.7]\n",
      "['2018 Ram 2500 Regular Cab', 4.4, 4.4, 4.4, 4.5, 4.4, 4.7, 'Along with its impressive towing, payload and passenger capabilities, the 2018 Ram HD pickup line offers some of the most luxurious and comfortable cabins ever put in a truck. Of course, there are models for those who need their truck to take a beating, too.\\n', 'If best-in-class resale and reliability ratings are a concern, you may have a hard time leaving the Ford or Chevy camp for Ram. If you’re seeking a diesel truck but don’t need the size or price of a heavy-duty pickup, a Ford F-150 or Nissan Titan XD makes a better option.\\n', 'Changes to the 2018 Ram 2500 and 3500 HD pickups include the addition of a new luxury Limited Tungsten trim, updated 8.4-inch Uconnect infotainment system, standard rearview monitor, remote exterior switch for LED bed lights and a new Fleet Telematics Module for tracking efficiency.\\n', '', '', '', '', '39.9 inches', '41.0 inches', '3', '7.4 inches', '231.0 inches', '66.0 inches', '', '41.6 feet', '140.0 inches', '78.9 inches', '', '2 doors', '', '', '', '', '4WD', '410 @ 5600 RPM', '429 @ 4000 rpm', 'V8, HEMI, 6.4 Liter', '3 years / 36000 miles', '5 years / 60000 miles', '3 years / Unlimited miles']\n",
      "[4.4, 4.4, 4.4, 4.5, 4.4, 4.7]\n",
      "['2018 Ram 2500 Crew Cab', 4.4, 4.4, 4.4, 4.5, 4.4, 4.7, 'Along with its impressive towing, payload and passenger capabilities, the 2018 Ram HD pickup line offers some of the most luxurious and comfortable cabins ever put in a truck. Of course, there are models for those who need their truck to take a beating, too.\\n', 'If best-in-class resale and reliability ratings are a concern, you may have a hard time leaving the Ford or Chevy camp for Ram. If you’re seeking a diesel truck but don’t need the size or price of a heavy-duty pickup, a Ford F-150 or Nissan Titan XD makes a better option.\\n', 'Changes to the 2018 Ram 2500 and 3500 HD pickups include the addition of a new luxury Limited Tungsten trim, updated 8.4-inch Uconnect infotainment system, standard rearview monitor, remote exterior switch for LED bed lights and a new Fleet Telematics Module for tracking efficiency.\\n', '', '', '', '', '41.0 inches', '41.0 inches', '6', '', '259.4 inches', '66.0 inches', '', '49.2 feet', '168.9 inches', '79.1 inches', '', '4 doors', '', '', '', '', '4WD', '350 @ 2800 RPM', '660 @ 1400 rpm', '6-Cyl, Turbo Dsl, 6.7L', '3 years / 36000 miles', '5 years / 60000 miles', '5 years / Unlimited miles']\n",
      "[4.6, 4.7, 4.5, 4.5, 4.6, 4.8]\n",
      "['2018 Ram 3500 Regular Cab', 4.6, 4.7, 4.5, 4.5, 4.6, 4.8, 'Along with its impressive towing, payload and passenger capabilities, the 2018 Ram HD pickup line offers some of the most luxurious and comfortable cabins ever put in a truck. Of course, there are models for those who need their truck to take a beating, too.\\n', 'If best-in-class resale and reliability ratings are a concern, you may have a hard time leaving the Ford or Chevy camp for Ram. If you’re seeking a diesel truck but don’t need the size or price of a heavy-duty pickup, a Ford F-150 or Nissan Titan XD makes a better option.\\n', 'Changes to the 2018 Ram 2500 and 3500 HD pickups include the addition of a new luxury Limited Tungsten trim, updated 8.4-inch Uconnect infotainment system, standard rearview monitor, remote exterior switch for LED bed lights and a new Fleet Telematics Module for tracking efficiency.\\n', '', '', '', '', '39.9 inches', '41.0 inches', '3', '', '230.4 inches', '66.0 inches', '', '41.6 feet', '140.5 inches', '', 'Available', '2 doors', '', '', '', '', '4WD', '350 @ 2800 RPM', '660 @ 1500 rpm', '6-Cyl, Turbo Diesel, 6.7 Liter', '3 years / 36000 miles', '5 years / 100000 miles', '5 years / 100000 miles']\n",
      "[4.6, 4.7, 4.5, 4.5, 4.6, 4.8]\n",
      "['2018 Ram 3500 Crew Cab', 4.6, 4.7, 4.5, 4.5, 4.6, 4.8, 'Along with its impressive towing, payload and passenger capabilities, the 2018 Ram HD pickup line offers some of the most luxurious and comfortable cabins ever put in a truck. Of course, there are models for those who need their truck to take a beating, too.\\n', 'If best-in-class resale and reliability ratings are a concern, you may have a hard time leaving the Ford or Chevy camp for Ram. If you’re seeking a diesel truck but don’t need the size or price of a heavy-duty pickup, a Ford F-150 or Nissan Titan XD makes a better option.\\n', 'Changes to the 2018 Ram 2500 and 3500 HD pickups include the addition of a new luxury Limited Tungsten trim, updated 8.4-inch Uconnect infotainment system, standard rearview monitor, remote exterior switch for LED bed lights and a new Fleet Telematics Module for tracking efficiency.\\n', '', '', '', '', '41.0 inches', '41.0 inches', '6', '8.6 inches', '237.3 inches', '66.0 inches', '', '43.9 feet', '149.5 inches', '79.1 inches', '', '4 doors', '', '', '', '', '4WD', '350 @ 2800 RPM', '800 @ 1600 rpm', '6-Cyl, Turbo Dsl, 6.7L', '3 years / 36000 miles', '5 years / 100000 miles', '5 years / Unlimited miles']\n",
      "[4.4, 4.4, 4.4, 4.5, 4.4, 4.7]\n",
      "['2018 Ram 2500 Mega Cab', 4.4, 4.4, 4.4, 4.5, 4.4, 4.7, 'Along with its impressive towing, payload and passenger capabilities, the 2018 Ram HD pickup line offers some of the most luxurious and comfortable cabins ever put in a truck. Of course, there are models for those who need their truck to take a beating, too.\\n', 'If best-in-class resale and reliability ratings are a concern, you may have a hard time leaving the Ford or Chevy camp for Ram. If you’re seeking a diesel truck but don’t need the size or price of a heavy-duty pickup, a Ford F-150 or Nissan Titan XD makes a better option.\\n', 'Changes to the 2018 Ram 2500 and 3500 HD pickups include the addition of a new luxury Limited Tungsten trim, updated 8.4-inch Uconnect infotainment system, standard rearview monitor, remote exterior switch for LED bed lights and a new Fleet Telematics Module for tracking efficiency.\\n', '', '', '', '', '41.0 inches', '41.0 inches', '6', '7.7 inches', '248.4 inches', '66.0 inches', '', '46.9 feet', '160.0 inches', '79.1 inches', 'Available', '4 doors', '', '', '', '', '4WD', '350 @ 2800 RPM', '660 @ 1400 rpm', '6-Cyl, Turbo Diesel, 6.7 Liter', '3 years / 36000 miles', '5 years / 100000 miles', '3 years / 36000 miles']\n",
      "[4.6, 4.7, 4.5, 4.5, 4.6, 4.8]\n",
      "['2018 Ram 3500 Mega Cab', 4.6, 4.7, 4.5, 4.5, 4.6, 4.8, 'Along with its impressive towing, payload and passenger capabilities, the 2018 Ram HD pickup line offers some of the most luxurious and comfortable cabins ever put in a truck. Of course, there are models for those who need their truck to take a beating, too.\\n', 'If best-in-class resale and reliability ratings are a concern, you may have a hard time leaving the Ford or Chevy camp for Ram. If you’re seeking a diesel truck but don’t need the size or price of a heavy-duty pickup, a Ford F-150 or Nissan Titan XD makes a better option.\\n', 'Changes to the 2018 Ram 2500 and 3500 HD pickups include the addition of a new luxury Limited Tungsten trim, updated 8.4-inch Uconnect infotainment system, standard rearview monitor, remote exterior switch for LED bed lights and a new Fleet Telematics Module for tracking efficiency.\\n', '', '', '', '', '41.0 inches', '41.0 inches', '6', '8.7 inches', '248.4 inches', '66.0 inches', '', '46.9 feet', '160.4 inches', '79.1 inches', 'Available', '4 doors', '', '', '', '', '4WD', '350 @ 2800 RPM', '660 @ 1500 rpm', '6-Cyl, Turbo Diesel, 6.7 Liter', '3 years / 36000 miles', '5 years / 100000 miles', '5 years / 100000 miles']\n",
      "[3.2, 3.5, 3.1, 3.3, 3.2, 3.3]\n",
      "['2018 Ram ProMaster City', 3.2, 3.5, 3.1, 3.3, 3.2, 3.3, '…you’re a plumber, or an electrician, florist, HVAC technician, or some other small business that needs to operate in a big city. The ProMaster City is a class leader for payload and cargo capacity, while the passenger version makes an interesting substitute for a wagon or small SUV.\\n', '…you need to keep a tight rein on the company finances. The ProMaster City is not the cheapest new Class 1 van out there (that would be the Nissan NV200). And it’s still early days regarding long-term reliability and resale values.\\n', 'Ram’s Uconnect 3 infotainment system with a 5-inch touch screen and Bluetooth joins a rearview camera as standard equipment. Grilles are now available for windows in the sliding side doors and rear doors.\\n', '', '', '', '3635 lbs.', '46.0 inches', '40.8 inches', '5', '5.2 inches', '187.1 inches', '59.3 inches', '101.7 cu.ft.', '42.0 feet', '122.4 inches', '84.6 inches', '', '4 doors', '', '21 mpg', '28 mpg', '24 mpg', 'FWD', '178 @ 6400 RPM', '174 @ 3800 rpm', '4-Cyl, 2.4 Liter', '3 years / 36000 miles', '5 years / 60000 miles', '5 years / Unlimited miles']\n"
     ]
    },
    {
     "name": "stdout",
     "output_type": "stream",
     "text": [
      "[3.5, 3.5, 3.5, 3.6, 3.6, 3.8]\n",
      "['2018 Ram ProMaster Cargo Van', 3.5, 3.5, 3.5, 3.6, 3.6, 3.8, 'With its European origins as the proven Fiat Ducato, the Ram ProMaster impresses with its cavernous body and numerous available configurations. As a delivery vehicle, a work truck, or maybe even the basis for an RV conversion, the ProMaster — aided by a tight turning radius and vertical cargo walls — makes a lot of sense.\\n', 'If you put form over function, the slab-sided van may not be for you. Its beauty lies in its capabilities. Also: If you’re looking for a passenger version, Ram does not offer one (although some companies are installing seats in window versions of the ProMaster).\\n', 'For 2018, Uconnect 5.0 is now standard, along with optional navigation. Integrated Voice Command with Bluetooth, together with audio controls mounted on the steering wheel, is also standard for 2018, as is a rear backup camera on all ProMaster vans (except Chassis Cab and Cutaway models, which get a backup camera kit). Lastly, the right- and optional left-side sliding doors now have a window grate with optional fixed glass.\\n', '', '', '', '', '', '', '3', '6.9 inches', '213.1 inches', '', '', '40.7 feet', '136.0 inches', '98.0 inches', 'Available', '3 doors', '', '', '', '', 'FWD', '280 @ 6400 RPM', '260 @ 4400 rpm', 'V6, VVT, 3.6 Liter', '3 years / 36000 miles', '5 years / 60000 miles', '5 years / Unlimited miles']\n",
      "[5.0, 5.0, 5.0, 4.5, 5.0, 5.0]\n",
      "['2018 Ram ProMaster Window Van', 5.0, 5.0, 5.0, 4.5, 5.0, 5.0, 'With its European origins as the proven Fiat Ducato, the Ram ProMaster impresses with its cavernous body and numerous available configurations. As a delivery vehicle, a work truck, or maybe even the basis for an RV conversion, the ProMaster — aided by a tight turning radius and vertical cargo walls — makes a lot of sense.\\n', 'If you put form over function, the slab-sided van may not be for you. Its beauty lies in its capabilities. Also: If you’re looking for a passenger version, Ram does not offer one (although some companies are installing seats in window versions of the ProMaster).\\n', 'For 2018, Uconnect 5.0 is now standard, along with optional navigation. Integrated Voice Command with Bluetooth, together with audio controls mounted on the steering wheel, is also standard for 2018, as is a rear backup camera on all ProMaster vans (except Chassis Cab and Cutaway models, which get a backup camera kit). Lastly, the right- and optional left-side sliding doors now have a window grate with optional fixed glass.\\n', '', '', '', '5061 lbs.', '', '', '2', '6.9 inches', '250.0 inches', '', '', '46.8 feet', '159.0 inches', '98.0 inches', 'Available', '3 doors', '', '', '', '', 'FWD', '280 @ 6400 RPM', '260 @ 4400 rpm', 'V6, VVT, 3.6 Liter', '3 years / 36000 miles', '5 years / 60000 miles', '5 years / Unlimited miles']\n",
      "[4.6, 4.7, 4.5, 4.7, 4.6, 4.7]\n",
      "['2017 Ram 1500 Regular Cab', 4.6, 4.7, 4.5, 4.7, 4.6, 4.7, 'If you want a pickup with snarling design, smooth driving manners and variety of configurations, the Ram 1500 fits the bill. Though the Nissan Titan can be had with a diesel engine in its larger XD line, the Ram is the only half-ton truck to offer one of the efficient, torque-rich powerplants.\\n', 'Brand loyalties aside, the Ram can’t quite match the towing capacity of the Ford F-150 or Chevrolet Silverado. You’ll also find a more advanced trailer backup-assistance system on the F-150, plus luxurious massaging front seats. Others, especially fleet operators, may be attracted to Nissan Titan’s 5-year/100,000-mile warranty.\\n', 'For 2017, the Ram 1500 Rebel gains more standard equipment such as the 8.4-inch touch-screen Uconnect system, dual-zone climate control and anti-spin differential. Other models receive minor updates across trim levels, with all getting a 5-micron air filter.\\n', '', '', '', '', '39.9 inches', '41.0 inches', '3', '', '209.0 inches', '66.0 inches', '', '39.5 feet', '120.5 inches', '79.4 inches', 'Available', '2 doors', '', '15 mpg', '22 mpg', '17 mpg', '2WD', '395 @ 5600 RPM', '410 @ 3950 rpm', 'V8, HEMI, 5.7 Liter', '3 years / 36000 miles', '5 years / 100000 miles', '5 years / 100000 miles']\n",
      "[4.6, 4.7, 4.5, 4.7, 4.6, 4.7]\n",
      "['2017 Ram 1500 Quad Cab', 4.6, 4.7, 4.5, 4.7, 4.6, 4.7, 'If you want a pickup with snarling design, smooth driving manners and variety of configurations, the Ram 1500 fits the bill. Though the Nissan Titan can be had with a diesel engine in its larger XD line, the Ram is the only half-ton truck to offer one of the efficient, torque-rich powerplants.\\n', 'Brand loyalties aside, the Ram can’t quite match the towing capacity of the Ford F-150 or Chevrolet Silverado. You’ll also find a more advanced trailer backup-assistance system on the F-150, plus luxurious massaging front seats. Others, especially fleet operators, may be attracted to Nissan Titan’s 5-year/100,000-mile warranty.\\n', 'For 2017, the Ram 1500 Rebel gains more standard equipment such as the 8.4-inch touch-screen Uconnect system, dual-zone climate control and anti-spin differential. Other models receive minor updates across trim levels, with all getting a 5-micron air filter.\\n', '', '', '', '', '41.0 inches', '41.0 inches', '6', '', '229.0 inches', '66.0 inches', '', '45.4 feet', '140.5 inches', '79.4 inches', 'Available', '4 doors', '', '15 mpg', '21 mpg', '17 mpg', '4WD', '395 @ 5600 RPM', '410 @ 3950 rpm', 'V8, HEMI, 5.7 Liter', '3 years / 36000 miles', '5 years / 100000 miles', '5 years / 100000 miles']\n",
      "[4.6, 4.7, 4.5, 4.7, 4.6, 4.7]\n",
      "['2017 Ram 1500 Crew Cab', 4.6, 4.7, 4.5, 4.7, 4.6, 4.7, 'If you want a pickup with snarling design, smooth driving manners and variety of configurations, the Ram 1500 fits the bill. Though the Nissan Titan can be had with a diesel engine in its larger XD line, the Ram is the only half-ton truck to offer one of the efficient, torque-rich powerplants.\\n', 'Brand loyalties aside, the Ram can’t quite match the towing capacity of the Ford F-150 or Chevrolet Silverado. You’ll also find a more advanced trailer backup-assistance system on the F-150, plus luxurious massaging front seats. Others, especially fleet operators, may be attracted to Nissan Titan’s 5-year/100,000-mile warranty.\\n', 'For 2017, the Ram 1500 Rebel gains more standard equipment such as the 8.4-inch touch-screen Uconnect system, dual-zone climate control and anti-spin differential. Other models receive minor updates across trim levels, with all getting a 5-micron air filter.\\n', '', '', '', '', '41.0 inches', '41.0 inches', '5', '', '237.9 inches', '66.0 inches', '', '45.4 feet', '149.4 inches', '79.4 inches', '', '4 doors', '', '15 mpg', '21 mpg', '17 mpg', '4WD', '395 @ 5600 RPM', '410 @ 3950 rpm', 'V8, HEMI, 5.7 Liter', '3 years / 36000 miles', '5 years / 100000 miles', '5 years / 100000 miles']\n",
      "[4.4, 4.4, 4.4, 4.5, 4.4, 4.7]\n",
      "['2017 Ram 2500 Regular Cab', 4.4, 4.4, 4.4, 4.5, 4.4, 4.7, 'With all the power most will ever need for hauling and towing, the 2017 Ram HD pickup — available in 2-wheel-drive and 4-wheel-drive configurations — also affords a wide array of trims and configurations ranging from the basic “don’t-mind-if-it-gets-scratched” work truck to the luxurious “wipe-your-boots-before-you-get-in” Limited.\\n', 'If you’re a GM or Ford loyalist, making the switch to a truck with a less desirable reliability and resale history might be a leap of faith too far. Those looking for diesel power without the added heft or price might look to the Ram 1500 or Nissan Titan XD.\\n', 'Changes to the 2017 Ram 2500 and 3500 HD pickups are mostly cosmetic. A new Power Wagon trim celebrates the classic 1979 Macho Power Wagon, while the Ram 2500 4×4 offers a new Off-Road package. The 6.7-liter Hemi V8 is now standard in Laramie, Laramie Longhorn and Limited trims.\\n', '', '', '', '', '39.9 inches', '41.0 inches', '3', '7.4 inches', '231.0 inches', '66.0 inches', '', '41.6 feet', '140.0 inches', '78.9 inches', '', '2 doors', '', '', '', '', '4WD', '410 @ 5600 RPM', '429 @ 4000 rpm', 'V8, HEMI, 6.4 Liter', '3 years / 36000 miles', '5 years / 60000 miles', '3 years / Unlimited miles']\n",
      "[4.4, 4.4, 4.4, 4.5, 4.4, 4.7]\n",
      "['2017 Ram 2500 Crew Cab', 4.4, 4.4, 4.4, 4.5, 4.4, 4.7, 'With all the power most will ever need for hauling and towing, the 2017 Ram HD pickup — available in 2-wheel-drive and 4-wheel-drive configurations — also affords a wide array of trims and configurations ranging from the basic “don’t-mind-if-it-gets-scratched” work truck to the luxurious “wipe-your-boots-before-you-get-in” Limited.\\n', 'If you’re a GM or Ford loyalist, making the switch to a truck with a less desirable reliability and resale history might be a leap of faith too far. Those looking for diesel power without the added heft or price might look to the Ram 1500 or Nissan Titan XD.\\n', 'Changes to the 2017 Ram 2500 and 3500 HD pickups are mostly cosmetic. A new Power Wagon trim celebrates the classic 1979 Macho Power Wagon, while the Ram 2500 4×4 offers a new Off-Road package. The 6.7-liter Hemi V8 is now standard in Laramie, Laramie Longhorn and Limited trims.\\n', '', '', '', '', '41.0 inches', '41.0 inches', '6', '', '237.4 inches', '66.0 inches', '', '43.9 feet', '149.5 inches', '79.1 inches', 'Available', '4 doors', '', '', '', '', '4WD', '350 @ 2800 RPM', '660 @ 1400 rpm', '6-Cyl, Turbo Dsl, 6.7L', '3 years / 36000 miles', '5 years / 60000 miles', '5 years / Unlimited miles']\n"
     ]
    },
    {
     "name": "stdout",
     "output_type": "stream",
     "text": [
      "[4.6, 4.7, 4.5, 4.5, 4.6, 4.8]\n",
      "['2017 Ram 3500 Regular Cab', 4.6, 4.7, 4.5, 4.5, 4.6, 4.8, 'With all the power most will ever need for hauling and towing, the 2017 Ram HD pickup — available in 2-wheel-drive and 4-wheel-drive configurations — also affords a wide array of trims and configurations ranging from the basic “don’t-mind-if-it-gets-scratched” work truck to the luxurious “wipe-your-boots-before-you-get-in” Limited.\\n', 'If you’re a GM or Ford loyalist, making the switch to a truck with a less desirable reliability and resale history might be a leap of faith too far. Those looking for diesel power without the added heft or price might look to the Ram 1500 or Nissan Titan XD.\\n', 'Changes to the 2017 Ram 2500 and 3500 HD pickups are mostly cosmetic. A new Power Wagon trim celebrates the classic 1979 Macho Power Wagon, while the Ram 2500 4×4 offers a new Off-Road package. The 6.7-liter Hemi V8 is now standard in Laramie, Laramie Longhorn and Limited trims.\\n', '', '', '', '', '39.9 inches', '41.0 inches', '3', '', '230.4 inches', '66.0 inches', '', '41.6 feet', '140.5 inches', '', 'Available', '2 doors', '', '', '', '', '4WD', '350 @ 2800 RPM', '', '6-Cyl, Turbo Diesel, 6.7 Liter', '3 years / 36000 miles', '5 years / 100000 miles', '5 years / 100000 miles']\n",
      "[4.6, 4.7, 4.5, 4.5, 4.6, 4.8]\n",
      "['2017 Ram 3500 Crew Cab', 4.6, 4.7, 4.5, 4.5, 4.6, 4.8, 'With all the power most will ever need for hauling and towing, the 2017 Ram HD pickup — available in 2-wheel-drive and 4-wheel-drive configurations — also affords a wide array of trims and configurations ranging from the basic “don’t-mind-if-it-gets-scratched” work truck to the luxurious “wipe-your-boots-before-you-get-in” Limited.\\n', 'If you’re a GM or Ford loyalist, making the switch to a truck with a less desirable reliability and resale history might be a leap of faith too far. Those looking for diesel power without the added heft or price might look to the Ram 1500 or Nissan Titan XD.\\n', 'Changes to the 2017 Ram 2500 and 3500 HD pickups are mostly cosmetic. A new Power Wagon trim celebrates the classic 1979 Macho Power Wagon, while the Ram 2500 4×4 offers a new Off-Road package. The 6.7-liter Hemi V8 is now standard in Laramie, Laramie Longhorn and Limited trims.\\n', '', '', '', '', '41.0 inches', '41.0 inches', '6', '8.6 inches', '237.3 inches', '66.0 inches', '', '43.9 feet', '149.5 inches', '79.1 inches', '', '4 doors', '', '', '', '', '4WD', '350 @ 2800 RPM', '800 @ 1600 rpm', '6-Cyl, Turbo Dsl, 6.7L', '3 years / 36000 miles', '5 years / 100000 miles', '5 years / 100000 miles']\n",
      "[4.4, 4.4, 4.4, 4.5, 4.4, 4.7]\n",
      "['2017 Ram 2500 Mega Cab', 4.4, 4.4, 4.4, 4.5, 4.4, 4.7, 'With all the power most will ever need for hauling and towing, the 2017 Ram HD pickup — available in 2-wheel-drive and 4-wheel-drive configurations — also affords a wide array of trims and configurations ranging from the basic “don’t-mind-if-it-gets-scratched” work truck to the luxurious “wipe-your-boots-before-you-get-in” Limited.\\n', 'If you’re a GM or Ford loyalist, making the switch to a truck with a less desirable reliability and resale history might be a leap of faith too far. Those looking for diesel power without the added heft or price might look to the Ram 1500 or Nissan Titan XD.\\n', 'Changes to the 2017 Ram 2500 and 3500 HD pickups are mostly cosmetic. A new Power Wagon trim celebrates the classic 1979 Macho Power Wagon, while the Ram 2500 4×4 offers a new Off-Road package. The 6.7-liter Hemi V8 is now standard in Laramie, Laramie Longhorn and Limited trims.\\n', '', '', '', '', '41.0 inches', '41.0 inches', '6', '7.7 inches', '248.4 inches', '66.0 inches', '', '46.9 feet', '160.0 inches', '79.1 inches', 'Available', '4 doors', '', '', '', '', '4WD', '370 @ 2800 RPM', '800 @ 1600 rpm', '6-Cyl, Turbo Diesel, 6.7 Liter', '3 years / 36000 miles', '5 years / 100000 miles', '3 years / 36000 miles']\n",
      "[4.6, 4.7, 4.5, 4.5, 4.6, 4.8]\n",
      "['2017 Ram 3500 Mega Cab', 4.6, 4.7, 4.5, 4.5, 4.6, 4.8, 'With all the power most will ever need for hauling and towing, the 2017 Ram HD pickup — available in 2-wheel-drive and 4-wheel-drive configurations — also affords a wide array of trims and configurations ranging from the basic “don’t-mind-if-it-gets-scratched” work truck to the luxurious “wipe-your-boots-before-you-get-in” Limited.\\n', 'If you’re a GM or Ford loyalist, making the switch to a truck with a less desirable reliability and resale history might be a leap of faith too far. Those looking for diesel power without the added heft or price might look to the Ram 1500 or Nissan Titan XD.\\n', 'Changes to the 2017 Ram 2500 and 3500 HD pickups are mostly cosmetic. A new Power Wagon trim celebrates the classic 1979 Macho Power Wagon, while the Ram 2500 4×4 offers a new Off-Road package. The 6.7-liter Hemi V8 is now standard in Laramie, Laramie Longhorn and Limited trims.\\n', '', '', '', '', '41.0 inches', '41.0 inches', '6', '8.7 inches', '248.4 inches', '66.0 inches', '', '46.9 feet', '160.4 inches', '79.1 inches', 'Available', '4 doors', '', '', '', '', '4WD', '350 @ 2800 RPM', '800 @ 1600 rpm', '6-Cyl, Turbo Diesel, 6.7L', '3 years / 36000 miles', '5 years / 100000 miles', '5 years / 100000 miles']\n",
      "[3.2, 3.5, 3.1, 3.3, 3.2, 3.3]\n",
      "['2017 Ram ProMaster City', 3.2, 3.5, 3.1, 3.3, 3.2, 3.3, 'If you run a small business in a big city, be it delivery, plumbing, electrical or “other,” the 2017 Ram ProMaster City offers big solutions in a compact size that is both affordable and economical. The passenger version makes a great substitute for a wagon or small SUV.\\n', 'All that Fiat goodness comes at a price. Ram’s 2017 ProMaster isn’t the least expensive compact van you can buy, that honor goes to the Nissan NV200. Unlike the Ford Transit Connect, long-term reliability and resale have yet to be determined.\\n', 'Changes for 2017 are relatively minor. The compact Ram ProMaster City van receives brighter illumination around its shifter and rear-door reflectors for improved visibility.\\n', '', '', '', '3695 lbs.', '46.0 inches', '40.8 inches', '5', '', '187.5 inches', '59.3 inches', '101.7 cu.ft.', '42.0 feet', '122.4 inches', '', '', '4 doors', '', '21 mpg', '28 mpg', '24 mpg', 'FWD', '178 @ 6400 RPM', '174 @ 3900 rpm', '4-Cyl, 2.4 Liter', '3 years / 36000 miles', '5 years / 100000 miles', '5 years / Unlimited miles']\n",
      "[5.0, 5.0, 5.0, 4.5, 5.0, 5.0]\n",
      "['2017 Ram ProMaster Window Van', 5.0, 5.0, 5.0, 4.5, 5.0, 5.0, 'Ram’s ProMaster van for 2017 is the ultimate work truck, offering a cavernous interior, an available diesel engine and nearly infinite configuration possibilities. Whether used for deliveries, as a mobile business or the ultimate RV conversion, starting with the ProMaster as your base is an excellent idea.\\n', 'The 2017 Ram ProMaster van is a relatively new commodity, so reliability ratings are hard to gauge. If you’re looking for a passenger van, you’ll have to look to the Ford Transit or Mercedes-Benz Sprinter, with the latter also offering the option of all-wheel drive.\\n', 'Changes to Ram’s 2017 ProMaster cargo van include the availability of Uconnect 3.0, a wider rear axle on chassis-cab models, standard upfit interface connectors and rear wiring and an electronic parking brake on diesel models. The diesel engine is no longer offered with the 118-inch wheelbase.\\n', '', '', '', '5061 lbs.', '', '', '2', '6.9 inches', '250.0 inches', '', '', '46.8 feet', '159.0 inches', '98.0 inches', 'Available', '3 doors', '', '', '', '', 'FWD', '280 @ 6400 RPM', '260 @ 4400 rpm', 'V6, VVT, 3.6 Liter', '3 years / 36000 miles', '5 years / 60000 miles', '5 years / 100000 miles']\n",
      "[3.5, 3.5, 3.5, 3.6, 3.6, 3.8]\n",
      "['2017 Ram ProMaster Cargo Van', 3.5, 3.5, 3.5, 3.6, 3.6, 3.8, 'Ram’s ProMaster van for 2017 is the ultimate work truck, offering a cavernous interior, an available diesel engine and nearly infinite configuration possibilities. Whether used for deliveries, as a mobile business or the ultimate RV conversion, starting with the ProMaster as your base is an excellent idea.\\n', 'The 2017 Ram ProMaster van is a relatively new commodity, so reliability ratings are hard to gauge. If you’re looking for a passenger van, you’ll have to look to the Ford Transit or Mercedes-Benz Sprinter, with the latter also offering the option of all-wheel drive.\\n', 'Changes to Ram’s 2017 ProMaster cargo van include the availability of Uconnect 3.0, a wider rear axle on chassis-cab models, standard upfit interface connectors and rear wiring and an electronic parking brake on diesel models. The diesel engine is no longer offered with the 118-inch wheelbase.\\n', '', '', '', '4657 lbs.', '', '', '3', '6.9 inches', '213.1 inches', '', '', '40.7 feet', '136.0 inches', '98.0 inches', 'Available', '3 doors', '', '', '', '', 'FWD', '280 @ 6400 RPM', '260 @ 4400 rpm', 'V6, VVT, 3.6 Liter', '', '5 years / 100000 miles', '']\n"
     ]
    },
    {
     "name": "stdout",
     "output_type": "stream",
     "text": [
      "[4.6, 4.7, 4.5, 4.7, 4.6, 4.7]\n",
      "['2016 Ram 1500 Regular Cab', 4.6, 4.7, 4.5, 4.7, 4.6, 4.7, 'If you’re looking for a handsome, hard-working full-size half-ton truck with an edge in the areas of fuel economy, engine options, towing and payload, the 2016 Ram 1500 pickup is a worthy candidate.\\n', 'Many midsize pickups have grown in size and capability, almost matching the horsepower and tow ratings of their full-size counterparts. If you need something easier to park with a price starting around $20,000 or prefer a manual transmission, take a look at the Nissan Frontier, Chevy Colorado or Toyota Tacoma.\\n', 'For 2016, the Ram 1500 builds on the upgrades to the Rebel and Laramie Limited with a new center console for the entire line, improved frame and body structure for small-overlap crash testing, and some new colors including a set of colorful customization options on the Sport trim.\\n', '', '', '', '', '39.9 inches', '41.0 inches', '3', '', '209.0 inches', '66.0 inches', '', '39.5 feet', '120.5 inches', '79.4 inches', 'Available', '2 doors', '', '15 mpg', '22 mpg', '17 mpg', '2WD', '395 @ 5600 RPM', '410 @ 3950 rpm', 'V8, HEMI, 5.7 Liter', '3 years / 36000 miles', '5 years / 60000 miles', '5 years / 100000 miles']\n",
      "[4.6, 4.7, 4.5, 4.7, 4.6, 4.7]\n",
      "['2016 Ram 1500 Quad Cab', 4.6, 4.7, 4.5, 4.7, 4.6, 4.7, 'If you’re looking for a handsome, hard-working full-size half-ton truck with an edge in the areas of fuel economy, engine options, towing and payload, the 2016 Ram 1500 pickup is a worthy candidate.\\n', 'Many midsize pickups have grown in size and capability, almost matching the horsepower and tow ratings of their full-size counterparts. If you need something easier to park with a price starting around $20,000 or prefer a manual transmission, take a look at the Nissan Frontier, Chevy Colorado or Toyota Tacoma.\\n', 'For 2016, the Ram 1500 builds on the upgrades to the Rebel and Laramie Limited with a new center console for the entire line, improved frame and body structure for small-overlap crash testing, and some new colors including a set of colorful customization options on the Sport trim.\\n', '', '', '', '', '41.0 inches', '41.0 inches', '6', '', '229.0 inches', '66.0 inches', '', '', '140.5 inches', '79.4 inches', 'Available', '4 doors', '', '21 mpg', '29 mpg', '24 mpg', '2WD', '240 @ 3600 RPM', '420 @ 2000 rpm', 'V6, Turbo EcoDiesel, 3.0 Liter', '3 years / 36000 miles', '5 years / 100000 miles', '5 years / 100000 miles']\n",
      "[4.6, 4.7, 4.5, 4.7, 4.6, 4.7]\n",
      "['2016 Ram 1500 Crew Cab', 4.6, 4.7, 4.5, 4.7, 4.6, 4.7, 'If you’re looking for a handsome, hard-working full-size half-ton truck with an edge in the areas of fuel economy, engine options, towing and payload, the 2016 Ram 1500 pickup is a worthy candidate.\\n', 'Many midsize pickups have grown in size and capability, almost matching the horsepower and tow ratings of their full-size counterparts. If you need something easier to park with a price starting around $20,000 or prefer a manual transmission, take a look at the Nissan Frontier, Chevy Colorado or Toyota Tacoma.\\n', 'For 2016, the Ram 1500 builds on the upgrades to the Rebel and Laramie Limited with a new center console for the entire line, improved frame and body structure for small-overlap crash testing, and some new colors including a set of colorful customization options on the Sport trim.\\n', '', '', '', '', '41.0 inches', '41.0 inches', '5', '', '237.9 inches', '66.0 inches', '', '45.4 feet', '149.4 inches', '79.4 inches', 'Available', '4 doors', '', '15 mpg', '21 mpg', '17 mpg', '4WD', '395 @ 5600 RPM', '410 @ 3950 rpm', 'V8, HEMI, 5.7 Liter', '3 years / 36000 miles', '5 years / 100000 miles', '5 years / 100000 miles']\n",
      "[3.2, 3.5, 3.1, 3.3, 3.2, 3.3]\n",
      "['2016 Ram ProMaster City', 3.2, 3.5, 3.1, 3.3, 3.2, 3.3, 'Plumbers, locksmiths, delivery companies and anybody else needing a utility van in an urban setting would do themselves a favor by checking out a new Ram ProMaster City. It offers the best cargo capacity and payload in its class, is comfortable and maneuverable, and even offers respectable performance.\\n', 'While clever and useful, the 2016 Ram ProMaster City isn’t a price leader. Fleet buyers will note that the Nissan NV200 takes the bottom spot on the price spectrum among small vans like this.\\n', 'Ram added minor changes to the 2016 ProMaster City. All radios now get Bluetooth, and the carpet is a little thicker both for comfort and improved noise suppression. Ram has also upgraded the tires, improving performance and rolling resistance to help aid fuel economy without sacrificing the ProMaster’s handling.\\n', '', '', '', '3695 lbs.', '46.0 inches', '40.8 inches', '5', '', '187.5 inches', '59.3 inches', '101.7 cu.ft.', '42.0 feet', '122.4 inches', '', '', '4 doors', '', '21 mpg', '29 mpg', '24 mpg', 'FWD', '178 @ 6400 RPM', '174 @ 3900 rpm', '4-Cyl, 2.4 Liter', '3 years / 36000 miles', '5 years / 100000 miles', '5 years / Unlimited miles']\n",
      "[5.0, 5.0, 5.0, 4.5, 5.0, 5.0]\n",
      "['2016 Ram ProMaster Window Van', 5.0, 5.0, 5.0, 4.5, 5.0, 5.0, '', '', '', '', '', '', '5017 lbs.', '', '', '2', '6.9 inches', '250.0 inches', '', '', '46.8 feet', '159.0 inches', '98.0 inches', 'Available', '3 doors', '', '', '', '', 'FWD', '280 @ 6400 RPM', '260 @ 4175 rpm', 'V6, VVT, 3.6 Liter', '3 years / 36000 miles', '5 years / 60000 miles', '5 years / Unlimited miles']\n",
      "[3.5, 3.5, 3.5, 3.6, 3.6, 3.8]\n",
      "['2016 Ram ProMaster Cargo Van', 3.5, 3.5, 3.5, 3.6, 3.6, 3.8, 'The only reason you’re shopping this segment is if you earn your living with a big van, and the ProMaster offers unique, useful attributes: front-drive, lowest floor, lowest step-in height, tallest ceiling, cavernous interior, easily configurable in about a zillion ways. If the ProMaster fills your bill, check it out.\\n', 'There is, as yet, no passenger version of the Ram ProMaster – it’s strictly for the kind of work that often requires gloves and tie-downs. Somewhat unproven in the United States, it has a 5-year/100,000-mile powertrain warranty on the diesel.\\n', 'Changes to the Ram ProMaster for 2016 are minimal but worthwhile: The long-wheelbase, high-roof extended version has a new window availability and, based upon customer feedback, it can now handle increased electrical power to more easily adapt a variety of conversions.\\n', '', '', '', '', '', '', '3', '', '213.1 inches', '', '', '', '136.0 inches', '98.0 inches', 'Available', '3 doors', '', '', '', '', 'FWD', '280 @ 6400 RPM', '260 @ 4400 rpm', 'V6, VVT, 3.6 Liter', '3 years / 36000 miles', '5 years / 60000 miles', '5 years / Unlimited miles']\n",
      "[4.4, 4.4, 4.4, 4.5, 4.4, 4.7]\n",
      "['2016 Ram 2500 Regular Cab', 4.4, 4.4, 4.4, 4.5, 4.4, 4.7, 'Bragging rights may be nice, but the reality is that those numbers translate to real-world capability. On top of that, you can configure a Ram HD as either a durable work space or plush retreat.\\n', 'Truck buyers tend to be fiercely loyal, and it’s unlikely you’ll ever buy a Ram if your heart already belongs to Ford or GM. New buyers should know that Rams don’t have the same reputation for resale and reliability as their domestic rivals.\\n', 'In addition to an upgraded high-output Cummins turbodiesel, the 2016 Ram 2500 and 3500 HD models get a new switchable rear camera and front park assist to help maneuver these big beasts in parking lots. There’s also a new center console design, and Bluetooth connectivity on entry-level radio systems.\\n', '', '', '', '', '39.9 inches', '41.0 inches', '3', '7.4 inches', '231.0 inches', '66.0 inches', '', '41.6 feet', '140.0 inches', '78.9 inches', '', '2 doors', '', '', '', '', '4WD', '410 @ 5600 RPM', '429 @ 4000 rpm', 'V8, HEMI, 6.4 Liter', '3 years / 36000 miles', '5 years / 60000 miles', '3 years / Unlimited miles']\n",
      "[4.4, 4.4, 4.4, 4.5, 4.4, 4.7]\n",
      "['2016 Ram 2500 Crew Cab', 4.4, 4.4, 4.4, 4.5, 4.4, 4.7, 'Bragging rights may be nice, but the reality is that those numbers translate to real-world capability. On top of that, you can configure a Ram HD as either a durable work space or plush retreat.\\n', 'Truck buyers tend to be fiercely loyal, and it’s unlikely you’ll ever buy a Ram if your heart already belongs to Ford or GM. New buyers should know that Rams don’t have the same reputation for resale and reliability as their domestic rivals.\\n', 'In addition to an upgraded high-output Cummins turbodiesel, the 2016 Ram 2500 and 3500 HD models get a new switchable rear camera and front park assist to help maneuver these big beasts in parking lots. There’s also a new center console design, and Bluetooth connectivity on entry-level radio systems.\\n', '', '', '', '', '41.0 inches', '41.0 inches', '6', '7.2 inches', '237.4 inches', '66.0 inches', '', '43.9 feet', '148.9 inches', '79.1 inches', 'Available', '4 doors', '', '', '', '', '4WD', '410 @ 5600 RPM', '429 @ 4000 rpm', 'V8, HEMI, 6.4 Liter', '3 years / 36000 miles', '5 years / 60000 miles', '5 years / Unlimited miles']\n"
     ]
    },
    {
     "name": "stdout",
     "output_type": "stream",
     "text": [
      "[4.6, 4.7, 4.5, 4.5, 4.6, 4.8]\n",
      "['2016 Ram 3500 Regular Cab', 4.6, 4.7, 4.5, 4.5, 4.6, 4.8, 'Bragging rights may be nice, but the reality is that those numbers translate to real-world capability. On top of that, you can configure a Ram HD as either a durable work space or plush retreat.\\n', 'Truck buyers tend to be fiercely loyal, and it’s unlikely you’ll ever buy a Ram if your heart already belongs to Ford or GM. New buyers should know that Rams don’t have the same reputation for resale and reliability as their domestic rivals.\\n', 'In addition to an upgraded high-output Cummins turbodiesel, the 2016 Ram 2500 and 3500 HD models get a new switchable rear camera and front park assist to help maneuver these big beasts in parking lots. There’s also a new center console design, and Bluetooth connectivity on entry-level radio systems.\\n', '', '', '', '', '39.9 inches', '41.0 inches', '3', '', '230.4 inches', '66.0 inches', '', '41.6 feet', '140.5 inches', '', '', '2 doors', '', '', '', '', '4WD', '350 @ 2800 RPM', '660 @ 1500 rpm', '6-Cyl Turbo Diesel 6.7L', '3 years / 36000 miles', '5 years / 100000 miles', '5 years / 100000 miles']\n",
      "[4.6, 4.7, 4.5, 4.5, 4.6, 4.8]\n",
      "['2016 Ram 3500 Crew Cab', 4.6, 4.7, 4.5, 4.5, 4.6, 4.8, 'Bragging rights may be nice, but the reality is that those numbers translate to real-world capability. On top of that, you can configure a Ram HD as either a durable work space or plush retreat.\\n', 'Truck buyers tend to be fiercely loyal, and it’s unlikely you’ll ever buy a Ram if your heart already belongs to Ford or GM. New buyers should know that Rams don’t have the same reputation for resale and reliability as their domestic rivals.\\n', 'In addition to an upgraded high-output Cummins turbodiesel, the 2016 Ram 2500 and 3500 HD models get a new switchable rear camera and front park assist to help maneuver these big beasts in parking lots. There’s also a new center console design, and Bluetooth connectivity on entry-level radio systems.\\n', '', '', '', '', '41.0 inches', '41.0 inches', '6', '8.6 inches', '237.3 inches', '66.0 inches', '', '43.9 feet', '149.5 inches', '79.1 inches', '', '4 doors', '', '', '', '', '4WD', '350 @ 2800 RPM', '900 @ 1700 rpm', '6-Cyl, Turbo Dsl, 6.7L', '3 years / 36000 miles', '5 years / 100000 miles', '5 years / 100000 miles']\n",
      "[4.4, 4.4, 4.4, 4.5, 4.4, 4.7]\n",
      "['2016 Ram 2500 Mega Cab', 4.4, 4.4, 4.4, 4.5, 4.4, 4.7, 'Bragging rights may be nice, but the reality is that those numbers translate to real-world capability. On top of that, you can configure a Ram HD as either a durable work space or plush retreat.\\n', 'Truck buyers tend to be fiercely loyal, and it’s unlikely you’ll ever buy a Ram if your heart already belongs to Ford or GM. New buyers should know that Rams don’t have the same reputation for resale and reliability as their domestic rivals.\\n', 'In addition to an upgraded high-output Cummins turbodiesel, the 2016 Ram 2500 and 3500 HD models get a new switchable rear camera and front park assist to help maneuver these big beasts in parking lots. There’s also a new center console design, and Bluetooth connectivity on entry-level radio systems.\\n', '', '', '', '', '41.0 inches', '41.0 inches', '6', '7.7 inches', '248.4 inches', '66.0 inches', '', '46.9 feet', '160.0 inches', '79.1 inches', 'Available', '4 doors', '', '', '', '', '4WD', '350 @ 2800 RPM', '660 @ 1400 rpm', '6-Cyl, Turbo Dsl, 6.7L', '3 years / 36000 miles', '5 years / 100000 miles', '3 years / 36000 miles']\n",
      "[4.6, 4.7, 4.5, 4.5, 4.6, 4.8]\n",
      "['2016 Ram 3500 Mega Cab', 4.6, 4.7, 4.5, 4.5, 4.6, 4.8, 'Bragging rights may be nice, but the reality is that those numbers translate to real-world capability. On top of that, you can configure a Ram HD as either a durable work space or plush retreat.\\n', 'Truck buyers tend to be fiercely loyal, and it’s unlikely you’ll ever buy a Ram if your heart already belongs to Ford or GM. New buyers should know that Rams don’t have the same reputation for resale and reliability as their domestic rivals.\\n', 'In addition to an upgraded high-output Cummins turbodiesel, the 2016 Ram 2500 and 3500 HD models get a new switchable rear camera and front park assist to help maneuver these big beasts in parking lots. There’s also a new center console design, and Bluetooth connectivity on entry-level radio systems.\\n', '', '', '', '', '41.0 inches', '41.0 inches', '6', '8.7 inches', '248.4 inches', '66.0 inches', '', '46.9 feet', '160.4 inches', '79.1 inches', 'Available', '4 doors', '', '', '', '', '4WD', '350 @ 2800 RPM', '660 @ 1500 rpm', '6-Cyl, Turbo Diesel, 6.7L', '3 years / 36000 miles', '5 years / 100000 miles', '5 years / 100000 miles']\n",
      "[4.6, 4.7, 4.5, 4.7, 4.6, 4.7]\n",
      "['2015 Ram 1500 Regular Cab', 4.6, 4.7, 4.5, 4.7, 4.6, 4.7, 'If you want a hard-working truck that can double as a little limo, the 2015 Ram 1500 wraps brawn with beauty, delivering best-in-class fuel economy as well as some pretty impressive towing and payload ratings.\\n', 'Full-size trucks can be a headache to park and maneuver, plus a well-equipped model can push past $50,000. If you just need a casual work truck priced within reason, a midsize pickup truck like the Toyota Tacoma or GMC Canyon with the diesel engine make better choices.\\n', 'For 2015, the Ram 1500 keeps its pricing inline, but sees max tow ratings increase to 10,700 pounds.\\n', '', '', '', '', '39.9 inches', '41.0 inches', '3', '', '231.0 inches', '66.0 inches', '', '45.4 feet', '140.5 inches', '79.4 inches', 'Available', '2 doors', '', '15 mpg', '21 mpg', '17 mpg', '4WD', '395 @ 5600 RPM', '410 @ 3950 rpm', 'V8, HEMI, 5.7 Liter', '3 years / 36000 miles', '5 years / 100000 miles', '5 years / 100000 miles']\n",
      "[4.6, 4.7, 4.5, 4.7, 4.6, 4.7]\n",
      "['2015 Ram 1500 Quad Cab', 4.6, 4.7, 4.5, 4.7, 4.6, 4.7, 'If you want a hard-working truck that can double as a little limo, the 2015 Ram 1500 wraps brawn with beauty, delivering best-in-class fuel economy as well as some pretty impressive towing and payload ratings.\\n', 'Full-size trucks can be a headache to park and maneuver, plus a well-equipped model can push past $50,000. If you just need a casual work truck priced within reason, a midsize pickup truck like the Toyota Tacoma or GMC Canyon with the diesel engine make better choices.\\n', 'For 2015, the Ram 1500 keeps its pricing inline, but sees max tow ratings increase to 10,700 pounds.\\n', '', '', '', '', '41.0 inches', '41.0 inches', '6', '', '229.0 inches', '66.0 inches', '', '', '140.5 inches', '79.4 inches', 'Available', '4 doors', '', '21 mpg', '29 mpg', '24 mpg', '2WD', '240 @ 3600 RPM', '420 @ 2000 rpm', 'V6, Turbo Diesel, 3.0L', '3 years / 36000 miles', '5 years / 100000 miles', '5 years / 100000 miles']\n",
      "[4.6, 4.7, 4.5, 4.7, 4.6, 4.7]\n",
      "['2015 Ram 1500 Crew Cab', 4.6, 4.7, 4.5, 4.7, 4.6, 4.7, 'If you want a hard-working truck that can double as a little limo, the 2015 Ram 1500 wraps brawn with beauty, delivering best-in-class fuel economy as well as some pretty impressive towing and payload ratings.\\n', 'Full-size trucks can be a headache to park and maneuver, plus a well-equipped model can push past $50,000. If you just need a casual work truck priced within reason, a midsize pickup truck like the Toyota Tacoma or GMC Canyon with the diesel engine make better choices.\\n', 'For 2015, the Ram 1500 keeps its pricing inline, but sees max tow ratings increase to 10,700 pounds.\\n', '', '', '', '', '41.0 inches', '41.0 inches', '5', '', '237.9 inches', '66.0 inches', '', '45.4 feet', '149.4 inches', '79.4 inches', 'Available', '4 doors', '', '13 mpg', '19 mpg', '15 mpg', '4WD', '395 @ 5600 RPM', '410 @ 3950 rpm', 'V8, HEMI, 5.7 Liter', '3 years / 36000 miles', '5 years / 100000 miles', '5 years / 100000 miles']\n",
      "[4.3, 4.0, 4.3, 4.7, 4.7, 4.0]\n",
      "['2015 Ram C/V Tradesman', 4.3, 4.0, 4.3, 4.7, 4.7, 4.0, '', '', '', '', '', '', '4150 lbs.', '39.8 inches', '40.7 inches', '2', '6.4 inches', '202.8 inches', '63.7 inches', '155.5 cu.ft.', '39.1 feet', '121.2 inches', '89.5 inches', '', '4 doors', '', '18 mpg', '26 mpg', '21 mpg', 'FWD', '283 @ 6400 RPM', '260 @ 4400 rpm', 'V6, Flex Fuel, 3.6 Liter', '3 years / 36000 miles', '5 years / 100000 miles', '5 years / 100000 miles']\n",
      "[3.2, 3.5, 3.1, 3.3, 3.2, 3.3]\n",
      "['2015 Ram ProMaster City', 3.2, 3.5, 3.1, 3.3, 3.2, 3.3, 'If you’re in a business that involves deliveries or service activities such as plumbing, locksmithing or home improvement in a metro area, the Ram ProMaster City deserves a look. With its best-in-class cargo capacity, best-in-class payload, solid comfort quotient and respectable performance, the ProMaster City is ideal for a small business owner.\\n', 'The new ProMaster City is not for you if minimum price is the top priority – usually the case for fleet buyers, for instance. The Nissan NV200 commands the low end of the purchase spectrum among vans of this type.\\n', 'The Ram ProMaster City is based on Fiat’s Doblo, which has just embarked on its third generation in European markets, where it has had a long and successful run. This is its first appearance in North America.\\n', '', '', '', '3695 lbs.', '46.0 inches', '40.8 inches', '5', '', '187.5 inches', '59.3 inches', '101.7 cu.ft.', '42.0 feet', '122.4 inches', '', '', '4 doors', '', '21 mpg', '29 mpg', '24 mpg', 'FWD', '178 @ 6400 RPM', '174 @ 3900 rpm', '4-Cyl, 2.4 Liter', '3 years / 36000 miles', '5 years / 100000 miles', '5 years / Unlimited miles']\n"
     ]
    },
    {
     "name": "stdout",
     "output_type": "stream",
     "text": [
      "[3.5, 3.5, 3.5, 3.6, 3.6, 3.8]\n",
      "['2015 Ram ProMaster Cargo Van', 3.5, 3.5, 3.5, 3.6, 3.6, 3.8, 'The 2015 Ram ProMaster is strictly business, made for fuel efficient hauling of huge loads. Configurable about a zillion different ways, it’s a good pick for just about any business where ample cargo space is vital.\\n', 'If your business includes hauling people to and from the airport or hotel, you’ll have to look elsewhere, as there’s no passenger model available for the 2015 Ram ProMaster. The ProMaster is still an unproven commodity in the U.S., although the 5-year/100,000-mile powertrain warranty is reassuring.\\n', 'The 2015 Ram ProMaster is essentially identical to last year’s model, with no significant changes.\\n', '', '', '', '', '', '', '3', '', '', '', '', '', '136.0 inches', '', 'Available', '3 doors', '', '', '', '', 'FWD', '', '', 'V6, VVT, 3.6 Liter', '', '5 years / 100000 miles', '']\n",
      "[4.4, 4.4, 4.4, 4.5, 4.4, 4.7]\n",
      "['2015 Ram 2500 Regular Cab', 4.4, 4.4, 4.4, 4.5, 4.4, 4.7, 'If you’re all about bragging rights, the 2015 Ram 2500 and 3500 HD pickup trucks will give you plenty to crow about. Along with leading figures for power, hauling and towing, the Ram cabin can be configured as either a durable work space or plush retreat.\\n', 'Personal loyalty is strong among truck buyers, so if you’re a longtime Ford or GM owner, moving to the Ram may seem like heresy. Older Rams don’t have the same reputation for resale and reliability as their domestic rivals, and the jury is still out on how these newer models will hold up.\\n', 'The Ram 2500 and 3500 HD pickup trucks gain a few new features this year including more torque for the 6.7-liter turbodiesel and a new heavy-duty vinyl seat option for the work trucks. New power-folding trailer-tow mirrors help when towing and parking.\\n', '', '', '', '5943 lbs.', '39.9 inches', '41.0 inches', '3', '7.4 inches', '231.0 inches', '66.0 inches', '', '41.6 feet', '140.0 inches', '78.9 inches', '', '2 doors', '', '', '', '', '4WD', '410 @ 5600 RPM', '429 @ 4000 rpm', 'V8, HEMI, 6.4 Liter', '3 years / 36000 miles', '5 years / 100000 miles', '3 years / 36000 miles']\n",
      "[5.0, 5.0, 5.0, 4.5, 5.0, 5.0]\n",
      "['2015 Ram ProMaster Window Van', 5.0, 5.0, 5.0, 4.5, 5.0, 5.0, 'The 2015 Ram ProMaster is strictly business, made for fuel efficient hauling of huge loads. Configurable about a zillion different ways, it’s a good pick for just about any business where ample cargo space is vital.\\n', 'If your business includes hauling people to and from the airport or hotel, you’ll have to look elsewhere, as there’s no passenger model available for the 2015 Ram ProMaster. The ProMaster is still an unproven commodity in the U.S., although the 5-year/100,000-mile powertrain warranty is reassuring.\\n', 'The 2015 Ram ProMaster is essentially identical to last year’s model, with no significant changes.\\n', '', '', '', '', '', '', '3', '', '', '', '', '', '159.0 inches', '', 'Available', '3 doors', '', '', '', '', 'FWD', '', '', 'V6, VVT, 3.6 Liter', '', '5 years / 100000 miles', '']\n",
      "[4.4, 4.4, 4.4, 4.5, 4.4, 4.7]\n",
      "['2015 Ram 2500 Crew Cab', 4.4, 4.4, 4.4, 4.5, 4.4, 4.7, 'If you’re all about bragging rights, the 2015 Ram 2500 and 3500 HD pickup trucks will give you plenty to crow about. Along with leading figures for power, hauling and towing, the Ram cabin can be configured as either a durable work space or plush retreat.\\n', 'Personal loyalty is strong among truck buyers, so if you’re a longtime Ford or GM owner, moving to the Ram may seem like heresy. Older Rams don’t have the same reputation for resale and reliability as their domestic rivals, and the jury is still out on how these newer models will hold up.\\n', 'The Ram 2500 and 3500 HD pickup trucks gain a few new features this year including more torque for the 6.7-liter turbodiesel and a new heavy-duty vinyl seat option for the work trucks. New power-folding trailer-tow mirrors help when towing and parking.\\n', '', '', '', '', '41.0 inches', '41.0 inches', '6', '7.2 inches', '237.4 inches', '66.0 inches', '', '43.9 feet', '148.9 inches', '79.1 inches', 'Available', '4 doors', '', '', '', '', '4WD', '410 @ 5600 RPM', '429 @ 4000 rpm', 'V8, HEMI, 6.4 Liter', '3 years / 36000 miles', '5 years / 100000 miles', '5 years / 100000 miles']\n",
      "[4.6, 4.7, 4.5, 4.5, 4.6, 4.8]\n",
      "['2015 Ram 3500 Regular Cab', 4.6, 4.7, 4.5, 4.5, 4.6, 4.8, 'If you’re all about bragging rights, the 2015 Ram 2500 and 3500 HD pickup trucks will give you plenty to crow about. Along with leading figures for power, hauling and towing, the Ram cabin can be configured as either a durable work space or plush retreat.\\n', 'Personal loyalty is strong among truck buyers, so if you’re a longtime Ford or GM owner, moving to the Ram may seem like heresy. Older Rams don’t have the same reputation for resale and reliability as their domestic rivals, and the jury is still out on how these newer models will hold up.\\n', 'The Ram 2500 and 3500 HD pickup trucks gain a few new features this year including more torque for the 6.7-liter turbodiesel and a new heavy-duty vinyl seat option for the work trucks. New power-folding trailer-tow mirrors help when towing and parking.\\n', '', '', '', '', '39.9 inches', '41.0 inches', '3', '', '230.4 inches', '66.0 inches', '', '41.6 feet', '140.5 inches', '', '', '2 doors', '', '', '', '', '4WD', '350 @ 2800 RPM', '660 @ 1500 rpm', '6-Cyl Turbo Diesel 6.7L', '3 years / 36000 miles', '5 years / 100000 miles', '5 years / 100000 miles']\n",
      "[4.6, 4.7, 4.5, 4.5, 4.6, 4.8]\n",
      "['2015 Ram 3500 Crew Cab', 4.6, 4.7, 4.5, 4.5, 4.6, 4.8, 'If you’re all about bragging rights, the 2015 Ram 2500 and 3500 HD pickup trucks will give you plenty to crow about. Along with leading figures for power, hauling and towing, the Ram cabin can be configured as either a durable work space or plush retreat.\\n', 'Personal loyalty is strong among truck buyers, so if you’re a longtime Ford or GM owner, moving to the Ram may seem like heresy. Older Rams don’t have the same reputation for resale and reliability as their domestic rivals, and the jury is still out on how these newer models will hold up.\\n', 'The Ram 2500 and 3500 HD pickup trucks gain a few new features this year including more torque for the 6.7-liter turbodiesel and a new heavy-duty vinyl seat option for the work trucks. New power-folding trailer-tow mirrors help when towing and parking.\\n', '', '', '', '', '41.0 inches', '41.0 inches', '6', '8.6 inches', '237.3 inches', '66.0 inches', '', '43.9 feet', '149.5 inches', '79.1 inches', '', '4 doors', '', '', '', '', '4WD', '350 @ 2800 RPM', '850 @ 1600 rpm', '6-Cyl, Turbo Dsl, 6.7L', '3 years / 36000 miles', '5 years / 100000 miles', '5 years / 100000 miles']\n",
      "[4.4, 4.4, 4.4, 4.5, 4.4, 4.7]\n",
      "['2015 Ram 2500 Mega Cab', 4.4, 4.4, 4.4, 4.5, 4.4, 4.7, 'If you’re all about bragging rights, the 2015 Ram 2500 and 3500 HD pickup trucks will give you plenty to crow about. Along with leading figures for power, hauling and towing, the Ram cabin can be configured as either a durable work space or plush retreat.\\n', 'Personal loyalty is strong among truck buyers, so if you’re a longtime Ford or GM owner, moving to the Ram may seem like heresy. Older Rams don’t have the same reputation for resale and reliability as their domestic rivals, and the jury is still out on how these newer models will hold up.\\n', 'The Ram 2500 and 3500 HD pickup trucks gain a few new features this year including more torque for the 6.7-liter turbodiesel and a new heavy-duty vinyl seat option for the work trucks. New power-folding trailer-tow mirrors help when towing and parking.\\n', '', '', '', '6685 lbs.', '41.0 inches', '41.0 inches', '6', '7.7 inches', '248.4 inches', '66.0 inches', '', '46.9 feet', '160.0 inches', '79.1 inches', 'Available', '4 doors', '', '', '', '', '4WD', '350 @ 2800 RPM', '660 @ 1400 rpm', '6-Cyl, Turbo Dsl, 6.7L', '3 years / 36000 miles', '5 years / 100000 miles', '3 years / 36000 miles']\n",
      "[4.6, 4.7, 4.5, 4.5, 4.6, 4.8]\n",
      "['2015 Ram 3500 Mega Cab', 4.6, 4.7, 4.5, 4.5, 4.6, 4.8, 'If you’re all about bragging rights, the 2015 Ram 2500 and 3500 HD pickup trucks will give you plenty to crow about. Along with leading figures for power, hauling and towing, the Ram cabin can be configured as either a durable work space or plush retreat.\\n', 'Personal loyalty is strong among truck buyers, so if you’re a longtime Ford or GM owner, moving to the Ram may seem like heresy. Older Rams don’t have the same reputation for resale and reliability as their domestic rivals, and the jury is still out on how these newer models will hold up.\\n', 'The Ram 2500 and 3500 HD pickup trucks gain a few new features this year including more torque for the 6.7-liter turbodiesel and a new heavy-duty vinyl seat option for the work trucks. New power-folding trailer-tow mirrors help when towing and parking.\\n', '', '', '', '', '41.0 inches', '41.0 inches', '6', '8.7 inches', '248.4 inches', '66.0 inches', '', '46.9 feet', '160.0 inches', '79.1 inches', 'Available', '4 doors', '', '', '', '', '4WD', '350 @ 2800 RPM', '660 @ 1400 rpm', '6-Cyl, Turbo Diesel, 6.7 Liter', '3 years / 36000 miles', '5 years / 100000 miles', '5 years / 100000 miles']\n"
     ]
    },
    {
     "name": "stdout",
     "output_type": "stream",
     "text": [
      "[4.6, 4.7, 4.5, 4.7, 4.6, 4.7]\n",
      "['2014 Ram 1500 Regular Cab', 4.6, 4.7, 4.5, 4.7, 4.6, 4.7, 'If you want the only full-size pickup (so far) with the fuel economy of a smaller-displacement diesel engine yet all the pulling and working power you’d expect, the 2014 Ram 1500 is for you.\\n', 'The truth is that every full-size pickup available can be configured to deal with any expected load, trailer towing or work duty, and they do have differences in features and engines. Pick the one you like and see the dealer.\\n', 'By far, the most important news for the Ram 1500 for 2014 is the addition of the 3.0-liter turbocharged EcoDiesel V6 engine. With 240 horsepower, it makes 420 lb-ft of torque (more than the 5.7-liter Hemi) and at only 2,000 rpm, so this combination will not shirk from hard work. And, it is expected to deliver best-in-class fuel economy while doing it.\\n', '', '', '', '', '40.3 inches', '41.0 inches', '0', '', '', '66.0 inches', '', '', '', '79.4 inches', 'Available', '2 doors', '', '17 mpg', '25 mpg', '20 mpg', '2WD', '305 @ 6400 RPM', '269 @ 4175 rpm', 'V6, Flex Fuel, 3.6L', '3 years / 36000 miles', '5 years / 100000 miles', '5 years / 100000 miles']\n",
      "[4.6, 4.7, 4.5, 4.7, 4.6, 4.7]\n",
      "['2014 Ram 1500 Quad Cab', 4.6, 4.7, 4.5, 4.7, 4.6, 4.7, 'If you want the only full-size pickup (so far) with the fuel economy of a smaller-displacement diesel engine yet all the pulling and working power you’d expect, the 2014 Ram 1500 is for you.\\n', 'The truth is that every full-size pickup available can be configured to deal with any expected load, trailer towing or work duty, and they do have differences in features and engines. Pick the one you like and see the dealer.\\n', 'By far, the most important news for the Ram 1500 for 2014 is the addition of the 3.0-liter turbocharged EcoDiesel V6 engine. With 240 horsepower, it makes 420 lb-ft of torque (more than the 5.7-liter Hemi) and at only 2,000 rpm, so this combination will not shirk from hard work. And, it is expected to deliver best-in-class fuel economy while doing it.\\n', '', '', '', '5203 lbs.', '41.0 inches', '41.0 inches', '6', '9.0 inches', '229.0 inches', '66.0 inches', '', '45.4 feet', '140.5 inches', '79.4 inches', 'Available', '4 doors', '', '13 mpg', '19 mpg', '15 mpg', '4WD', '395 @ 5600 RPM', '407 @ 3950 rpm', 'V8, HEMI, 5.7 Liter', '3 years / 36000 miles', '5 years / 100000 miles', '5 years / 100000 miles']\n",
      "[4.6, 4.7, 4.5, 4.7, 4.6, 4.7]\n",
      "['2014 Ram 1500 Crew Cab', 4.6, 4.7, 4.5, 4.7, 4.6, 4.7, 'If you want the only full-size pickup (so far) with the fuel economy of a smaller-displacement diesel engine yet all the pulling and working power you’d expect, the 2014 Ram 1500 is for you.\\n', 'The truth is that every full-size pickup available can be configured to deal with any expected load, trailer towing or work duty, and they do have differences in features and engines. Pick the one you like and see the dealer.\\n', 'By far, the most important news for the Ram 1500 for 2014 is the addition of the 3.0-liter turbocharged EcoDiesel V6 engine. With 240 horsepower, it makes 420 lb-ft of torque (more than the 5.7-liter Hemi) and at only 2,000 rpm, so this combination will not shirk from hard work. And, it is expected to deliver best-in-class fuel economy while doing it.\\n', '', '', '', '', '41.0 inches', '41.0 inches', '5', '', '237.9 inches', '66.0 inches', '', '', '149.5 inches', '79.4 inches', 'Available', '4 doors', '', '13 mpg', '19 mpg', '15 mpg', '4WD', '395 @ 5600 RPM', '407 @ 3950 rpm', 'V8, HEMI, 5.7 Liter', '3 years / 36000 miles', '5 years / 100000 miles', '5 years / 100000 miles']\n",
      "[4.3, 4.0, 4.3, 4.7, 4.7, 4.0]\n",
      "['2014 Ram C/V Tradesman', 4.3, 4.0, 4.3, 4.7, 4.7, 4.0, '', '', '', '', '', '', '4158 lbs.', '39.8 inches', '40.6 inches', '2', '5.6 inches', '202.1 inches', '63.0 inches', '155.5 cu.ft.', '38.0 feet', '121.2 inches', '89.5 inches', '', '4 doors', '', '18 mpg', '26 mpg', '21 mpg', 'FWD', '283 @ 6400 RPM', '260 @ 4400 rpm', 'V6, Flex Fuel, 3.6 Liter', '3 years / 36000 miles', '5 years / 100000 miles', '5 years / 100000 miles']\n",
      "[2.0, 1.5, 1.5, 2.0, 1.5, 2.0]\n",
      "['2014 Ram ProMaster 1500 Cargo', 2.0, 1.5, 1.5, 2.0, 1.5, 2.0, 'If you run a business and need a versatile, fuel-efficient cargo hauler offering lots of configuration possibilities, the 2014 Ram ProMaster is not to be overlooked.\\n', 'The 2014 ProMaster is an unproven commodity in the U.S. market, so it’s tough to say what long-term reliability and repair costs may be, despite its 5-year/100,000-mile powertrain warranty. To date, a passenger model is not available.\\n', 'Based on the Fiat Ducato commercial van, Ram will offer the 2014 ProMaster in three wheelbases with two ceiling heights, a gasoline V6 or 3.0-liter EcoDiesel turbo-4 and more configuration and equipment possibilities than you can shake a stick at. It’s an upfitter’s dream come true.\\n', '', '', '', '4698 lbs.', '', '', '3', '', '213.1 inches', '', '530.0 cu.ft.', '40.7 feet', '135.8 inches', '105.9 inches', 'Available', '3 doors', '', '', '', '', 'FWD', '280 @ 6400 RPM', '258 @ 4175 rpm', 'V6, VVT, 3.6 Liter', '', '5 years / 100000 miles', '']\n",
      "[4.4, 4.4, 4.4, 4.5, 4.4, 4.7]\n",
      "['2014 Ram 2500 Regular Cab', 4.4, 4.4, 4.4, 4.5, 4.4, 4.7, 'If you’re a longtime devotee of Ram HD trucks and it’s time to trade in your old outfit, the improvements made to the 2014 Ram 2500/3500 should rekindle your loyalty to the brand. Conversely, Ford and Chevy owners who long for a more upscale interior will find a lot to like in the Ram HD.\\n', 'Because full-size trucks have the most faithful customers in the industry, deciding among a Ford Super Duty, Chevrolet Silverado HD or Ram HD will likely boil down to personal preference.\\n', 'Ram 2500 models gain a new 5-link independent rear suspension for 2014. A new 6.4-liter Hemi V8 along with load-leveling rear air suspension is also available on both the Ram 2500 and 3500.\\n', '', '', '', '5943 lbs.', '40.3 inches', '41.0 inches', '3', '7.4 inches', '231.0 inches', '66.0 inches', '', '41.6 feet', '140.0 inches', '78.9 inches', '', '2 doors', '', '', '', '', '4WD', '383 @ 5600 RPM', '400 @ 4000 rpm', 'V8, HEMI, 5.7 Liter', '3 years / 36000 miles', '5 years / 100000 miles', '3 years / 36000 miles']\n",
      "['', '', '', '', '', '']\n",
      "['2014 Ram ProMaster 2500 Cargo', '', '', '', '', '', '', 'If you run a business and need a versatile, fuel-efficient cargo hauler offering lots of configuration possibilities, the 2014 Ram ProMaster is not to be overlooked.\\n', 'The 2014 ProMaster is an unproven commodity in the U.S. market, so it’s tough to say what long-term reliability and repair costs may be, despite its 5-year/100,000-mile powertrain warranty. To date, a passenger model is not available.\\n', 'Based on the Fiat Ducato commercial van, Ram will offer the 2014 ProMaster in three wheelbases with two ceiling heights, a gasoline V6 or 3.0-liter EcoDiesel turbo-4 and more configuration and equipment possibilities than you can shake a stick at. It’s an upfitter’s dream come true.\\n', '', '', '', '', '', '', '', '', '', '5400 lbs.', '', '', '2', '', '236.1 inches', '', '', '46.8 feet', '158.9 inches', '105.9 inches', 'Available', '3 doors', '', '', '', '', 'FWD', '280 @ 6400 RPM', '258 @ 4175 rpm', 'V6, VVT, 3.6 Liter', '', '5 years / 100000 miles', '']\n"
     ]
    },
    {
     "ename": "ValueError",
     "evalue": "37 columns passed, passed data had 43 columns",
     "output_type": "error",
     "traceback": [
      "\u001b[1;31m---------------------------------------------------------------------------\u001b[0m",
      "\u001b[1;31mAssertionError\u001b[0m                            Traceback (most recent call last)",
      "\u001b[1;32m~\\anaconda3\\lib\\site-packages\\pandas\\core\\internals\\construction.py\u001b[0m in \u001b[0;36m_list_to_arrays\u001b[1;34m(data, columns, coerce_float, dtype)\u001b[0m\n\u001b[0;32m    567\u001b[0m     \u001b[1;32mtry\u001b[0m\u001b[1;33m:\u001b[0m\u001b[1;33m\u001b[0m\u001b[1;33m\u001b[0m\u001b[0m\n\u001b[1;32m--> 568\u001b[1;33m         \u001b[0mcolumns\u001b[0m \u001b[1;33m=\u001b[0m \u001b[0m_validate_or_indexify_columns\u001b[0m\u001b[1;33m(\u001b[0m\u001b[0mcontent\u001b[0m\u001b[1;33m,\u001b[0m \u001b[0mcolumns\u001b[0m\u001b[1;33m)\u001b[0m\u001b[1;33m\u001b[0m\u001b[1;33m\u001b[0m\u001b[0m\n\u001b[0m\u001b[0;32m    569\u001b[0m         \u001b[0mresult\u001b[0m \u001b[1;33m=\u001b[0m \u001b[0m_convert_object_array\u001b[0m\u001b[1;33m(\u001b[0m\u001b[0mcontent\u001b[0m\u001b[1;33m,\u001b[0m \u001b[0mdtype\u001b[0m\u001b[1;33m=\u001b[0m\u001b[0mdtype\u001b[0m\u001b[1;33m,\u001b[0m \u001b[0mcoerce_float\u001b[0m\u001b[1;33m=\u001b[0m\u001b[0mcoerce_float\u001b[0m\u001b[1;33m)\u001b[0m\u001b[1;33m\u001b[0m\u001b[1;33m\u001b[0m\u001b[0m\n",
      "\u001b[1;32m~\\anaconda3\\lib\\site-packages\\pandas\\core\\internals\\construction.py\u001b[0m in \u001b[0;36m_validate_or_indexify_columns\u001b[1;34m(content, columns)\u001b[0m\n\u001b[0;32m    691\u001b[0m             \u001b[1;31m# caller's responsibility to check for this...\u001b[0m\u001b[1;33m\u001b[0m\u001b[1;33m\u001b[0m\u001b[1;33m\u001b[0m\u001b[0m\n\u001b[1;32m--> 692\u001b[1;33m             raise AssertionError(\n\u001b[0m\u001b[0;32m    693\u001b[0m                 \u001b[1;34mf\"{len(columns)} columns passed, passed data had \"\u001b[0m\u001b[1;33m\u001b[0m\u001b[1;33m\u001b[0m\u001b[0m\n",
      "\u001b[1;31mAssertionError\u001b[0m: 37 columns passed, passed data had 43 columns",
      "\nThe above exception was the direct cause of the following exception:\n",
      "\u001b[1;31mValueError\u001b[0m                                Traceback (most recent call last)",
      "\u001b[1;32m<ipython-input-11-09e389719d50>\u001b[0m in \u001b[0;36m<module>\u001b[1;34m\u001b[0m\n\u001b[0;32m     45\u001b[0m     \u001b[0mprint\u001b[0m\u001b[1;33m(\u001b[0m\u001b[0mratings\u001b[0m\u001b[1;33m)\u001b[0m\u001b[1;33m\u001b[0m\u001b[1;33m\u001b[0m\u001b[0m\n\u001b[0;32m     46\u001b[0m     \u001b[0mprint\u001b[0m\u001b[1;33m(\u001b[0m\u001b[0mvoit\u001b[0m\u001b[1;33m+\u001b[0m\u001b[0mratings\u001b[0m\u001b[1;33m+\u001b[0m\u001b[0mpositive_negative\u001b[0m\u001b[1;33m+\u001b[0m\u001b[0ml4\u001b[0m\u001b[1;33m)\u001b[0m\u001b[1;33m\u001b[0m\u001b[1;33m\u001b[0m\u001b[0m\n\u001b[1;32m---> 47\u001b[1;33m     \u001b[0mdf1\u001b[0m\u001b[1;33m=\u001b[0m\u001b[0mpd\u001b[0m\u001b[1;33m.\u001b[0m\u001b[0mDataFrame\u001b[0m\u001b[1;33m(\u001b[0m\u001b[1;33m[\u001b[0m\u001b[0mvoit\u001b[0m\u001b[1;33m+\u001b[0m\u001b[0mratings\u001b[0m\u001b[1;33m+\u001b[0m\u001b[0mpositive_negative\u001b[0m\u001b[1;33m+\u001b[0m\u001b[0ml4\u001b[0m\u001b[1;33m]\u001b[0m\u001b[1;33m,\u001b[0m \u001b[0mcolumns\u001b[0m\u001b[1;33m=\u001b[0m\u001b[0mvar2\u001b[0m\u001b[1;33m)\u001b[0m\u001b[1;33m\u001b[0m\u001b[1;33m\u001b[0m\u001b[0m\n\u001b[0m\u001b[0;32m     48\u001b[0m \u001b[1;33m\u001b[0m\u001b[0m\n\u001b[0;32m     49\u001b[0m \u001b[1;33m\u001b[0m\u001b[0m\n",
      "\u001b[1;32m~\\anaconda3\\lib\\site-packages\\pandas\\core\\frame.py\u001b[0m in \u001b[0;36m__init__\u001b[1;34m(self, data, index, columns, dtype, copy)\u001b[0m\n\u001b[0;32m    568\u001b[0m                     \u001b[1;32mif\u001b[0m \u001b[0mis_named_tuple\u001b[0m\u001b[1;33m(\u001b[0m\u001b[0mdata\u001b[0m\u001b[1;33m[\u001b[0m\u001b[1;36m0\u001b[0m\u001b[1;33m]\u001b[0m\u001b[1;33m)\u001b[0m \u001b[1;32mand\u001b[0m \u001b[0mcolumns\u001b[0m \u001b[1;32mis\u001b[0m \u001b[1;32mNone\u001b[0m\u001b[1;33m:\u001b[0m\u001b[1;33m\u001b[0m\u001b[1;33m\u001b[0m\u001b[0m\n\u001b[0;32m    569\u001b[0m                         \u001b[0mcolumns\u001b[0m \u001b[1;33m=\u001b[0m \u001b[0mdata\u001b[0m\u001b[1;33m[\u001b[0m\u001b[1;36m0\u001b[0m\u001b[1;33m]\u001b[0m\u001b[1;33m.\u001b[0m\u001b[0m_fields\u001b[0m\u001b[1;33m\u001b[0m\u001b[1;33m\u001b[0m\u001b[0m\n\u001b[1;32m--> 570\u001b[1;33m                     \u001b[0marrays\u001b[0m\u001b[1;33m,\u001b[0m \u001b[0mcolumns\u001b[0m \u001b[1;33m=\u001b[0m \u001b[0mto_arrays\u001b[0m\u001b[1;33m(\u001b[0m\u001b[0mdata\u001b[0m\u001b[1;33m,\u001b[0m \u001b[0mcolumns\u001b[0m\u001b[1;33m,\u001b[0m \u001b[0mdtype\u001b[0m\u001b[1;33m=\u001b[0m\u001b[0mdtype\u001b[0m\u001b[1;33m)\u001b[0m\u001b[1;33m\u001b[0m\u001b[1;33m\u001b[0m\u001b[0m\n\u001b[0m\u001b[0;32m    571\u001b[0m                     \u001b[0mcolumns\u001b[0m \u001b[1;33m=\u001b[0m \u001b[0mensure_index\u001b[0m\u001b[1;33m(\u001b[0m\u001b[0mcolumns\u001b[0m\u001b[1;33m)\u001b[0m\u001b[1;33m\u001b[0m\u001b[1;33m\u001b[0m\u001b[0m\n\u001b[0;32m    572\u001b[0m \u001b[1;33m\u001b[0m\u001b[0m\n",
      "\u001b[1;32m~\\anaconda3\\lib\\site-packages\\pandas\\core\\internals\\construction.py\u001b[0m in \u001b[0;36mto_arrays\u001b[1;34m(data, columns, coerce_float, dtype)\u001b[0m\n\u001b[0;32m    526\u001b[0m         \u001b[1;32mreturn\u001b[0m \u001b[1;33m[\u001b[0m\u001b[1;33m]\u001b[0m\u001b[1;33m,\u001b[0m \u001b[1;33m[\u001b[0m\u001b[1;33m]\u001b[0m  \u001b[1;31m# columns if columns is not None else []\u001b[0m\u001b[1;33m\u001b[0m\u001b[1;33m\u001b[0m\u001b[0m\n\u001b[0;32m    527\u001b[0m     \u001b[1;32mif\u001b[0m \u001b[0misinstance\u001b[0m\u001b[1;33m(\u001b[0m\u001b[0mdata\u001b[0m\u001b[1;33m[\u001b[0m\u001b[1;36m0\u001b[0m\u001b[1;33m]\u001b[0m\u001b[1;33m,\u001b[0m \u001b[1;33m(\u001b[0m\u001b[0mlist\u001b[0m\u001b[1;33m,\u001b[0m \u001b[0mtuple\u001b[0m\u001b[1;33m)\u001b[0m\u001b[1;33m)\u001b[0m\u001b[1;33m:\u001b[0m\u001b[1;33m\u001b[0m\u001b[1;33m\u001b[0m\u001b[0m\n\u001b[1;32m--> 528\u001b[1;33m         \u001b[1;32mreturn\u001b[0m \u001b[0m_list_to_arrays\u001b[0m\u001b[1;33m(\u001b[0m\u001b[0mdata\u001b[0m\u001b[1;33m,\u001b[0m \u001b[0mcolumns\u001b[0m\u001b[1;33m,\u001b[0m \u001b[0mcoerce_float\u001b[0m\u001b[1;33m=\u001b[0m\u001b[0mcoerce_float\u001b[0m\u001b[1;33m,\u001b[0m \u001b[0mdtype\u001b[0m\u001b[1;33m=\u001b[0m\u001b[0mdtype\u001b[0m\u001b[1;33m)\u001b[0m\u001b[1;33m\u001b[0m\u001b[1;33m\u001b[0m\u001b[0m\n\u001b[0m\u001b[0;32m    529\u001b[0m     \u001b[1;32melif\u001b[0m \u001b[0misinstance\u001b[0m\u001b[1;33m(\u001b[0m\u001b[0mdata\u001b[0m\u001b[1;33m[\u001b[0m\u001b[1;36m0\u001b[0m\u001b[1;33m]\u001b[0m\u001b[1;33m,\u001b[0m \u001b[0mabc\u001b[0m\u001b[1;33m.\u001b[0m\u001b[0mMapping\u001b[0m\u001b[1;33m)\u001b[0m\u001b[1;33m:\u001b[0m\u001b[1;33m\u001b[0m\u001b[1;33m\u001b[0m\u001b[0m\n\u001b[0;32m    530\u001b[0m         return _list_of_dict_to_arrays(\n",
      "\u001b[1;32m~\\anaconda3\\lib\\site-packages\\pandas\\core\\internals\\construction.py\u001b[0m in \u001b[0;36m_list_to_arrays\u001b[1;34m(data, columns, coerce_float, dtype)\u001b[0m\n\u001b[0;32m    569\u001b[0m         \u001b[0mresult\u001b[0m \u001b[1;33m=\u001b[0m \u001b[0m_convert_object_array\u001b[0m\u001b[1;33m(\u001b[0m\u001b[0mcontent\u001b[0m\u001b[1;33m,\u001b[0m \u001b[0mdtype\u001b[0m\u001b[1;33m=\u001b[0m\u001b[0mdtype\u001b[0m\u001b[1;33m,\u001b[0m \u001b[0mcoerce_float\u001b[0m\u001b[1;33m=\u001b[0m\u001b[0mcoerce_float\u001b[0m\u001b[1;33m)\u001b[0m\u001b[1;33m\u001b[0m\u001b[1;33m\u001b[0m\u001b[0m\n\u001b[0;32m    570\u001b[0m     \u001b[1;32mexcept\u001b[0m \u001b[0mAssertionError\u001b[0m \u001b[1;32mas\u001b[0m \u001b[0me\u001b[0m\u001b[1;33m:\u001b[0m\u001b[1;33m\u001b[0m\u001b[1;33m\u001b[0m\u001b[0m\n\u001b[1;32m--> 571\u001b[1;33m         \u001b[1;32mraise\u001b[0m \u001b[0mValueError\u001b[0m\u001b[1;33m(\u001b[0m\u001b[0me\u001b[0m\u001b[1;33m)\u001b[0m \u001b[1;32mfrom\u001b[0m \u001b[0me\u001b[0m\u001b[1;33m\u001b[0m\u001b[1;33m\u001b[0m\u001b[0m\n\u001b[0m\u001b[0;32m    572\u001b[0m     \u001b[1;32mreturn\u001b[0m \u001b[0mresult\u001b[0m\u001b[1;33m,\u001b[0m \u001b[0mcolumns\u001b[0m\u001b[1;33m\u001b[0m\u001b[1;33m\u001b[0m\u001b[0m\n\u001b[0;32m    573\u001b[0m \u001b[1;33m\u001b[0m\u001b[0m\n",
      "\u001b[1;31mValueError\u001b[0m: 37 columns passed, passed data had 43 columns"
     ]
    }
   ],
   "source": [
    "for url in urls :\n",
    "    voit=[]\n",
    "    df1=pd.DataFrame()\n",
    "    ratings=[]\n",
    "    positive_negative=[]\n",
    "    desc= []\n",
    "    l=[]\n",
    "    l4=[]\n",
    "    l5=[]\n",
    "    vari=[]\n",
    "   \n",
    "    response = requests.get(url)\n",
    "    soup = BeautifulSoup(response.content, 'html.parser')\n",
    "    content = soup.get_text()\n",
    "    name = soup.find('div', {'class' : 'css-1z001wv evrbb773'})\n",
    "    voit.append(name.get_text())   \n",
    "    #ratings columns\n",
    "    rate= soup.find_all('div', {'class' : 'css-sf59yt'})\n",
    "    for rating in rate :\n",
    "        ratings.append(float(rating.text))\n",
    "    if len(ratings)>6 :\n",
    "        ratings=ratings[:6]\n",
    "    #pros and cons columns    \n",
    "    proscons = soup.find_all('div', {'class' : 'editoralContent css-q5da8s'})\n",
    "    for p in proscons :\n",
    "        positive_negative.append(p.text)\n",
    "    for i in range(0,9-len(ratings+positive_negative)) :\n",
    "        positive_negative.append('')\n",
    "    while len(ratings)<6:\n",
    "        ratings.append('')      \n",
    "    \n",
    "    #car's caract columns\n",
    "    caract= soup.find_all('div',{'class' : 'css-z687n ee33uo36'})\n",
    "    for car in caract :\n",
    "        l.append(car.text)\n",
    "         \n",
    "    for k in  range(0,len(l3)) :\n",
    "        for h in range(0,len(l)) :\n",
    "            if l3[k]==l[h] : \n",
    "                l5.append(l[h])\n",
    "                l4.append(l[h+1])\n",
    "        if l3[k] not in l5 :\n",
    "            l4.append('')\n",
    "        \n",
    "    print(ratings)\n",
    "    print(voit+ratings+positive_negative+l4)\n",
    "    df1=pd.DataFrame([voit+ratings+positive_negative+l4], columns=var2)\n",
    "\n",
    "    \n",
    "    df=df.append(df1, ignore_index=True)\n",
    "df.drop(0, axis=0, inplace=True)\n",
    "df"
   ]
  },
  {
   "cell_type": "code",
   "execution_count": null,
   "id": "f472c59b",
   "metadata": {},
   "outputs": [],
   "source": [
    "values=[]\n",
    "url='https://www.kbb.com/ram/'\n",
    "response = requests.get(url, allow_redirects=False)\n",
    "soup = BeautifulSoup(response.content, 'html.parser')\n",
    "content = soup.get_text()\n",
    "price = soup.find_all('div', {'class' : 'css-fpbjth e151py7u1'})\n",
    "\n",
    "for i in price :\n",
    "    if '$' in i.text :\n",
    "        values.append(i.text)\n",
    "for i in range(2,6) :\n",
    "    url='https://www.kbb.com/ram/page-'+str(i)+'/'\n",
    "    response = requests.get(url, allow_redirects=False)\n",
    "    soup = BeautifulSoup(response.content, 'html.parser')\n",
    "    content = soup.get_text()\n",
    "    price = soup.find_all('div', {'class' : 'css-fpbjth e151py7u1'})\n",
    "    for j in price :\n",
    "        if '$' in j.text :\n",
    "            values.append(j.text)\n",
    "print(values)            \n",
    "df.insert(loc=1, column='Price', value=values)  "
   ]
  },
  {
   "cell_type": "markdown",
   "id": "93e2559b",
   "metadata": {},
   "source": [
    "## Création d'un fichier excel"
   ]
  },
  {
   "cell_type": "code",
   "execution_count": null,
   "id": "11aece51",
   "metadata": {},
   "outputs": [],
   "source": [
    "df.to_excel(\"ram_cars.xlsx\", sheet_name='Sheet_name_1') "
   ]
  }
 ],
 "metadata": {
  "kernelspec": {
   "display_name": "Python 3",
   "language": "python",
   "name": "python3"
  },
  "language_info": {
   "codemirror_mode": {
    "name": "ipython",
    "version": 3
   },
   "file_extension": ".py",
   "mimetype": "text/x-python",
   "name": "python",
   "nbconvert_exporter": "python",
   "pygments_lexer": "ipython3",
   "version": "3.8.8"
  }
 },
 "nbformat": 4,
 "nbformat_minor": 5
}
