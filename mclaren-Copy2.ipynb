{
 "cells": [
  {
   "cell_type": "markdown",
   "id": "f479f147",
   "metadata": {},
   "source": [
    "## Importation des librairies"
   ]
  },
  {
   "cell_type": "code",
   "execution_count": 1,
   "id": "bb30ec5c",
   "metadata": {},
   "outputs": [],
   "source": [
    "from bs4 import BeautifulSoup\n",
    "import requests\n",
    "import pandas as pd \n",
    "import numpy as np\n"
   ]
  },
  {
   "cell_type": "markdown",
   "id": "d668d8b7",
   "metadata": {},
   "source": [
    "## Extraction des liens disponibles"
   ]
  },
  {
   "cell_type": "code",
   "execution_count": 4,
   "id": "03251522",
   "metadata": {
    "scrolled": true
   },
   "outputs": [
    {
     "name": "stdout",
     "output_type": "stream",
     "text": [
      "['https://www.kbb.com/bmw/x5-m/2023/', 'https://www.kbb.com/bmw/m5/', 'https://www.kbb.com/bmw/x6-m/2023/', 'https://www.kbb.com/bmw/m8/2023/', 'https://www.kbb.com/bmw/x5/2022/', 'https://www.kbb.com/bmw/7-series/2022/', 'https://www.kbb.com/bmw/2-series/2022/', 'https://www.kbb.com/bmw/5-series/2022/', 'https://www.kbb.com/bmw/ix/2022/', 'https://www.kbb.com/bmw/x1/2022/', 'https://www.kbb.com/bmw/z4/2022/', 'https://www.kbb.com/bmw/x2/2022/', 'https://www.kbb.com/bmw/i4/2022/', 'https://www.kbb.com/bmw/x3/2022/', 'https://www.kbb.com/bmw/4-series/2022/', 'https://www.kbb.com/bmw/8-series/2022/', 'https://www.kbb.com/bmw/x7/2022/', 'https://www.kbb.com/bmw/3-series/2022/', 'https://www.kbb.com/bmw/x6/2022/', 'https://www.kbb.com/bmw/x4/2022/', 'https://www.kbb.com/bmw/m3/2022/', 'https://www.kbb.com/bmw/x3-m/2022/', 'https://www.kbb.com/bmw/m4/2022/', 'https://www.kbb.com/bmw/x4-m/2022/', 'https://www.kbb.com/bmw/m5/2022/', 'https://www.kbb.com/bmw/x5-m/2022/', 'https://www.kbb.com/bmw/x6-m/2022/', 'https://www.kbb.com/bmw/m8/2022/', 'https://www.kbb.com/bmw/x5/2021/', 'https://www.kbb.com/bmw/7-series/2021/', 'https://www.kbb.com/bmw/5-series/2021/', 'https://www.kbb.com/bmw/x1/2021/', 'https://www.kbb.com/bmw/2-series/2021/', 'https://www.kbb.com/bmw/z4/2021/', 'https://www.kbb.com/bmw/x2/2021/', 'https://www.kbb.com/bmw/x7/2021/', 'https://www.kbb.com/bmw/4-series/2021/', 'https://www.kbb.com/bmw/8-series/2021/', 'https://www.kbb.com/bmw/i3/', 'https://www.kbb.com/bmw/3-series/2021/', 'https://www.kbb.com/bmw/x3/2021/', 'https://www.kbb.com/bmw/x6/2021/', 'https://www.kbb.com/bmw/x4/2021/', 'https://www.kbb.com/bmw/m2/2021/', 'https://www.kbb.com/bmw/x3-m/2021/', 'https://www.kbb.com/bmw/x4-m/2021/', 'https://www.kbb.com/bmw/m3/2021/', 'https://www.kbb.com/bmw/m4/2021/', 'https://www.kbb.com/bmw/m5/2021/', 'https://www.kbb.com/bmw/x5-m/2021/', 'https://www.kbb.com/bmw/m8/2021/', 'https://www.kbb.com/bmw/x6-m/2021/', 'https://www.kbb.com/bmw/x5/2020/', 'https://www.kbb.com/bmw/x2/2020/', 'https://www.kbb.com/bmw/3-series/2020/', 'https://www.kbb.com/bmw/5-series/2020/', 'https://www.kbb.com/bmw/x1/2020/', 'https://www.kbb.com/bmw/2-series/2020/', 'https://www.kbb.com/bmw/m2/2020/', 'https://www.kbb.com/bmw/x3/2020/', 'https://www.kbb.com/bmw/z4/2020/', 'https://www.kbb.com/bmw/x3-m/2020/', 'https://www.kbb.com/bmw/x7/2020/', 'https://www.kbb.com/bmw/4-series/2020/', 'https://www.kbb.com/bmw/m4/2020/', 'https://www.kbb.com/bmw/x6/2020/', 'https://www.kbb.com/bmw/x4/2020/', 'https://www.kbb.com/bmw/i3/2020/', 'https://www.kbb.com/bmw/7-series/2020/', 'https://www.kbb.com/bmw/8-series/2020/', 'https://www.kbb.com/bmw/x4-m/2020/', 'https://www.kbb.com/bmw/m8/2020/', 'https://www.kbb.com/bmw/x5-m/2020/', 'https://www.kbb.com/bmw/m5/2020/', 'https://www.kbb.com/bmw/x6-m/2020/', 'https://www.kbb.com/bmw/i8/', 'https://www.kbb.com/bmw/x5/2019/', 'https://www.kbb.com/bmw/x2/2019/', 'https://www.kbb.com/bmw/5-series/2019/', 'https://www.kbb.com/bmw/3-series/2019/', 'https://www.kbb.com/bmw/m5/2019/', 'https://www.kbb.com/bmw/i3/2019/', 'https://www.kbb.com/bmw/x1/2019/', 'https://www.kbb.com/bmw/2-series/2019/', 'https://www.kbb.com/bmw/m2/2019/', 'https://www.kbb.com/bmw/x3/2019/', 'https://www.kbb.com/bmw/z4/2019/', 'https://www.kbb.com/bmw/x7/2019/', 'https://www.kbb.com/bmw/4-series/2019/', 'https://www.kbb.com/bmw/m4/2019/', 'https://www.kbb.com/bmw/x6/2019/', 'https://www.kbb.com/bmw/x6-m/2019/', 'https://www.kbb.com/bmw/6-series/', 'https://www.kbb.com/bmw/x4/2019/', 'https://www.kbb.com/bmw/7-series/2019/', 'https://www.kbb.com/bmw/8-series/2019/', 'https://www.kbb.com/bmw/m6/', 'https://www.kbb.com/bmw/i8/2019/', 'https://www.kbb.com/bmw/x2/2018/', 'https://www.kbb.com/bmw/2-series/2018/', 'https://www.kbb.com/bmw/5-series/2018/', 'https://www.kbb.com/bmw/x5/2018/', 'https://www.kbb.com/bmw/x5-m/2018/', 'https://www.kbb.com/bmw/m5/2018/', 'https://www.kbb.com/bmw/i3/2018/', 'https://www.kbb.com/bmw/x1/2018/', 'https://www.kbb.com/bmw/3-series/2018/', 'https://www.kbb.com/bmw/m2/2018/', 'https://www.kbb.com/bmw/m3/2018/', 'https://www.kbb.com/bmw/x3/2018/', 'https://www.kbb.com/bmw/6-series/2018/', 'https://www.kbb.com/bmw/4-series/2018/', 'https://www.kbb.com/bmw/m4/2018/', 'https://www.kbb.com/bmw/x6/2018/', 'https://www.kbb.com/bmw/x6-m/2018/', 'https://www.kbb.com/bmw/m6/2018/', 'https://www.kbb.com/bmw/x4/2018/', 'https://www.kbb.com/bmw/7-series/2018/', 'https://www.kbb.com/bmw/5-series/2017/', 'https://www.kbb.com/bmw/x1/2017/', 'https://www.kbb.com/bmw/3-series/2017/', 'https://www.kbb.com/bmw/x5/2017/', 'https://www.kbb.com/bmw/x5-m/2017/', 'https://www.kbb.com/bmw/m3/2017/', 'https://www.kbb.com/bmw/i3/2017/', 'https://www.kbb.com/bmw/2-series/2017/', 'https://www.kbb.com/bmw/6-series/2017/', 'https://www.kbb.com/bmw/m6/2017/', 'https://www.kbb.com/bmw/x3/2017/', 'https://www.kbb.com/bmw/4-series/2017/', 'https://www.kbb.com/bmw/m4/2017/', 'https://www.kbb.com/bmw/x6/2017/', 'https://www.kbb.com/bmw/x6-m/2017/', 'https://www.kbb.com/bmw/x4/2017/', 'https://www.kbb.com/bmw/7-series/2017/', 'https://www.kbb.com/bmw/m2/2017/', 'https://www.kbb.com/bmw/i8/2017/', 'https://www.kbb.com/bmw/x5/2016/', 'https://www.kbb.com/bmw/x5-m/2016/', 'https://www.kbb.com/bmw/i3/2016/', 'https://www.kbb.com/bmw/3-series/2016/', 'https://www.kbb.com/bmw/x1/2016/', 'https://www.kbb.com/bmw/2-series/2016/', 'https://www.kbb.com/bmw/m3/2016/', 'https://www.kbb.com/bmw/x3/2016/', 'https://www.kbb.com/bmw/4-series/2016/', 'https://www.kbb.com/bmw/m4/2016/', 'https://www.kbb.com/bmw/5-series/2016/', 'https://www.kbb.com/bmw/x6/2016/', 'https://www.kbb.com/bmw/x6-m/2016/', 'https://www.kbb.com/bmw/m5/2016/', 'https://www.kbb.com/bmw/6-series/2016/', 'https://www.kbb.com/bmw/m6/2016/', 'https://www.kbb.com/bmw/x4/2016/', 'https://www.kbb.com/bmw/z4/2016/', 'https://www.kbb.com/bmw/7-series/2016/', 'https://www.kbb.com/bmw/m2/2016/', 'https://www.kbb.com/bmw/i8/2016/', 'https://www.kbb.com/bmw/3-series/2015/', 'https://www.kbb.com/bmw/5-series/2015/', 'https://www.kbb.com/bmw/m3/2015/', 'https://www.kbb.com/bmw/m5/2015/', 'https://www.kbb.com/bmw/6-series/2015/', 'https://www.kbb.com/bmw/m6/2015/', 'https://www.kbb.com/bmw/x1/2015/', 'https://www.kbb.com/bmw/x3/2015/', 'https://www.kbb.com/bmw/z4/2015/', 'https://www.kbb.com/bmw/i3/2015/', 'https://www.kbb.com/bmw/4-series/2015/', 'https://www.kbb.com/bmw/2-series/2015/', 'https://www.kbb.com/bmw/7-series/2015/', 'https://www.kbb.com/bmw/x5/2015/', 'https://www.kbb.com/bmw/x4/2015/', 'https://www.kbb.com/bmw/x6/2015/', 'https://www.kbb.com/bmw/x6-m/2015/', 'https://www.kbb.com/bmw/x5-m/2015/', 'https://www.kbb.com/bmw/m4/2015/', 'https://www.kbb.com/bmw/i8/2015/', 'https://www.kbb.com/bmw/5-series/2014/', 'https://www.kbb.com/bmw/m5/2014/', 'https://www.kbb.com/bmw/3-series/2014/', 'https://www.kbb.com/bmw/6-series/2014/', 'https://www.kbb.com/bmw/m6/2014/', 'https://www.kbb.com/bmw/x1/2014/', 'https://www.kbb.com/bmw/x3/2014/', 'https://www.kbb.com/bmw/z4/2014/', 'https://www.kbb.com/bmw/x6/2014/', 'https://www.kbb.com/bmw/x6-m/2014/', 'https://www.kbb.com/bmw/4-series/2014/', 'https://www.kbb.com/bmw/i3/2014/', 'https://www.kbb.com/bmw/x5/2014/', 'https://www.kbb.com/bmw/7-series/2014/', 'https://www.kbb.com/bmw/2-series/2014/', 'https://www.kbb.com/bmw/i8/2014/', 'https://www.kbb.com/bmw/3-series/2013/', 'https://www.kbb.com/bmw/5-series/2013/', 'https://www.kbb.com/bmw/m3/2013/', 'https://www.kbb.com/bmw/m5/2013/', 'https://www.kbb.com/bmw/6-series/2013/', 'https://www.kbb.com/bmw/m6/2013/', 'https://www.kbb.com/bmw/x1/2013/', 'https://www.kbb.com/bmw/x3/2013/', 'https://www.kbb.com/bmw/x5/2013/', 'https://www.kbb.com/bmw/x5-m/2013/', 'https://www.kbb.com/bmw/1-series/', 'https://www.kbb.com/bmw/x6/2013/', 'https://www.kbb.com/bmw/x6-m/2013/', 'https://www.kbb.com/bmw/z4/2013/', 'https://www.kbb.com/bmw/7-series/2013/', 'https://www.kbb.com/bmw/5-series/2012/', 'https://www.kbb.com/bmw/3-series/2012/', 'https://www.kbb.com/bmw/m3/2012/', 'https://www.kbb.com/bmw/x6/2012/', 'https://www.kbb.com/bmw/6-series/2012/', 'https://www.kbb.com/bmw/m6/2012/', 'https://www.kbb.com/bmw/x3/2012/', 'https://www.kbb.com/bmw/x5/2012/', 'https://www.kbb.com/bmw/1-series/2012/', 'https://www.kbb.com/bmw/x5-m/2012/', 'https://www.kbb.com/bmw/z4/2012/', 'https://www.kbb.com/bmw/x6-m/2012/', 'https://www.kbb.com/bmw/7-series/2012/', 'https://www.kbb.com/bmw/x3/2011/', 'https://www.kbb.com/bmw/5-series/2011/', 'https://www.kbb.com/bmw/3-series/2011/', 'https://www.kbb.com/bmw/x5/2011/', 'https://www.kbb.com/bmw/7-series/2011/', 'https://www.kbb.com/bmw/1-series/2011/', 'https://www.kbb.com/bmw/x6/2011/', 'https://www.kbb.com/bmw/x6-m/2011/', 'https://www.kbb.com/bmw/x5-m/2011/', 'https://www.kbb.com/bmw/z4/2011/', 'https://www.kbb.com/bmw/m3/2011/', 'https://www.kbb.com/bmw/3-series/2010/', 'https://www.kbb.com/bmw/x5/2010/', 'https://www.kbb.com/bmw/5-series/2010/', 'https://www.kbb.com/bmw/x3/2010/', 'https://www.kbb.com/bmw/1-series/2010/', 'https://www.kbb.com/bmw/7-series/2010/', 'https://www.kbb.com/bmw/x6/2010/', 'https://www.kbb.com/bmw/6-series/2010/', 'https://www.kbb.com/bmw/x6-m/2010/', 'https://www.kbb.com/bmw/x5-m/2010/', 'https://www.kbb.com/bmw/z4/2010/', 'https://www.kbb.com/bmw/m3/2010/', 'https://www.kbb.com/bmw/m5/2010/', 'https://www.kbb.com/bmw/m6/2010/', 'https://www.kbb.com/bmw/3-series/2009/', 'https://www.kbb.com/bmw/5-series/2009/', 'https://www.kbb.com/bmw/x3/2009/', 'https://www.kbb.com/bmw/x5/2009/', 'https://www.kbb.com/bmw/7-series/2009/', 'https://www.kbb.com/bmw/1-series/2009/', 'https://www.kbb.com/bmw/x6/2009/', 'https://www.kbb.com/bmw/6-series/2009/', 'https://www.kbb.com/bmw/z4/2009/', 'https://www.kbb.com/bmw/m3/2009/', 'https://www.kbb.com/bmw/m5/2009/', 'https://www.kbb.com/bmw/m6/2009/', 'https://www.kbb.com/bmw/x3/2008/', 'https://www.kbb.com/bmw/5-series/2008/', 'https://www.kbb.com/bmw/3-series/2008/', 'https://www.kbb.com/bmw/x5/2008/', 'https://www.kbb.com/bmw/7-series/2008/', 'https://www.kbb.com/bmw/1-series/2008/', 'https://www.kbb.com/bmw/x6/2008/', 'https://www.kbb.com/bmw/6-series/2008/', 'https://www.kbb.com/bmw/alpina-b7/', 'https://www.kbb.com/bmw/z4/2008/', 'https://www.kbb.com/bmw/m3/2008/', 'https://www.kbb.com/bmw/m5/2008/', 'https://www.kbb.com/bmw/m6/2008/', 'https://www.kbb.com/bmw/z4-m/', 'https://www.kbb.com/bmw/x3/2007/', 'https://www.kbb.com/bmw/5-series/2007/', 'https://www.kbb.com/bmw/3-series/2007/', 'https://www.kbb.com/bmw/x5/2007/', 'https://www.kbb.com/bmw/7-series/2007/', 'https://www.kbb.com/bmw/6-series/2007/', 'https://www.kbb.com/bmw/alpina-b7/2007/', 'https://www.kbb.com/bmw/z4/2007/', 'https://www.kbb.com/bmw/m5/2007/', 'https://www.kbb.com/bmw/m6/2007/', 'https://www.kbb.com/bmw/z4-m/2007/', 'https://www.kbb.com/bmw/x5/2006/', 'https://www.kbb.com/bmw/x3/2006/', 'https://www.kbb.com/bmw/3-series/2006/', 'https://www.kbb.com/bmw/5-series/2006/', 'https://www.kbb.com/bmw/7-series/2006/', 'https://www.kbb.com/bmw/6-series/2006/', 'https://www.kbb.com/bmw/z4/2006/', 'https://www.kbb.com/bmw/m3/2006/', 'https://www.kbb.com/bmw/m5/2006/', 'https://www.kbb.com/bmw/m6/2006/', 'https://www.kbb.com/bmw/z4-m/2006/', 'https://www.kbb.com/bmw/x5/2005/', 'https://www.kbb.com/bmw/x3/2005/', 'https://www.kbb.com/bmw/5-series/2005/', 'https://www.kbb.com/bmw/3-series/2005/', 'https://www.kbb.com/bmw/7-series/2005/', 'https://www.kbb.com/bmw/6-series/2005/', 'https://www.kbb.com/bmw/z4/2005/', 'https://www.kbb.com/bmw/m3/2005/', 'https://www.kbb.com/bmw/x5/2004/', 'https://www.kbb.com/bmw/5-series/2004/', 'https://www.kbb.com/bmw/3-series/2004/', 'https://www.kbb.com/bmw/x3/2004/', 'https://www.kbb.com/bmw/7-series/2004/', 'https://www.kbb.com/bmw/6-series/2004/', 'https://www.kbb.com/bmw/z4/2004/', 'https://www.kbb.com/bmw/m3/2004/', 'https://www.kbb.com/bmw/x5/2003/', 'https://www.kbb.com/bmw/5-series/2003/', 'https://www.kbb.com/bmw/3-series/2003/', 'https://www.kbb.com/bmw/7-series/2003/', 'https://www.kbb.com/bmw/z4/2003/', 'https://www.kbb.com/bmw/m3/2003/', 'https://www.kbb.com/bmw/m5/2003/', 'https://www.kbb.com/bmw/z8/', 'https://www.kbb.com/bmw/x5/2002/', 'https://www.kbb.com/bmw/5-series/2002/', 'https://www.kbb.com/bmw/3-series/2002/', 'https://www.kbb.com/bmw/7-series/2002/', 'https://www.kbb.com/bmw/z3/', 'https://www.kbb.com/bmw/m3/2002/', 'https://www.kbb.com/bmw/m/', 'https://www.kbb.com/bmw/m5/2002/', 'https://www.kbb.com/bmw/z8/2002/', 'https://www.kbb.com/bmw/x5/2001/', 'https://www.kbb.com/bmw/5-series/2001/', 'https://www.kbb.com/bmw/3-series/2001/', 'https://www.kbb.com/bmw/7-series/2001/', 'https://www.kbb.com/bmw/z3/2001/', 'https://www.kbb.com/bmw/m3/2001/', 'https://www.kbb.com/bmw/m/2001/', 'https://www.kbb.com/bmw/m5/2001/', 'https://www.kbb.com/bmw/z8/2001/', 'https://www.kbb.com/bmw/x5/2000/', 'https://www.kbb.com/bmw/5-series/2000/', 'https://www.kbb.com/bmw/3-series/2000/', 'https://www.kbb.com/bmw/7-series/2000/', 'https://www.kbb.com/bmw/z3/2000/', 'https://www.kbb.com/bmw/m/2000/', 'https://www.kbb.com/bmw/m5/2000/', 'https://www.kbb.com/bmw/z8/2000/', 'https://www.kbb.com/bmw/3-series/1999/', 'https://www.kbb.com/bmw/5-series/1999/', 'https://www.kbb.com/bmw/7-series/1999/', 'https://www.kbb.com/bmw/z3/1999/', 'https://www.kbb.com/bmw/m3/1999/', 'https://www.kbb.com/bmw/3-series/1998/', 'https://www.kbb.com/bmw/5-series/1998/', 'https://www.kbb.com/bmw/7-series/1998/', 'https://www.kbb.com/bmw/z3/1998/', 'https://www.kbb.com/bmw/m3/1998/', 'https://www.kbb.com/bmw/3-series/1997/', 'https://www.kbb.com/bmw/5-series/1997/', 'https://www.kbb.com/bmw/7-series/1997/', 'https://www.kbb.com/bmw/z3/1997/', 'https://www.kbb.com/bmw/m3/1997/', 'https://www.kbb.com/bmw/8-series/1997/', 'https://www.kbb.com/bmw/3-series/1996/', 'https://www.kbb.com/bmw/7-series/1996/', 'https://www.kbb.com/bmw/z3/1996/', 'https://www.kbb.com/bmw/8-series/1996/', 'https://www.kbb.com/bmw/m3/1996/', 'https://www.kbb.com/bmw/3-series/1995/', 'https://www.kbb.com/bmw/5-series/1995/', 'https://www.kbb.com/bmw/7-series/1995/', 'https://www.kbb.com/bmw/8-series/1995/', 'https://www.kbb.com/bmw/m3/1995/', 'https://www.kbb.com/bmw/5-series/1994/', 'https://www.kbb.com/bmw/3-series/1994/', 'https://www.kbb.com/bmw/7-series/1994/', 'https://www.kbb.com/bmw/8-series/1994/', 'https://www.kbb.com/bmw/5-series/1993/', 'https://www.kbb.com/bmw/3-series/1993/', 'https://www.kbb.com/bmw/7-series/1993/', 'https://www.kbb.com/bmw/8-series/1993/', 'https://www.kbb.com/bmw/m5/1993/', 'https://www.kbb.com/bmw/3-series/1992/', 'https://www.kbb.com/bmw/5-series/1992/', 'https://www.kbb.com/bmw/7-series/1992/', 'https://www.kbb.com/bmw/8-series/1992/', 'https://www.kbb.com/bmw/m5/1992/']\n"
     ]
    }
   ],
   "source": [
    "option_values=[]\n",
    "for i in range(1,2) :\n",
    "    url='https://www.kbb.com/mclaren/page-'+str(i)+'/'\n",
    "    response = requests.get(url, allow_redirects=False)\n",
    "    soup = BeautifulSoup(response.content, 'html.parser')\n",
    "    content = soup.get_text()\n",
    "    models = soup.find_all('a', {'class' : 'css-1p1ymyr ewtqiv30'})\n",
    "    option_values = option_values+[option['href'] for option in models]\n",
    "\n",
    "urls=[]\n",
    "for op in option_values :\n",
    "    urls.append(\"https://www.kbb.com\"+op)\n",
    "    \n",
    "print(urls)    "
   ]
  },
  {
   "cell_type": "markdown",
   "id": "f00560a8",
   "metadata": {},
   "source": [
    "## Création de la première ligne "
   ]
  },
  {
   "cell_type": "markdown",
   "id": "8eede71d",
   "metadata": {},
   "source": [
    "### Extraction des ratings"
   ]
  },
  {
   "cell_type": "code",
   "execution_count": 5,
   "id": "e1c646b5",
   "metadata": {
    "scrolled": true
   },
   "outputs": [
    {
     "name": "stdout",
     "output_type": "stream",
     "text": [
      "['2023 Volkswagen ID.4']\n",
      "['Value', 'Performance', 'Quality', 'Comfort', 'Reliability', 'Styling']\n",
      "[4.6, 4.6, 4.8, 4.6, 4.6, 4.8, 5.0, 5.0, 4.0, 5.0]\n"
     ]
    },
    {
     "data": {
      "text/html": [
       "<div>\n",
       "<style scoped>\n",
       "    .dataframe tbody tr th:only-of-type {\n",
       "        vertical-align: middle;\n",
       "    }\n",
       "\n",
       "    .dataframe tbody tr th {\n",
       "        vertical-align: top;\n",
       "    }\n",
       "\n",
       "    .dataframe thead th {\n",
       "        text-align: right;\n",
       "    }\n",
       "</style>\n",
       "<table border=\"1\" class=\"dataframe\">\n",
       "  <thead>\n",
       "    <tr style=\"text-align: right;\">\n",
       "      <th></th>\n",
       "      <th>Car</th>\n",
       "      <th>Value</th>\n",
       "      <th>Performance</th>\n",
       "      <th>Quality</th>\n",
       "      <th>Comfort</th>\n",
       "      <th>Reliability</th>\n",
       "      <th>Styling</th>\n",
       "    </tr>\n",
       "  </thead>\n",
       "  <tbody>\n",
       "    <tr>\n",
       "      <th>0</th>\n",
       "      <td>2023 Volkswagen ID.4</td>\n",
       "      <td>4.6</td>\n",
       "      <td>4.6</td>\n",
       "      <td>4.8</td>\n",
       "      <td>4.6</td>\n",
       "      <td>4.6</td>\n",
       "      <td>4.8</td>\n",
       "    </tr>\n",
       "  </tbody>\n",
       "</table>\n",
       "</div>"
      ],
      "text/plain": [
       "                    Car  Value  Performance  Quality  Comfort  Reliability  \\\n",
       "0  2023 Volkswagen ID.4    4.6          4.6      4.8      4.6          4.6   \n",
       "\n",
       "   Styling  \n",
       "0      4.8  "
      ]
     },
     "execution_count": 5,
     "metadata": {},
     "output_type": "execute_result"
    }
   ],
   "source": [
    "voit=[]\n",
    "var=[]\n",
    "ratings=[]\n",
    "name=[]\n",
    "caracter=[]\n",
    "url=\"https://www.kbb.com/volkswagen/id4/\"\n",
    "response = requests.get(url)\n",
    "soup = BeautifulSoup(response.content, 'html.parser')\n",
    "content = soup.get_text()\n",
    "name = soup.find('div', {'class' : 'css-1z001wv evrbb773'})\n",
    "voit.append(name.get_text())\n",
    "print(voit)\n",
    "var.append(\"Car\")\n",
    "results = soup.find_all('div', {'class' : 'css-1rttn8x'})\n",
    "for result in results :\n",
    "    var.append(result.text)\n",
    "    caracter.append(result.text)\n",
    "var=var[:7]    \n",
    "caracter=caracter[:6]\n",
    "print(caracter)\n",
    "rate= soup.find_all('div', {'class' : 'css-sf59yt'})\n",
    "for rating in rate :\n",
    "    ratings.append(float(rating.text))\n",
    "    \n",
    "print(ratings) \n",
    "\n",
    "\n",
    "df=pd.DataFrame([voit+ratings[:6]],columns=var)\n",
    "\n",
    "    \n",
    "df"
   ]
  },
  {
   "cell_type": "code",
   "execution_count": 6,
   "id": "c709ea98",
   "metadata": {},
   "outputs": [
    {
     "name": "stdout",
     "output_type": "stream",
     "text": [
      "10\n"
     ]
    }
   ],
   "source": [
    "var1=var+[\"Pros\", \"Cons\",\"New\"]\n",
    "print(len(var1))"
   ]
  },
  {
   "cell_type": "markdown",
   "id": "5f64ef6c",
   "metadata": {},
   "source": [
    "### Extraction des caractéristiques communes des voitures (éléctrique/mécanique)"
   ]
  },
  {
   "cell_type": "code",
   "execution_count": 7,
   "id": "4aa48b7d",
   "metadata": {},
   "outputs": [
    {
     "name": "stdout",
     "output_type": "stream",
     "text": [
      "['Heated Steering Wheel', 'Available', 'Integrated Garage Door Opener', 'Port Installed', 'Interior Ambient Lighting', 'Available', 'Curb Weight', '4317 lbs.', 'Front Head Room', '40.6 inches', 'Front Leg Room', '41.1 inches', 'Max Seating Capacity', '5', 'Minimum Ground Clearance', '6.0 inches', 'Overall Length', '180.5 inches', 'Front Shoulder Room', '57.5 inches', 'Trunk or Cargo Capacity', '64.2 cu.ft.', 'Turning Diameter', '36.4 feet', 'Wheel Base', '108.7 inches', 'Width with mirrors', '72.9 inches', 'Alloy Wheels', 'Available', 'Number of Doors', '4 doors', 'Power Folding Exterior Mirrors', 'Available', 'Privacy Glass', 'Available', 'Roof Rails', 'Available', 'LED Headlights', 'Available', 'City', '115 MPGe', 'Combined', '107 MPGe', 'Highway', '99 MPGe', 'Drivetrain', 'RWD', '1 speed', 'Available', 'Parking Assist System', 'Available', 'Horsepower', '201 hp', 'Torque', '229 foot pounds', 'Engine', 'Electric Motor', 'Estimated Electric Range', '209 miles', 'Charge Time (240V)', '6 hours', 'Battery Capacity', '62.00 kwh', 'Basic', '4 years / 50000 miles', 'Powertrain', '4 years / 50000 miles', 'Corrosion', '7 years / 100000 miles']\n",
      "['Heated Steering Wheel', 'Integrated Garage Door Opener', 'Interior Ambient Lighting', 'Curb Weight', 'Front Head Room', 'Front Leg Room', 'Max Seating Capacity', 'Minimum Ground Clearance', 'Overall Length', 'Front Shoulder Room', 'Trunk or Cargo Capacity', 'Turning Diameter', 'Wheel Base', 'Width with mirrors', 'Alloy Wheels', 'Number of Doors', 'Power Folding Exterior Mirrors', 'Privacy Glass', 'Roof Rails', 'LED Headlights', 'City', 'Combined', 'Highway', 'Drivetrain', '1 speed', 'Parking Assist System', 'Horsepower', 'Torque', 'Engine', 'Estimated Electric Range', 'Charge Time (240V)', 'Battery Capacity', 'Basic', 'Powertrain', 'Corrosion']\n",
      "['Available', 'Port Installed', 'Available', '4317 lbs.', '40.6 inches', '41.1 inches', '5', '6.0 inches', '180.5 inches', '57.5 inches', '64.2 cu.ft.', '36.4 feet', '108.7 inches', '72.9 inches', 'Available', '4 doors', 'Available', 'Available', 'Available', 'Available', '115 MPGe', '107 MPGe', '99 MPGe', 'RWD', 'Available', 'Available', '201 hp', '229 foot pounds', 'Electric Motor', '209 miles', '6 hours', '62.00 kwh', '4 years / 50000 miles', '4 years / 50000 miles', '7 years / 100000 miles']\n",
      "35\n",
      "35\n"
     ]
    }
   ],
   "source": [
    "lelect=[]\n",
    "lelect1=[]\n",
    "lelect2=[]\n",
    "i=0\n",
    "url=\"https://www.kbb.com/volkswagen/id4/\"\n",
    "response = requests.get(url)\n",
    "soup = BeautifulSoup(response.content, 'html.parser')\n",
    "content = soup.get_text()\n",
    "caract= soup.find_all('div',{'class' : 'css-z687n ee33uo36'})\n",
    "for car in caract :\n",
    "    lelect.append(car.text)\n",
    "print(lelect) \n",
    "while i<len(lelect) :\n",
    "    lelect1.append(lelect[i]) #lelect1 va contenir toutes les variables des voitures électriques\n",
    "    lelect2.append(lelect[i+1])  #lelect2 contient toutzq les valeurs correspondantes à ces variables\n",
    "    i=i+2\n",
    "print(lelect1)\n",
    "print(lelect2)\n",
    "print(len(lelect1))\n",
    "print(len(lelect2))"
   ]
  },
  {
   "cell_type": "code",
   "execution_count": 8,
   "id": "7b027d0a",
   "metadata": {},
   "outputs": [
    {
     "name": "stdout",
     "output_type": "stream",
     "text": [
      "['Climate Control Air Conditioning', 'Available', 'Heated Steering Wheel', 'Available', 'Integrated Garage Door Opener', 'Port Installed', 'Interior Ambient Lighting', 'Available', 'Curb Weight', '3133 lbs.', 'EPA Passenger', '91.9 cu.ft.', 'Fuel Capacity', '13.2 gallons', 'Front Head Room', '38.5 inches', 'Front Leg Room', '41.2 inches', 'Max Seating Capacity', '5', 'Minimum Ground Clearance', '4.7 inches', 'Overall Length', '168.8 inches', 'Front Shoulder Room', '55.9 inches', 'Trunk or Cargo Capacity', '34.5 cu.ft.', 'Turning Diameter', '35.8 feet', 'Wheel Base', '103.6 inches', 'Width with mirrors', '70.4 inches', 'Alloy Wheels', 'Available', 'Fog Lights', 'Available', 'Number of Doors', '4 doors', 'LED Headlights', 'Available', 'Rear Spoiler', 'Available', 'City', '23 mpg', 'Highway', '32 mpg', 'Combined', '27 mpg', 'Drivetrain', 'FWD', 'Transmission Type', 'Manual', '6 speed', 'Available', 'Recommended Fuel', 'Regular', 'Hill Start Assist', 'Available', 'Limited Slip Differential', 'Available', 'Horsepower', '241 @ 5000 RPM', 'Torque', '273 @ 1600 rpm', 'Engine', '4-Cyl, Turbo, 2.0 Liter', 'Basic', '4 years / 50000 miles', 'Powertrain', '4 years / 50000 miles', 'Corrosion', '7 years / 100000 miles']\n",
      "['Climate Control Air Conditioning', 'Heated Steering Wheel', 'Integrated Garage Door Opener', 'Interior Ambient Lighting', 'Curb Weight', 'EPA Passenger', 'Fuel Capacity', 'Front Head Room', 'Front Leg Room', 'Max Seating Capacity', 'Minimum Ground Clearance', 'Overall Length', 'Front Shoulder Room', 'Trunk or Cargo Capacity', 'Turning Diameter', 'Wheel Base', 'Width with mirrors', 'Alloy Wheels', 'Fog Lights', 'Number of Doors', 'LED Headlights', 'Rear Spoiler', 'City', 'Highway', 'Combined', 'Drivetrain', 'Transmission Type', '6 speed', 'Recommended Fuel', 'Hill Start Assist', 'Limited Slip Differential', 'Horsepower', 'Torque', 'Engine', 'Basic', 'Powertrain', 'Corrosion']\n",
      "['Available', 'Available', 'Port Installed', 'Available', '3133 lbs.', '91.9 cu.ft.', '13.2 gallons', '38.5 inches', '41.2 inches', '5', '4.7 inches', '168.8 inches', '55.9 inches', '34.5 cu.ft.', '35.8 feet', '103.6 inches', '70.4 inches', 'Available', 'Available', '4 doors', 'Available', 'Available', '23 mpg', '32 mpg', '27 mpg', 'FWD', 'Manual', 'Available', 'Regular', 'Available', 'Available', '241 @ 5000 RPM', '273 @ 1600 rpm', '4-Cyl, Turbo, 2.0 Liter', '4 years / 50000 miles', '4 years / 50000 miles', '7 years / 100000 miles']\n",
      "37\n",
      "37\n"
     ]
    }
   ],
   "source": [
    "l=[]\n",
    "l1=[]\n",
    "l2=[]\n",
    "i=0\n",
    "url=\"https://www.kbb.com/volkswagen/golf/\"\n",
    "response = requests.get(url)\n",
    "soup = BeautifulSoup(response.content, 'html.parser')\n",
    "content = soup.get_text()\n",
    "caract= soup.find_all('div',{'class' : 'css-z687n ee33uo36'})\n",
    "for car in caract :\n",
    "    l.append(car.text)\n",
    "print(l) \n",
    "while i<len(l) :\n",
    "    l1.append(l[i])\n",
    "    l2.append(l[i+1])\n",
    "    i=i+2\n",
    "print(l1)\n",
    "print(l2)\n",
    "print(len(l1))\n",
    "print(len(l2))"
   ]
  },
  {
   "cell_type": "code",
   "execution_count": 9,
   "id": "b1a0dc4c",
   "metadata": {},
   "outputs": [
    {
     "name": "stdout",
     "output_type": "stream",
     "text": [
      "27\n",
      "27\n"
     ]
    }
   ],
   "source": [
    "l3=[] #liste des variables finales\n",
    "l4=[] #liste des valeurs pour les voitures mec\n",
    "lelect4=[] #liste des valeurs pour les voitures éléctriques\n",
    "\n",
    "\n",
    "for i in  range(0,len(l1)) :\n",
    "    for j in range(0,len(lelect1)) :\n",
    "        if l1[i]==lelect1[j]: \n",
    "            l3.append(l1[i])\n",
    "            l4.append(l2[i])\n",
    "            lelect4.append(lelect2[j]) \n",
    "\n",
    "print(len(l3))\n",
    "print(len(l4))\n"
   ]
  },
  {
   "cell_type": "code",
   "execution_count": 10,
   "id": "c29e4abb",
   "metadata": {},
   "outputs": [
    {
     "data": {
      "text/html": [
       "<div>\n",
       "<style scoped>\n",
       "    .dataframe tbody tr th:only-of-type {\n",
       "        vertical-align: middle;\n",
       "    }\n",
       "\n",
       "    .dataframe tbody tr th {\n",
       "        vertical-align: top;\n",
       "    }\n",
       "\n",
       "    .dataframe thead th {\n",
       "        text-align: right;\n",
       "    }\n",
       "</style>\n",
       "<table border=\"1\" class=\"dataframe\">\n",
       "  <thead>\n",
       "    <tr style=\"text-align: right;\">\n",
       "      <th></th>\n",
       "      <th>Heated Steering Wheel</th>\n",
       "      <th>Integrated Garage Door Opener</th>\n",
       "      <th>Interior Ambient Lighting</th>\n",
       "      <th>Curb Weight</th>\n",
       "      <th>Front Head Room</th>\n",
       "      <th>Front Leg Room</th>\n",
       "      <th>Max Seating Capacity</th>\n",
       "      <th>Minimum Ground Clearance</th>\n",
       "      <th>Overall Length</th>\n",
       "      <th>Front Shoulder Room</th>\n",
       "      <th>...</th>\n",
       "      <th>City</th>\n",
       "      <th>Highway</th>\n",
       "      <th>Combined</th>\n",
       "      <th>Drivetrain</th>\n",
       "      <th>Horsepower</th>\n",
       "      <th>Torque</th>\n",
       "      <th>Engine</th>\n",
       "      <th>Basic</th>\n",
       "      <th>Powertrain</th>\n",
       "      <th>Corrosion</th>\n",
       "    </tr>\n",
       "  </thead>\n",
       "  <tbody>\n",
       "    <tr>\n",
       "      <th>0</th>\n",
       "      <td>Available</td>\n",
       "      <td>Port Installed</td>\n",
       "      <td>Available</td>\n",
       "      <td>4317 lbs.</td>\n",
       "      <td>40.6 inches</td>\n",
       "      <td>41.1 inches</td>\n",
       "      <td>5</td>\n",
       "      <td>6.0 inches</td>\n",
       "      <td>180.5 inches</td>\n",
       "      <td>57.5 inches</td>\n",
       "      <td>...</td>\n",
       "      <td>115 MPGe</td>\n",
       "      <td>99 MPGe</td>\n",
       "      <td>107 MPGe</td>\n",
       "      <td>RWD</td>\n",
       "      <td>201 hp</td>\n",
       "      <td>229 foot pounds</td>\n",
       "      <td>Electric Motor</td>\n",
       "      <td>4 years / 50000 miles</td>\n",
       "      <td>4 years / 50000 miles</td>\n",
       "      <td>7 years / 100000 miles</td>\n",
       "    </tr>\n",
       "  </tbody>\n",
       "</table>\n",
       "<p>1 rows × 27 columns</p>\n",
       "</div>"
      ],
      "text/plain": [
       "  Heated Steering Wheel Integrated Garage Door Opener  \\\n",
       "0             Available                Port Installed   \n",
       "\n",
       "  Interior Ambient Lighting Curb Weight Front Head Room Front Leg Room  \\\n",
       "0                 Available   4317 lbs.     40.6 inches    41.1 inches   \n",
       "\n",
       "  Max Seating Capacity Minimum Ground Clearance Overall Length  \\\n",
       "0                    5               6.0 inches   180.5 inches   \n",
       "\n",
       "  Front Shoulder Room  ...      City  Highway  Combined Drivetrain Horsepower  \\\n",
       "0         57.5 inches  ...  115 MPGe  99 MPGe  107 MPGe        RWD     201 hp   \n",
       "\n",
       "            Torque          Engine                  Basic  \\\n",
       "0  229 foot pounds  Electric Motor  4 years / 50000 miles   \n",
       "\n",
       "              Powertrain               Corrosion  \n",
       "0  4 years / 50000 miles  7 years / 100000 miles  \n",
       "\n",
       "[1 rows x 27 columns]"
      ]
     },
     "execution_count": 10,
     "metadata": {},
     "output_type": "execute_result"
    }
   ],
   "source": [
    "dataf= pd.DataFrame([lelect4],columns=l3)\n",
    "dataf"
   ]
  },
  {
   "cell_type": "markdown",
   "id": "c5a7e854",
   "metadata": {},
   "source": [
    "### Ajout de colonnes pros/cons et news (selon les experts)"
   ]
  },
  {
   "cell_type": "code",
   "execution_count": 11,
   "id": "90841d78",
   "metadata": {},
   "outputs": [
    {
     "name": "stdout",
     "output_type": "stream",
     "text": [
      "                                                Pros  \\\n",
      "0  \\nDriving dynamics\\nRefinement\\nPlenty of stan...   \n",
      "\n",
      "                                      Cons                         New  \n",
      "0  \\nNo physical volume/radio controls\\n\\n  \\nAnniversary editions\\n\\n  \n"
     ]
    },
    {
     "data": {
      "text/html": [
       "<div>\n",
       "<style scoped>\n",
       "    .dataframe tbody tr th:only-of-type {\n",
       "        vertical-align: middle;\n",
       "    }\n",
       "\n",
       "    .dataframe tbody tr th {\n",
       "        vertical-align: top;\n",
       "    }\n",
       "\n",
       "    .dataframe thead th {\n",
       "        text-align: right;\n",
       "    }\n",
       "</style>\n",
       "<table border=\"1\" class=\"dataframe\">\n",
       "  <thead>\n",
       "    <tr style=\"text-align: right;\">\n",
       "      <th></th>\n",
       "      <th>Car</th>\n",
       "      <th>Value</th>\n",
       "      <th>Performance</th>\n",
       "      <th>Quality</th>\n",
       "      <th>Comfort</th>\n",
       "      <th>Reliability</th>\n",
       "      <th>Styling</th>\n",
       "      <th>Pros</th>\n",
       "      <th>Cons</th>\n",
       "      <th>New</th>\n",
       "      <th>...</th>\n",
       "      <th>City</th>\n",
       "      <th>Highway</th>\n",
       "      <th>Combined</th>\n",
       "      <th>Drivetrain</th>\n",
       "      <th>Horsepower</th>\n",
       "      <th>Torque</th>\n",
       "      <th>Engine</th>\n",
       "      <th>Basic</th>\n",
       "      <th>Powertrain</th>\n",
       "      <th>Corrosion</th>\n",
       "    </tr>\n",
       "  </thead>\n",
       "  <tbody>\n",
       "    <tr>\n",
       "      <th>0</th>\n",
       "      <td>2023 Volkswagen ID.4</td>\n",
       "      <td>4.6</td>\n",
       "      <td>4.6</td>\n",
       "      <td>4.8</td>\n",
       "      <td>4.6</td>\n",
       "      <td>4.6</td>\n",
       "      <td>4.8</td>\n",
       "      <td>\\nDriving dynamics\\nRefinement\\nPlenty of stan...</td>\n",
       "      <td>\\nNo physical volume/radio controls\\n\\n</td>\n",
       "      <td>\\nAnniversary editions\\n\\n</td>\n",
       "      <td>...</td>\n",
       "      <td>115 MPGe</td>\n",
       "      <td>99 MPGe</td>\n",
       "      <td>107 MPGe</td>\n",
       "      <td>RWD</td>\n",
       "      <td>201 hp</td>\n",
       "      <td>229 foot pounds</td>\n",
       "      <td>Electric Motor</td>\n",
       "      <td>4 years / 50000 miles</td>\n",
       "      <td>4 years / 50000 miles</td>\n",
       "      <td>7 years / 100000 miles</td>\n",
       "    </tr>\n",
       "  </tbody>\n",
       "</table>\n",
       "<p>1 rows × 37 columns</p>\n",
       "</div>"
      ],
      "text/plain": [
       "                    Car  Value  Performance  Quality  Comfort  Reliability  \\\n",
       "0  2023 Volkswagen ID.4    4.6          4.6      4.8      4.6          4.6   \n",
       "\n",
       "   Styling                                               Pros  \\\n",
       "0      4.8  \\nDriving dynamics\\nRefinement\\nPlenty of stan...   \n",
       "\n",
       "                                      Cons                         New  ...  \\\n",
       "0  \\nNo physical volume/radio controls\\n\\n  \\nAnniversary editions\\n\\n  ...   \n",
       "\n",
       "       City  Highway  Combined Drivetrain Horsepower           Torque  \\\n",
       "0  115 MPGe  99 MPGe  107 MPGe        RWD     201 hp  229 foot pounds   \n",
       "\n",
       "           Engine                  Basic             Powertrain  \\\n",
       "0  Electric Motor  4 years / 50000 miles  4 years / 50000 miles   \n",
       "\n",
       "                Corrosion  \n",
       "0  7 years / 100000 miles  \n",
       "\n",
       "[1 rows x 37 columns]"
      ]
     },
     "execution_count": 11,
     "metadata": {},
     "output_type": "execute_result"
    }
   ],
   "source": [
    "proscons = soup.find_all('div', {'class' : 'editoralContent css-q5da8s'})\n",
    "\n",
    "dict1={\"Pros\": proscons[0].text, \"Cons\" : proscons[1].text, \"New\" : proscons[2].text }\n",
    "dict1\n",
    "data=pd.DataFrame([dict1])\n",
    "print(data)\n",
    "df=pd.concat([df,data,dataf], axis =1)\n",
    "df"
   ]
  },
  {
   "cell_type": "code",
   "execution_count": 12,
   "id": "84649f48",
   "metadata": {},
   "outputs": [
    {
     "name": "stdout",
     "output_type": "stream",
     "text": [
      "37\n",
      "['Car', 'Value', 'Performance', 'Quality', 'Comfort', 'Reliability', 'Styling', 'Pros', 'Cons', 'New', 'Heated Steering Wheel', 'Integrated Garage Door Opener', 'Interior Ambient Lighting', 'Curb Weight', 'Front Head Room', 'Front Leg Room', 'Max Seating Capacity', 'Minimum Ground Clearance', 'Overall Length', 'Front Shoulder Room', 'Trunk or Cargo Capacity', 'Turning Diameter', 'Wheel Base', 'Width with mirrors', 'Alloy Wheels', 'Number of Doors', 'LED Headlights', 'City', 'Highway', 'Combined', 'Drivetrain', 'Horsepower', 'Torque', 'Engine', 'Basic', 'Powertrain', 'Corrosion']\n"
     ]
    }
   ],
   "source": [
    "var2 = var1+l3\n",
    "print(len(var2))\n",
    "print(var2)"
   ]
  },
  {
   "cell_type": "markdown",
   "id": "98160e10",
   "metadata": {},
   "source": [
    "## Création de la base "
   ]
  },
  {
   "cell_type": "code",
   "execution_count": null,
   "id": "486d5e37",
   "metadata": {
    "scrolled": true
   },
   "outputs": [
    {
     "name": "stdout",
     "output_type": "stream",
     "text": [
      "[4.0, 4.7, 4.4, 4.6, 4.4, 4.6]\n",
      "['2023 BMW X5 M', 4.0, 4.7, 4.4, 4.6, 4.4, 4.6, '', '', '', '', '', '', '5455 lbs.', '40.8 inches', '39.8 inches', '5', '', '195.0 inches', '60.0 inches', '', '', '117.0 inches', '87.3 inches', 'Available', '4 doors', 'Available', '13 mpg', '18 mpg', '15 mpg', 'AWD', '600 @ 6000 RPM', '553 @ 1800 rpm', 'V8, Twin Turbo, 4.4 Liter', '4 years / 50000 miles', '4 years / 50000 miles', '12 years / Unlimited miles']\n",
      "[4.6, 4.6, 4.6, 4.6, 4.6, 4.5]\n",
      "['2023 BMW M5', 4.6, 4.6, 4.6, 4.6, 4.6, 4.5, '', '', '', '', '', '', '4345 lbs.', '40.7 inches', '41.4 inches', '5', '', '196.4 inches', '58.7 inches', '18.7 cu.ft.', '', '117.4 inches', '83.7 inches', 'Available', '4 doors', 'Available', '15 mpg', '21 mpg', '17 mpg', 'AWD', '600 @ 6000 RPM', '553 @ 1800 rpm', 'V8, Twin Turbo, 4.4 Liter', '4 years / 50000 miles', '4 years / 50000 miles', '12 years / Unlimited miles']\n",
      "[5.0, 5.0, 5.0, 5.0, 5.0, 5.0]\n",
      "['2023 BMW X6 M', 5.0, 5.0, 5.0, 5.0, 5.0, 5.0, '', '', '', '', '', '', '5375 lbs.', '40.4 inches', '40.4 inches', '5', '', '195.0 inches', '60.0 inches', '', '', '117.0 inches', '87.1 inches', 'Available', '4 doors', 'Available', '13 mpg', '18 mpg', '15 mpg', 'AWD', '600 @ 6000 RPM', '553 @ 1800 rpm', 'V8, Twin Turbo, 4.4 Liter', '4 years / 50000 miles', '4 years / 50000 miles', '12 years / Unlimited miles']\n",
      "[5.0, 5.0, 5.0, 4.0, 5.0, 5.0]\n",
      "['2023 BMW M8', 5.0, 5.0, 5.0, 4.0, 5.0, 5.0, '', '', '', '', '', '', '4480 lbs.', '40.6 inches', '42.1 inches', '5', '', '200.9 inches', '57.2 inches', '11.0 cu.ft.', '', '119.2 inches', '84.1 inches', 'Available', '4 doors', '', '15 mpg', '22 mpg', '17 mpg', 'AWD', '617 @ 6000 RPM', '553 @ 1800 rpm', 'V8, Twin Turbo, 4.4 Liter', '4 years / 50000 miles', '4 years / 50000 miles', '12 years / Unlimited miles']\n",
      "[4.0, 4.7, 4.4, 4.6, 4.4, 4.6]\n",
      "['2022 BMW X5', 4.0, 4.7, 4.4, 4.6, 4.4, 4.6, '\\nSublime example of the luxury SUV/crossover class\\nEngaging to drive\\nPlug-in hybrid version can cover 31 miles in electric mode\\nInsanely powerful X5 M performance model.\\nThree-row seating available\\n\\n', '\\nExpensive, especially once there’s a V8 involved\\n\\n', '\\nIcon Adaptive LED headlights w/Laserlight now standard on the X5 M\\nNew Climate Comfort package adds heated seats/steering wheel/front armrests, and quad-zone automatic climate control\\nNew paint choices\\nFog lights no longer available\\nWireless charging discontinued\\n\\n', '', '', '', '4828 lbs.', '40.7 inches', '39.8 inches', '7', '', '194.3 inches', '60.0 inches', '', '', '117.1 inches', '87.3 inches', 'Available', '4 doors', 'Available', '21 mpg', '26 mpg', '23 mpg', 'RWD', '335 @ 5500 RPM', '331 @ 1500 rpm', '6-Cyl, Turbo, 3.0 Liter', '4 years / 50000 miles', '4 years / 50000 miles', '12 years / Unlimited miles']\n",
      "[4.1, 4.8, 4.7, 4.7, 4.4, 4.9]\n",
      "['2022 BMW 7 Series', 4.1, 4.8, 4.7, 4.7, 4.4, 4.9, '\\nLuxurious yet composed\\nSpacious yet thrilling\\nImpressive tech\\nSuperb engines\\n\\n', '\\nDepreciation is a weak point\\nNot as fresh as some rivals\\n\\n', '\\nRemote control parking feature now available as an individual option\\n\\n', '', '', '', '4244 lbs.', '39.9 inches', '41.4 inches', '5', '', '207.4 inches', '59.2 inches', '18.2 cu.ft.', '', '126.4 inches', '85.4 inches', 'Available', '4 doors', 'Available', '22 mpg', '29 mpg', '25 mpg', 'RWD', '335 @ 5500 RPM', '331 @ 1500 rpm', '6-Cyl, Turbo, 3.0 Liter', '4 years / 50000 miles', '4 years / 50000 miles', '12 years / Unlimited miles']\n",
      "[5.0, 5.0, 5.0, 4.5, 4.5, 4.0]\n",
      "['2022 BMW 2 Series', 5.0, 5.0, 5.0, 4.5, 4.5, 4.0, '\\nBMW driving talents in small packages\\nQuality cabins\\nPretty good fuel economy\\nGran Coupe’s hatchback practicality\\n\\n', '\\nPricey\\nNot much rear passenger space\\n\\n', '\\nNew generation of 2 Series Coupe in 230i and M240i xDrive versions\\nDual-screen setup offered as an individual or packaged option\\nWireless charging no longer available\\nNo M2 Competition Coupe this year\\n\\n', '', '', '', '3393 lbs.', '39.8 inches', '41.4 inches', '4', '', '178.5 inches', '55.5 inches', '12.0 cu.ft.', '', '105.1 inches', '81.9 inches', 'Available', '4 doors', 'Available', '24 mpg', '34 mpg', '28 mpg', 'FWD', '228 @ 5000 RPM', '258 @ 1450 rpm', '4-Cyl, Turbo, 2.0 Liter', '4 years / 50000 miles', '4 years / 50000 miles', '12 years / Unlimited miles']\n",
      "[4.5, 4.8, 4.6, 4.8, 4.5, 4.8]\n",
      "['2022 BMW 5 Series', 4.5, 4.8, 4.6, 4.8, 4.5, 4.8, '\\nExcellent & multi-talented sedan\\nAll-wheel drive is available\\nPlug-in hybrid variants offered\\nThree high-performance M5 versions\\n\\n', '\\nHigher trims get pricey quickly\\n\\n', '\\n530e/530e xDrive models now come with 19-inch alloy wheels\\nM550i xDrive gains remote start function as standard\\nLimited-run M5 CS model debuts\\nLower models become ineligible for the Parking Assistance package\\nWi-Fi (except in the M5) & wireless charging discontinued\\n\\n', '', '', '', '3783 lbs.', '38.8 inches', '41.4 inches', '5', '', '195.8 inches', '58.7 inches', '18.7 cu.ft.', '', '117.1 inches', '83.7 inches', 'Available', '4 doors', 'Available', '25 mpg', '33 mpg', '28 mpg', 'RWD', '248 @ 5200 RPM', '257 @ 1450 rpm', '4-Cyl, Turbo, 2.0 Liter', '4 years / 50000 miles', '4 years / 50000 miles', '12 years / Unlimited miles']\n",
      "[4.0, 4.0, 5.0, 5.0, 5.0, 4.0]\n",
      "['2022 BMW iX', 4.0, 4.0, 5.0, 5.0, 5.0, 4.0, '\\nSustainably sourced & built\\n516 horsepower, 564 lb-ft of torque\\nZero emissions\\n324-mile range\\n90 miles of range in a 10-minute charge\\nFirst BMW with 5G capability\\n\\n', '\\nNot everyone’s aesthetic cup of tea\\n\\n', '\\nThe electric 2022 BMW iX xDrive50 is totally new\\n\\n', '', '', '', '5659 lbs.', '42.0 inches', '40.2 inches', '5', '8.8 inches', '195.0 inches', '61.5 inches', '', '21.4 feet', '118.1 inches', '87.8 inches', 'Available', '4 doors', 'Available', '86 MPGe', '87 MPGe', '86 MPGe', 'AWD', '', '564 foot pounds', 'Dual AC Electric Motors', '4 years / 50000 miles', '4 years / 50000 miles', '12 years / Unlimited miles']\n",
      "[3.9, 4.5, 4.2, 4.0, 4.2, 4.5]\n",
      "['2022 BMW X1', 3.9, 4.5, 4.2, 4.0, 4.2, 4.5, '\\nEnergetic turbocharged engine\\nSporty handling\\nRoomy interior for its size\\nMost affordable BMW model\\nSimple model range\\n\\n', '\\nSimple interior for a luxury SUV\\nOne engine\\nStiff ride\\n\\n', '\\nNo major changes\\n\\n', '', '', '', '3567 lbs.', '41.9 inches', '40.4 inches', '5', '', '175.4 inches', '55.6 inches', '58.7 cu.ft.', '', '105.1 inches', '81.1 inches', 'Available', '4 doors', 'Available', '24 mpg', '33 mpg', '27 mpg', 'FWD', '228 @ 5000 RPM', '258 @ 1450 rpm', '4-Cyl, Turbo, 2.0 Liter', '4 years / 50000 miles', '4 years / 50000 miles', '12 years / Unlimited miles']\n",
      "[4.3, 4.7, 5.0, 4.7, 4.7, 5.0]\n",
      "['2022 BMW Z4', 4.3, 4.7, 5.0, 4.7, 4.7, 5.0, '\\n50/50 weight distribution\\nFuel-efficient\\nNice interior\\nEnjoyable driving dynamics\\n\\n', '\\nNo coupe option\\nAutomatic-only\\nBetter performance can be found elsewhere\\n\\n', '\\nNo notable changes\\n\\n', '', '', '', '3287 lbs.', '38.9 inches', '42.2 inches', '2', '', '170.7 inches', '54.3 inches', '', '', '97.2 inches', '79.7 inches', 'Available', '2 doors', 'Available', '25 mpg', '32 mpg', '28 mpg', 'RWD', '255 @ 5000 RPM', '294 @ 1500 rpm', '4-Cyl, Turbo, 2.0 Liter', '4 years / 50000 miles', '4 years / 50000 miles', '12 years / Unlimited miles']\n",
      "[4.5, 4.5, 4.6, 4.8, 4.5, 4.6]\n",
      "['2022 BMW X2', 4.5, 4.5, 4.6, 4.8, 4.5, 4.6, '\\nDrives like a BMW should\\nLooks like a BMW should\\nHot M35i version is superb\\n\\n', '\\nStill no Android Auto smartphone integration\\nSacrifices some practicality for style\\nHardly a bargain\\n\\n', '\\nBlack side mirror housings now available as an individual option\\nExtended Shadowline trim also becomes an individual option\\n\\n', '', '', '', '3519 lbs.', '39.8 inches', '40.3 inches', '5', '', '172.2 inches', '55.6 inches', '21.6 cu.ft.', '', '105.1 inches', '82.6 inches', 'Available', '4 doors', 'Available', '24 mpg', '32 mpg', '27 mpg', 'FWD', '228 @ 5000 RPM', '258 @ 1450 rpm', '4-Cyl, Turbo, 2.0 Liter', '4 years / 50000 miles', '4 years / 50000 miles', '12 years / Unlimited miles']\n",
      "[5.0, 5.0, 5.0, 5.0, 5.0, 4.5]\n",
      "['2022 BMW i4', 5.0, 5.0, 5.0, 5.0, 5.0, 4.5, '\\n301-mile range in the i4 eDrive40\\n536 horsepower in the i4 M50\\nAll-electric, zero emissions\\nBMW driving talents\\n\\n', '\\nPolarizing design (pardon the electrical pun)\\n\\n', '\\nThe BMW i4 electric car is completely new\\nOn sale in the first part of 2022\\n\\n', '', '', '', '4680 lbs.', '38.2 inches', '41.5 inches', '5', '4.9 inches', '188.5 inches', '55.2 inches', '10.0 cu.ft.', '20.5 feet', '', '81.6 inches', 'Available', '4 doors', 'Available', '109 MPGe', '108 MPGe', '109 MPGe', 'RWD', '335 @ 8000 RPM', '317 @ 5000 rpm', 'AC Electric Motor', '4 years / 50000 miles', '', '12 years / Unlimited miles']\n"
     ]
    },
    {
     "name": "stdout",
     "output_type": "stream",
     "text": [
      "[4.2, 4.7, 4.6, 4.4, 4.5, 4.7]\n",
      "['2022 BMW X3', 4.2, 4.7, 4.6, 4.4, 4.5, 4.7, '\\nGreat handling\\nHighly practical\\nBMW prestige\\nVariety of drivetrains\\n\\n', '\\nPricey\\nExpensive options\\n\\n', '\\nUpdates to styling, hardware & software\\nNew metallic paint choice: Tanzanite Blue II\\nX3 M models gain more torque\\nNo plug-in hybrid variant this year\\n\\n', '', '', '', '4079 lbs.', '41.1 inches', '40.3 inches', '5', '', '185.9 inches', '57.6 inches', '28.7 cu.ft.', '', '112.8 inches', '', 'Available', '4 doors', 'Available', '23 mpg', '29 mpg', '25 mpg', 'RWD', '248 @ 5200 RPM', '258 @ 1450 rpm', '4-Cyl, Turbo, 2.0 Liter', '4 years / 50000 miles', '4 years / 50000 miles', '12 years / Unlimited miles']\n",
      "[5.0, 5.0, 5.0, 5.0, 5.0, 5.0]\n",
      "['2022 BMW 4 Series', 5.0, 5.0, 5.0, 5.0, 5.0, 5.0, '\\nCoupe, convertible or Gran Coupe body styles\\nChoice of rear-wheel drive or all-wheel drive\\nFabulous engines\\nAmazing M4 versions\\n\\n', '\\nOptions can be pricey\\n\\n', '\\nRear-drive M440i coupe launches\\nNew 4 Series Gran Coupe debuts\\nAll-wheel-drive M4 Competition versions go on sale\\nAmbient cabin lighting now standard\\nWireless charging no longer available\\n\\n', '', '', '', '3792 lbs.', '38.0 inches', '41.8 inches', '4', '', '188.5 inches', '55.1 inches', '10.6 cu.ft.', '', '112.2 inches', '81.9 inches', 'Available', '4 doors', 'Available', '25 mpg', '34 mpg', '28 mpg', 'RWD', '255 @ 6500 RPM', '294 @ 1550 rpm', '4-Cyl, Turbo, 2.0 Liter', '4 years / 50000 miles', '4 years / 50000 miles', '12 years / Unlimited miles']\n",
      "[4.0, 4.5, 4.5, 4.5, 4.5, 4.4]\n",
      "['2022 BMW 8 Series', 4.0, 4.5, 4.5, 4.5, 4.5, 4.4, '\\n3 body styles\\nThrilling M models\\nPremium interior and tech\\nHandles like a smaller car\\n\\n', '\\nExpensive\\nTight rear legroom in 2-door models\\n\\n', '\\nM Sport package comes standard on 840i coupe and convertible\\n\\n', '', '', '', '4262 lbs.', '39.1 inches', '42.1 inches', '5', '', '200.2 inches', '57.2 inches', '15.5 cu.ft.', '', '119.0 inches', '84.1 inches', 'Available', '4 doors', '', '22 mpg', '29 mpg', '25 mpg', 'RWD', '335 @ 5000 RPM', '368 @ 1600 rpm', '6-Cyl, Turbo, 3.0 Liter', '4 years / 50000 miles', '4 years / 50000 miles', '12 years / Unlimited miles']\n",
      "[4.2, 5.0, 4.4, 4.9, 4.5, 4.8]\n",
      "['2022 BMW X7', 4.2, 5.0, 4.4, 4.9, 4.5, 4.8, '\\nA lot of standard features\\nExcellent engine options\\nPosh interior\\nSmooth, comfy ride\\n\\n', '\\nExpensive\\nInefficient\\nRivals have more cargo space\\n\\n', '\\nWireless charging removed from the standard inventory\\n\\n', '', '', '', '5397 lbs.', '41.9 inches', '39.8 inches', '7', '', '203.3 inches', '60.0 inches', '48.6 cu.ft.', '', '122.2 inches', '87.3 inches', 'Available', '4 doors', 'Available', '19 mpg', '24 mpg', '21 mpg', 'AWD', '335 @ 5500 RPM', '331 @ 1500 rpm', 'V6, Turbo, 3.0 Liter', '4 years / 50000 miles', '4 years / 50000 miles', '12 years / Unlimited miles']\n",
      "[3.7, 4.5, 4.2, 4.2, 4.1, 4.2]\n",
      "['2022 BMW 3 Series', 3.7, 4.5, 4.2, 4.2, 4.1, 4.2, '\\nAbsolutely wonderful to drive\\nRoomy & practical\\nLuxurious\\nGlorious M3 model\\n\\n', '\\nPricey\\nSome driver-assistance features cost extra\\n\\n', '\\nAmbient cabin lighting becomes standard\\n330e plug-in hybrid gains LED headlights with cornering lights\\nM Sport package includes a rear spoiler, ditches leatherette dashboard\\nIcon Adaptive LED headlights with Laserlight now available\\nParking Assistance package w/360-degree camera no longer offered\\nMinor changes to interior options & exterior paint choices\\n\\n', '', '', '', '3560 lbs.', '38.7 inches', '42.0 inches', '5', '', '185.7 inches', '56.0 inches', '13.0 cu.ft.', '', '112.2 inches', '81.4 inches', 'Available', '4 doors', 'Available', '26 mpg', '36 mpg', '30 mpg', 'RWD', '255 @ 5000 RPM', '294 @ 1550 rpm', '4-Cyl, Turbo, 2.0 Liter', '4 years / 50000 miles', '4 years / 50000 miles', '12 years / Unlimited miles']\n",
      "[5.0, 5.0, 5.0, 5.0, 5.0, 5.0]\n",
      "['2022 BMW X6', 5.0, 5.0, 5.0, 5.0, 5.0, 5.0, '\\nResponsive handling\\nUpscale interior furnishings\\nSupple, refined ride\\nSolidly built\\n\\n', '\\nCargo space compromised for sporty roofline\\nPolarizing design\\nComplicated and counterintuitive infotainment system\\nOptions add up quickly\\n\\n', '\\nRear-drive X6 sDrive40i deleted\\nRemote start standard on X6 M50i\\nNo Dynamic Handling Package on X6 xdrive40i\\nNew Climate Comfort Package\\nNumerous small changes to Premium and Executive packages\\nNew colors\\n\\n', '', '', '', '4855 lbs.', '39.3 inches', '40.4 inches', '5', '', '194.8 inches', '60.0 inches', '45.5 cu.ft.', '', '117.1 inches', '87.1 inches', 'Available', '4 doors', 'Available', '21 mpg', '25 mpg', '23 mpg', 'AWD', '335 @ 5500 RPM', '331 @ 1550 rpm', '6-Cyl, Turbo, 3.0 Liter', '4 years / 50000 miles', '4 years / 50000 miles', '12 years / Unlimited miles']\n",
      "[4.3, 4.8, 4.3, 4.6, 4.5, 4.7]\n",
      "['2022 BMW X4', 4.3, 4.8, 4.3, 4.6, 4.5, 4.7, '\\nDriving talents\\nUnconventional style\\nUndeniable BMW cachet\\n\\n', '\\nNot as practical as an X3\\n\\n', '\\nStyling revisions inside & out\\nM40i now fitted with a mild-hybrid system\\nX4 M engines gain more torque\\n\\n', '', '', '', '4178 lbs.', '40.3 inches', '40.7 inches', '5', '', '187.6 inches', '57.5 inches', '18.5 cu.ft.', '', '', '84.2 inches', 'Available', '4 doors', 'Available', '21 mpg', '28 mpg', '24 mpg', 'AWD', '248 @ 5200 RPM', '258 @ 1450 rpm', '4-Cyl, Turbo, 2.0 Liter', '4 years / 50000 miles', '4 years / 50000 miles', '12 years / Unlimited miles']\n",
      "[]\n",
      "['2022 BMW M3', '', '', '', '', '', '', '', '', '', '', '', '', '3840 lbs.', '40.6 inches', '41.6 inches', '5', '4.8 inches', '189.1 inches', '56.0 inches', '13.0 cu.ft.', '20.7 feet', '112.5 inches', '81.4 inches', 'Available', '4 doors', 'Available', '16 mpg', '23 mpg', '19 mpg', 'RWD', '473 @ 6250 RPM', '406 @ 2650 rpm', '6-Cyl, Twin Turbo, 3.0 Liter', '4 years / 50000 miles', '4 years / 50000 miles', '12 years / Unlimited miles']\n",
      "[4.0, 5.0, 4.8, 4.0, 4.8, 4.8]\n",
      "['2022 BMW X3 M', 4.0, 5.0, 4.8, 4.0, 4.8, 4.8, '', '', '', '', '', '', '4610 lbs.', '40.7 inches', '40.3 inches', '5', '8.1 inches', '186.0 inches', '57.6 inches', '62.7 cu.ft.', '20.7 feet', '112.8 inches', '84.2 inches', 'Available', '4 doors', 'Available', '15 mpg', '20 mpg', '17 mpg', 'AWD', '473 @ 6250 RPM', '457 @ 2750 rpm', '6-Cyl, Twin Turbo, 3.0 Liter', '4 years / 50000 miles', '4 years / 50000 miles', '12 years / Unlimited miles']\n",
      "[3.0, 3.0, 3.0, 3.0, 3.0, 3.0]\n",
      "['2022 BMW M4', 3.0, 3.0, 3.0, 3.0, 3.0, 3.0, '', '', '', '', '', '', '3830 lbs.', '40.3 inches', '41.7 inches', '4', '4.7 inches', '189.1 inches', '55.1 inches', '12.0 cu.ft.', '20.0 feet', '112.5 inches', '81.9 inches', 'Available', '2 doors', 'Available', '16 mpg', '23 mpg', '19 mpg', 'RWD', '473 @ 6250 RPM', '406 @ 2650 rpm', '6-Cyl, Twin Turbo, 3.0 Liter', '4 years / 50000 miles', '4 years / 50000 miles', '12 years / Unlimited miles']\n",
      "[4.3, 4.8, 4.3, 4.6, 4.5, 4.7]\n",
      "['2022 BMW X4 M', 4.3, 4.8, 4.3, 4.6, 4.5, 4.7, '', '', '', '', '', '', '4597 lbs.', '39.5 inches', '40.7 inches', '5', '8.1 inches', '187.5 inches', '57.5 inches', '50.5 cu.ft.', '20.7 feet', '112.8 inches', '84.2 inches', 'Available', '4 doors', 'Available', '15 mpg', '20 mpg', '17 mpg', 'AWD', '473 @ 6250 RPM', '457 @ 2750 rpm', '6-Cyl, Twin Turbo, 3.0 Liter', '4 years / 50000 miles', '4 years / 50000 miles', '12 years / Unlimited miles']\n",
      "[4.6, 4.6, 4.6, 4.6, 4.6, 4.5]\n",
      "['2022 BMW M5', 4.6, 4.6, 4.6, 4.6, 4.6, 4.5, '', '', '', '', '', '', '4345 lbs.', '40.7 inches', '41.4 inches', '5', '', '196.4 inches', '58.7 inches', '18.7 cu.ft.', '', '117.4 inches', '83.7 inches', 'Available', '4 doors', '', '15 mpg', '21 mpg', '17 mpg', 'AWD', '600 @ 6000 RPM', '553 @ 1800 rpm', 'V8, Twin Turbo, 4.4 Liter', '4 years / 50000 miles', '4 years / 50000 miles', '12 years / Unlimited miles']\n",
      "[4.0, 4.7, 4.4, 4.6, 4.4, 4.6]\n",
      "['2022 BMW X5 M', 4.0, 4.7, 4.4, 4.6, 4.4, 4.6, '', '', '', '', '', '', '5455 lbs.', '40.8 inches', '39.8 inches', '5', '', '195.0 inches', '60.0 inches', '', '', '117.0 inches', '87.3 inches', 'Available', '4 doors', 'Available', '13 mpg', '18 mpg', '15 mpg', 'AWD', '600 @ 6000 RPM', '553 @ 1800 rpm', 'V8, Twin Turbo, 4.4 Liter', '4 years / 50000 miles', '4 years / 50000 miles', '12 years / Unlimited miles']\n",
      "[5.0, 5.0, 5.0, 5.0, 5.0, 5.0]\n",
      "['2022 BMW X6 M', 5.0, 5.0, 5.0, 5.0, 5.0, 5.0, '', '', '', '', '', '', '5375 lbs.', '40.4 inches', '40.4 inches', '5', '8.3 inches', '195.0 inches', '60.0 inches', '27.4 cu.ft.', '21.0 feet', '117.0 inches', '87.1 inches', 'Available', '4 doors', 'Available', '13 mpg', '18 mpg', '15 mpg', 'AWD', '600 @ 6000 RPM', '553 @ 1800 rpm', 'V8, Twin Turbo, 4.4 Liter', '4 years / 50000 miles', '4 years / 50000 miles', '12 years / Unlimited miles']\n"
     ]
    },
    {
     "name": "stdout",
     "output_type": "stream",
     "text": [
      "[5.0, 5.0, 5.0, 4.0, 5.0, 5.0]\n",
      "['2022 BMW M8', 5.0, 5.0, 5.0, 4.0, 5.0, 5.0, '', '', '', '', '', '', '4295 lbs.', '40.6 inches', '42.1 inches', '5', '', '191.8 inches', '57.2 inches', '11.0 cu.ft.', '', '119.2 inches', '84.1 inches', 'Available', '4 doors', '', '15 mpg', '21 mpg', '17 mpg', 'AWD', '617 @ 6000 RPM', '553 @ 1800 rpm', 'V8, Twin Turbo, 4.4 Liter', '4 years / 50000 miles', '4 years / 50000 miles', '12 years / Unlimited miles']\n",
      "[4.0, 4.7, 4.4, 4.6, 4.4, 4.6]\n",
      "['2021 BMW X5', 4.0, 4.7, 4.4, 4.6, 4.4, 4.6, '\\nWinner of the Kelley Blue Book Best Buy Award\\nVariety of powertrains\\nExcellent driving manners\\nNew plug-in hybrid available\\nRear- or all-wheel drive\\nPotent X5 M\\n\\n', '\\nHigher starting price than rivals\\nOptional third row is very tight\\n\\n', '\\nPlug-in hybrid model joins X5 lineup\\nAndroid Auto integration standard\\nX5 40i models get 48-volt mild-hybrid system\\nOff-road package and xDrive50i model discontinued\\n\\n', '', '', '', '4828 lbs.', '40.7 inches', '39.8 inches', '7', '', '194.3 inches', '60.0 inches', '', '', '117.1 inches', '87.3 inches', 'Available', '4 doors', 'Available', '21 mpg', '26 mpg', '23 mpg', 'RWD', '335 @ 5500 RPM', '331 @ 1500 rpm', '6-Cyl, Turbo, 3.0 Liter', '4 years / 50000 miles', '4 years / 50000 miles', '12 years / Unlimited miles']\n",
      "[4.1, 4.8, 4.7, 4.7, 4.4, 4.9]\n",
      "['2021 BMW 7 Series', 4.1, 4.8, 4.7, 4.7, 4.4, 4.9, '\\nA full-size luxury car with a full-size presence\\nImpressive array of premium and convenience features\\nGreat technology\\nSporty character never far from the surface\\nStandard long wheelbase provides ample space\\n\\n', '\\nStandard long wheelbase not such an asset in tight corners\\nWon’t appeal to accountants looking at resale values\\n\\n', '\\nPreviously optional Cold Weather package now standard\\nRevised exterior and interior color schemes\\nDrive Recorder and remote start feature become standard\\nIn-dash CD player deleted\\nNight Vision feature and Laserlight headlamps discontinued\\n\\n', '', '', '', '4244 lbs.', '39.9 inches', '41.4 inches', '5', '', '207.4 inches', '59.2 inches', '18.2 cu.ft.', '', '126.4 inches', '85.4 inches', 'Available', '4 doors', 'Available', '22 mpg', '29 mpg', '25 mpg', 'RWD', '335 @ 5500 RPM', '331 @ 1500 rpm', '6-Cyl, Turbo, 3.0 Liter', '4 years / 50000 miles', '4 years / 50000 miles', '12 years / Unlimited miles']\n",
      "[4.5, 4.8, 4.6, 4.8, 4.5, 4.8]\n",
      "['2021 BMW 5 Series', 4.5, 4.8, 4.6, 4.8, 4.5, 4.8, '\\nFreshened styling\\nRear- and all-wheel drive available\\nPlug-in hybrid available\\n\\n', '\\n8-speed instead of a 10-speed automatic transmission\\nPrices move up quickly with trims and options\\nOversized twin-kidney grille\\n\\n', '\\nAll-new sheet metal\\nNew interior design\\nMild-hybrid assist on 6-cylinder models\\nStandard adaptive LED headlights\\n\\n', '', '', '', '3878 lbs.', '38.8 inches', '41.4 inches', '5', '5.5 inches', '195.8 inches', '58.7 inches', '14.0 cu.ft.', '20.4 feet', '117.1 inches', '83.7 inches', 'Available', '4 doors', 'Available', '23 mpg', '32 mpg', '27 mpg', 'AWD', '248 @ 5200 RPM', '257 @ 1450 rpm', '4-Cyl, Turbo, 2.0 Liter', '4 years / 50000 miles', '4 years / 50000 miles', '12 years / Unlimited miles']\n",
      "[3.9, 4.5, 4.2, 4.0, 4.2, 4.5]\n",
      "['2021 BMW X1', 3.9, 4.5, 4.2, 4.0, 4.2, 4.5, '\\nImpressive handling for a crossover/SUV\\nSmall size yet plenty of interior space\\nReasonably priced for a BMW\\nEager turbocharged engine\\n\\n', '\\nStiff ride\\nUncomfortable front seats\\nNo Android Auto smartphone integration\\n\\n', '\\nA year’s subscription to SiriusXM satellite radio becomes standard\\nPaint choices have been shaken up\\nPrices of all three option packages are reduced\\nSport seats now only available with the M Sport package\\nLED fog lights no longer available\\n\\n', '', '', '', '3567 lbs.', '41.9 inches', '40.4 inches', '5', '', '175.4 inches', '55.6 inches', '58.7 cu.ft.', '', '105.1 inches', '81.1 inches', 'Available', '4 doors', 'Available', '24 mpg', '33 mpg', '27 mpg', 'FWD', '228 @ 5000 RPM', '258 @ 1450 rpm', '4-Cyl, Turbo, 2.0 Liter', '4 years / 50000 miles', '4 years / 50000 miles', '12 years / Unlimited miles']\n",
      "[4.5, 4.8, 4.9, 4.7, 4.9, 4.8]\n",
      "['2021 BMW 2 Series', 4.5, 4.8, 4.9, 4.7, 4.9, 4.8, '\\nTidy proportions\\nNimble dynamics\\nSuperb ride & handling\\nThe hot M2\\n\\n', '\\nCramped back seat\\nPricey performance\\nBMW X3 is more practical\\nM2 too focused for some?\\n\\n', '\\nTrack Package discontinued (230i & 230i xDrive)\\nApple CarPlay is now standard\\nGlacier Silver Metallic paint discontinued (230i & 230i xDrive)\\nSeaside Blue Metallic paint discontinued (230i & 230i XDrive Convertibles)\\nVarious option packages have been reduced in price\\n\\n', '', '', '', '3435 lbs.', '40.1 inches', '41.5 inches', '4', '', '174.7 inches', '54.4 inches', '', '', '105.9 inches', '78.1 inches', 'Available', '2 doors', 'Available', '25 mpg', '32 mpg', '28 mpg', 'RWD', '248 @ 5200 RPM', '258 @ 1450 rpm', '4-Cyl, Turbo, 2.0 Liter', '4 years / 50000 miles', '4 years / 50000 miles', '12 years / Unlimited miles']\n",
      "[4.3, 4.7, 5.0, 4.7, 4.7, 5.0]\n",
      "['2021 BMW Z4', 4.3, 4.7, 5.0, 4.7, 4.7, 5.0, '\\nA proper rear-drive roadster w/fabric top\\nM40i speed & handling\\n50/50 weight distribution\\nAvailable w/Dynamic Handling package\\nPowered top folds down in only 10 seconds\\n\\n', '\\nNo hardtop coupe\\nNo manual transmission\\nShoulder seatbelt can rub the necks of shorter drivers\\n\\n', '\\nAndroid Auto compatibility now added\\nSiriusXM 360L w/12-month all-access subscription now standard\\nAutomatic high beams also become standard\\nTrack Handling package changes name to Dynamic Handling package\\nChanges to optional equipment\\n\\n', '', '', '', '3287 lbs.', '38.9 inches', '42.2 inches', '2', '', '170.7 inches', '54.3 inches', '', '', '97.2 inches', '79.7 inches', 'Available', '2 doors', 'Available', '25 mpg', '32 mpg', '28 mpg', 'RWD', '255 @ 5000 RPM', '294 @ 1500 rpm', '4-Cyl, Turbo, 2.0 Liter', '4 years / 50000 miles', '4 years / 50000 miles', '12 years / Unlimited miles']\n",
      "[4.5, 4.5, 4.6, 4.8, 4.5, 4.6]\n",
      "['2021 BMW X2', 4.5, 4.5, 4.6, 4.8, 4.5, 4.6, '\\nBMW brand cachet\\nDistinctive design\\nAthletic handling\\nHigh-power version offered in X2 M35i\\nSome active safety systems standard\\n\\n', '\\nLess practical than X1 sibling\\nMore expensive than rivals\\nNo Android Auto integration\\n\\n', '\\nSpecial M Edition package for sDrive28i, xDrive28i\\n1-year SiriusXM subscription standard\\nLED fog lights removed\\n\\n', '', '', '', '3519 lbs.', '39.8 inches', '40.3 inches', '5', '', '172.2 inches', '55.6 inches', '21.6 cu.ft.', '', '105.1 inches', '82.6 inches', 'Available', '4 doors', 'Available', '24 mpg', '32 mpg', '27 mpg', 'FWD', '228 @ 5000 RPM', '258 @ 1450 rpm', '4-Cyl, Turbo, 2.0 Liter', '4 years / 50000 miles', '4 years / 50000 miles', '12 years / Unlimited miles']\n",
      "[4.2, 5.0, 4.4, 4.9, 4.5, 4.8]\n",
      "['2021 BMW X7', 4.2, 5.0, 4.4, 4.9, 4.5, 4.8, '\\nRealistic seating for up to seven\\nBMW ride and handling\\nSuperb engines\\nCutting-edge technology\\nSumptuous interior\\n\\n', '\\nPoor fuel economy\\nSome tech features can be a bit too techy\\nExpensive even for this luxury SUV class\\n\\n', '\\nAndroid Auto smartphone integration joins Apple CarPlay\\nChanges in standard and optional equipment\\nPrice reductions of several options packages\\nThe xDrive40i gains a mild-hybrid system\\nAlpina XB7 begins production\\nThe xDrive50i has been discontinued\\nOff-Road package no longer available\\n\\n', '', '', '', '5397 lbs.', '41.9 inches', '39.8 inches', '7', '', '203.3 inches', '60.0 inches', '48.6 cu.ft.', '', '122.2 inches', '87.3 inches', 'Available', '4 doors', 'Available', '19 mpg', '24 mpg', '21 mpg', 'AWD', '335 @ 5500 RPM', '331 @ 1500 rpm', 'V6, Turbo, 3.0 Liter', '4 years / 50000 miles', '4 years / 50000 miles', '12 years / Unlimited miles']\n",
      "[5.0, 5.0, 5.0, 5.0, 5.0, 5.0]\n",
      "['2021 BMW 4 Series', 5.0, 5.0, 5.0, 5.0, 5.0, 5.0, '\\nPremium compact coupes and convertibles with a driver’s edge\\nAdvanced features mixed with traditional BMW attributes\\nWell-judged blend of luxury and tech\\nNew M4 Coupe with up to 503 horsepower\\nManual transmission in the 473-horsepower M4\\n\\n', '\\nOptions can be expensive\\n\\n', '\\nA new generation of BMW 4 Series debuts for 2021\\nLonger and wider than the previous generation\\nEngines have greater power\\nMore aerodynamically efficient\\nAcoustic glass windshield is standard\\nMild hybrid system fitted to 6-cylinder engines\\nConvertible deploys a fabric roof\\n\\n', '', '', '', '3578 lbs.', '38.0 inches', '41.8 inches', '4', '5.0 inches', '187.9 inches', '55.1 inches', '12.0 cu.ft.', '18.7 feet', '112.2 inches', '81.9 inches', 'Available', '2 doors', 'Available', '26 mpg', '34 mpg', '29 mpg', 'RWD', '255 @ 6500 RPM', '295 @ 1550 rpm', '4-Cyl, Turbo, 2.0 Liter', '4 years / 50000 miles', '4 years / 50000 miles', '12 years / Unlimited miles']\n"
     ]
    },
    {
     "name": "stdout",
     "output_type": "stream",
     "text": [
      "[4.0, 4.5, 4.5, 4.5, 4.5, 4.4]\n",
      "['2021 BMW 8 Series', 4.0, 4.5, 4.5, 4.5, 4.5, 4.4, '\\nBrilliant handling for its size\\nChoice of powerful engines\\nAvailable in coupe, convertible & 4-door Gran Coupe styles\\nLuxurious interior\\nOptional all-wheel drive\\n\\n', '\\nLimited rear legroom in coupe & convertible\\nLimited rear headroom in Gran Coupe\\nCan become pricey compared with the competition\\n\\n', '\\nThe 840i coupe and 4-door Gran Coupe cars gain an anthracite headliner\\nLane departure warning becomes standard\\nSirius XM with 360L comes with a 12-month all-access subscription\\nDriving Assistance Package 2 discontinued, features migrate elsewhere\\nM Sport package reduced by $300, gains black brake calipers\\nThe only M8 this year is the Gran Coupe w/optional Competition package\\nNight Vision is discontinued\\n\\n', '', '', '', '3933 lbs.', '38.9 inches', '42.1 inches', '5', '', '191.1 inches', '57.2 inches', '14.8 cu.ft.', '', '111.1 inches', '84.1 inches', 'Available', '2 doors', '', '23 mpg', '30 mpg', '25 mpg', 'RWD', '335 @ 5000 RPM', '368 @ 1600 rpm', '6-Cyl, Turbo, 3.0 Liter', '4 years / 50000 miles', '4 years / 50000 miles', '12 years / Unlimited miles']\n",
      "[4.3, 4.8, 4.7, 4.5, 4.6, 4.7]\n",
      "['2021 BMW i3', 4.3, 4.8, 4.7, 4.5, 4.6, 4.7, '\\nUnique composite chassis\\nIt’s an EV\\nAvailable with an onboard gasoline generator\\nPerfect size for the city\\nRear-wheel drive\\nHatchback utility\\n\\n', '\\nMax range (without range extender) is only 153 miles\\nMax range (with range extender) is only 200 miles\\nRear-hinged back doors\\n\\n', '\\nUnchanged for 2021\\n\\n', '', '', '', '2972 lbs.', '39.8 inches', '40.5 inches', '4', '5.5 inches', '158.3 inches', '53.6 inches', '', '', '', '', 'Available', '4 doors', 'Available', '124 MPGe', '102 MPGe', '113 MPGe', 'RWD', '168 @ 4800 RPM', '110 @ 100 rpm', 'AC Electric Motor', '4 years / 50000 miles', '', '12 years / Unlimited miles']\n",
      "[3.7, 4.5, 4.2, 4.2, 4.1, 4.2]\n",
      "['2021 BMW 3 Series', 3.7, 4.5, 4.2, 4.2, 4.1, 4.2, '\\nSporty and luxurious, but not too large\\nEntertaining driving manners\\nNew PHEV models join the lineup\\nTrack-ready M3 models\\n\\n', '\\nPricier than some rivals\\nNo manual transmission (except in M3)\\n\\n', '\\nA plug-in hybrid (PHEV), the 330e, has been added\\nPHEV model also available as 330e xDrive with all-wheel drive\\nTrack-ready M3 and M3 Competition models\\n\\n', '', '', '', '3560 lbs.', '38.7 inches', '42.0 inches', '5', '', '185.7 inches', '56.0 inches', '13.0 cu.ft.', '', '112.2 inches', '', 'Available', '4 doors', 'Available', '26 mpg', '36 mpg', '30 mpg', 'RWD', '255 @ 5000 RPM', '294 @ 1550 rpm', '4-Cyl, Turbo, 2.0 Liter', '4 years / 50000 miles', '4 years / 50000 miles', '12 years / Unlimited miles']\n",
      "[4.2, 4.7, 4.6, 4.4, 4.5, 4.7]\n",
      "['2021 BMW X3', 4.2, 4.7, 4.6, 4.4, 4.5, 4.7, '\\nGreat handling, SUV practicality\\nVariety of powertrains\\nApple CarPlay and Android Auto integration\\nBrand appeal\\n\\n', '\\nPriced on higher end of spectrum\\nOptions quickly increase cost\\nRide can be firm\\n\\n', '\\nAndroid Auto integration arrives\\nSiriusXM with 1-year subscription standard\\nActive Driving Assistant becomes standard\\nLive Cockpit Professional standard on xDrive30 & M40i\\n\\n', '', '', '', '3931 lbs.', '41.1 inches', '40.3 inches', '5', '', '185.9 inches', '57.6 inches', '28.7 cu.ft.', '', '112.8 inches', '', 'Available', '4 doors', 'Available', '25 mpg', '29 mpg', '27 mpg', 'RWD', '248 @ 5200 RPM', '258 @ 1450 rpm', '4-Cyl, Turbo, 2.0 Liter', '4 years / 50000 miles', '4 years / 50000 miles', '12 years / Unlimited miles']\n",
      "[5.0, 5.0, 5.0, 5.0, 5.0, 5.0]\n",
      "['2021 BMW X6', 5.0, 5.0, 5.0, 5.0, 5.0, 5.0, '\\nRakish design\\nAthletic handling\\nPowerful engines\\nFront-seat comfort\\nStellar fit & finish\\nBelieve it or not, a relative bargain\\n\\n', '\\nLess space than an X5 but costs more\\nRear outward vision hampered by rear pillars\\nVideo-game instrumentation\\nM50i nearly as quick as the X6 M but less expensive\\n\\n', '\\nAndroid Auto smartphone integration arrives, fitted to every X6\\nOne-year/all-access Sirius XM 360L subscription also standard\\n40i models gain 48-volt mild hybrid system\\nM50i now comes with ventilated front seats and remote start\\nChanges to optional equipment\\nSome options are discontinued, such as night vision\\n40i models no longer eligible for the Bowers & Wilkins audio upgrade\\n\\n', '', '', '', '4758 lbs.', '39.3 inches', '40.4 inches', '5', '', '194.8 inches', '60.0 inches', '45.5 cu.ft.', '', '117.1 inches', '87.1 inches', 'Available', '4 doors', 'Available', '21 mpg', '26 mpg', '23 mpg', 'RWD', '335 @ 5500 RPM', '331 @ 1550 rpm', '6-Cyl, Turbo, 3.0 Liter', '4 years / 50000 miles', '4 years / 50000 miles', '12 years / Unlimited miles']\n",
      "[4.3, 4.8, 4.3, 4.6, 4.5, 4.7]\n",
      "['2021 BMW X4', 4.3, 4.8, 4.3, 4.6, 4.5, 4.7, '\\nFastback styling with a dash of SUV practicality\\nChoice of excellent engines\\nAll-wheel drive is standard\\nMany active safety features are standard\\n\\n', '\\nMore expensive than its X3 counterpart\\nLess cargo space than a typical compact crossover\\n\\n', '\\nAndroid Auto smartphone integration now included\\nActive Driving Assistant features added\\nSiriusXM w/360L (1-year all-access subscription) now standard\\nWi-fi (3GB/3-month subscription) standard in X4 M40i & X4 M\\nX4 M gains the Live Cockpit Professional setup\\nSome revision of option packages and prices\\n\\n', '', '', '', '4138 lbs.', '39.5 inches', '40.7 inches', '5', '', '187.5 inches', '57.5 inches', '23.7 cu.ft.', '', '', '84.2 inches', 'Available', '4 doors', 'Available', '23 mpg', '29 mpg', '25 mpg', 'AWD', '245 @ 5200 RPM', '258 @ 1450 rpm', '4-Cyl, Turbo, 2.0 Liter', '4 years / 50000 miles', '4 years / 50000 miles', '12 years / Unlimited miles']\n",
      "[4.8, 5.0, 5.0, 4.5, 4.8, 5.0]\n",
      "['2021 BMW M2', 4.8, 5.0, 5.0, 4.5, 4.8, 5.0, '', '', '', '', '', '', '3655 lbs.', '40.1 inches', '41.5 inches', '4', '', '176.2 inches', '54.4 inches', '', '', '106.0 inches', '78.3 inches', 'Available', '2 doors', 'Available', '18 mpg', '24 mpg', '20 mpg', 'RWD', '405 @ 5230 RPM', '406 @ 2350 rpm', '6-Cyl, Twin Turbo, 3.0 Liter', '4 years / 50000 miles', '', '12 years / Unlimited miles']\n",
      "[4.0, 5.0, 4.8, 4.0, 4.8, 4.8]\n",
      "['2021 BMW X3 M', 4.0, 5.0, 4.8, 4.0, 4.8, 4.8, '', '', '', '', '', '', '4620 lbs.', '41.1 inches', '40.3 inches', '5', '8.0 inches', '186.2 inches', '57.6 inches', '28.7 cu.ft.', '20.7 feet', '112.8 inches', '84.2 inches', 'Available', '4 doors', 'Available', '14 mpg', '19 mpg', '16 mpg', 'AWD', '473 @ 6250 RPM', '442 @ 2600 rpm', '6-Cyl, Twin Turbo, 3.0 Liter', '4 years / 50000 miles', '4 years / 50000 miles', '12 years / Unlimited miles']\n",
      "[4.3, 4.8, 4.3, 4.6, 4.5, 4.7]\n",
      "['2021 BMW X4 M', 4.3, 4.8, 4.3, 4.6, 4.5, 4.7, '', '', '', '', '', '', '4590 lbs.', '39.5 inches', '40.7 inches', '5', '8.1 inches', '187.5 inches', '57.5 inches', '50.5 cu.ft.', '20.7 feet', '112.8 inches', '84.2 inches', 'Available', '4 doors', 'Available', '14 mpg', '19 mpg', '16 mpg', 'AWD', '473 @ 6250 RPM', '442 @ 2600 rpm', '6-Cyl, Twin Turbo, 3.0 Liter', '4 years / 50000 miles', '4 years / 50000 miles', '12 years / Unlimited miles']\n",
      "[]\n",
      "['2021 BMW M3', '', '', '', '', '', '', '', '', '', '', '', '', '3840 lbs.', '40.6 inches', '41.6 inches', '5', '4.7 inches', '189.1 inches', '56.0 inches', '13.0 cu.ft.', '20.0 feet', '112.5 inches', '81.4 inches', 'Available', '4 doors', 'Available', '16 mpg', '23 mpg', '19 mpg', 'RWD', '473 @ 6250 RPM', '406 @ 2650 rpm', '6-Cyl, Twin Turbo, 3.0 Liter', '4 years / 50000 miles', '4 years / 50000 miles', '12 years / Unlimited miles']\n",
      "[3.0, 3.0, 3.0, 3.0, 3.0, 3.0]\n",
      "['2021 BMW M4', 3.0, 3.0, 3.0, 3.0, 3.0, 3.0, '', '', '', '', '', '', '3830 lbs.', '40.3 inches', '41.7 inches', '4', '4.7 inches', '189.1 inches', '55.1 inches', '12.0 cu.ft.', '20.0 feet', '112.5 inches', '81.9 inches', 'Available', '2 doors', 'Available', '16 mpg', '23 mpg', '19 mpg', 'RWD', '473 @ 6250 RPM', '406 @ 2650 rpm', '6-Cyl, Twin Turbo, 3.0 Liter', '4 years / 50000 miles', '4 years / 50000 miles', '12 years / Unlimited miles']\n",
      "[4.6, 4.6, 4.6, 4.6, 4.6, 4.5]\n",
      "['2021 BMW M5', 4.6, 4.6, 4.6, 4.6, 4.6, 4.5, '', '', '', '', '', '', '4345 lbs.', '40.7 inches', '41.4 inches', '5', '5.2 inches', '196.4 inches', '58.7 inches', '14.0 cu.ft.', '20.7 feet', '117.4 inches', '83.7 inches', 'Available', '4 doors', '', '15 mpg', '21 mpg', '17 mpg', 'AWD', '600 @ 6000 RPM', '553 @ 1800 rpm', 'V8, Twin Turbo, 4.4 Liter', '4 years / 50000 miles', '4 years / 50000 miles', '12 years / Unlimited miles']\n"
     ]
    },
    {
     "name": "stdout",
     "output_type": "stream",
     "text": [
      "[4.0, 4.7, 4.4, 4.6, 4.4, 4.6]\n",
      "['2021 BMW X5 M', 4.0, 4.7, 4.4, 4.6, 4.4, 4.6, '', '', '', '', '', '', '5425 lbs.', '40.7 inches', '39.8 inches', '5', '', '195.0 inches', '60.0 inches', '', '', '117.0 inches', '87.3 inches', 'Available', '4 doors', 'Available', '14 mpg', '19 mpg', '16 mpg', 'AWD', '600 @ 6000 RPM', '553 @ 1800 rpm', 'V8, Twin Turbo, 4.4 Liter', '4 years / 50000 miles', '4 years / 50000 miles', '12 years / Unlimited miles']\n",
      "[4.0, 4.5, 4.5, 4.5, 4.5, 4.4]\n",
      "['2021 BMW M8', 4.0, 4.5, 4.5, 4.5, 4.5, 4.4, '', '', '', '', '', '', '4480 lbs.', '39.1 inches', '42.1 inches', '5', '5.1 inches', '200.9 inches', '57.2 inches', '15.5 cu.ft.', '', '119.2 inches', '84.1 inches', 'Available', '4 doors', '', '15 mpg', '21 mpg', '17 mpg', 'AWD', '600 @ 6000 RPM', '553 @ 1800 rpm', 'V8, Twin Turbo, 4.4 Liter', '4 years / 50000 miles', '4 years / 50000 miles', '12 years / Unlimited miles']\n",
      "[5.0, 5.0, 5.0, 5.0, 5.0, 5.0]\n",
      "['2021 BMW X6 M', 5.0, 5.0, 5.0, 5.0, 5.0, 5.0, '', '', '', '', '', '', '5375 lbs.', '39.3 inches', '40.4 inches', '5', '8.3 inches', '195.0 inches', '60.0 inches', '27.4 cu.ft.', '21.0 feet', '117.0 inches', '87.1 inches', 'Available', '4 doors', 'Available', '13 mpg', '18 mpg', '15 mpg', 'AWD', '600 @ 6000 RPM', '553 @ 1800 rpm', 'V8, Twin Turbo, 4.4 Liter', '4 years / 50000 miles', '4 years / 50000 miles', '12 years / Unlimited miles']\n",
      "[4.0, 4.7, 4.4, 4.6, 4.4, 4.6]\n",
      "['2020 BMW X5', 4.0, 4.7, 4.4, 4.6, 4.4, 4.6, '\\nA midsize luxury-crossover SUV with wonderful road manners\\nBlends performance with practicality\\nPlenty of superb features\\n\\n', '\\nOnce a few options are added, the X5 gets pricey\\nOptional third row most suitable for the young, short & flexible\\nStill no Android Auto smartphone integration available\\n\\n', '\\nA new muscular variant joins the 2020 X5 range, the M50i\\nAll 50i versions now come with wireless charging & Wi-Fi\\nThe rear-drive sDrive40i comes in at the entry level\\n\\n', '', '', '', '4758 lbs.', '40.7 inches', '39.8 inches', '7', '', '194.3 inches', '60.0 inches', '72.3 cu.ft.', '', '117.1 inches', '78.9 inches', 'Available', '4 doors', 'Available', '21 mpg', '26 mpg', '23 mpg', 'RWD', '335 @ 5500 RPM', '330 @ 1500 rpm', '6-Cyl, Turbo, 3.0 Liter', '4 years / 50000 miles', '4 years / 50000 miles', '12 years / Unlimited miles']\n",
      "[4.5, 4.5, 4.6, 4.8, 4.5, 4.6]\n",
      "['2020 BMW X2', 4.5, 4.5, 4.6, 4.8, 4.5, 4.6, '\\nBMW brand cachet\\nDistinctive design\\nAthletic handling\\nHigh-power version offered in X2 M35i\\nSome active safety systems standard\\n\\n', '\\nLess practical than X1 sibling\\nMore expensive than rivals\\nNo Android Auto integration\\n\\n', '\\nInfotainment screen upgraded to 8.8 inches\\nChanges to features within Premium Package\\n\\n', '', '', '', '3519 lbs.', '38.9 inches', '40.3 inches', '5', '', '172.2 inches', '55.6 inches', '', '', '105.1 inches', '82.6 inches', 'Available', '4 doors', 'Available', '24 mpg', '32 mpg', '27 mpg', 'FWD', '228 @ 5000 RPM', '258 @ 1450 rpm', '4-Cyl, Turbo, 2.0 Liter', '4 years / 50000 miles', '', '12 years / Unlimited miles']\n",
      "[3.7, 4.5, 4.2, 4.2, 4.1, 4.2]\n",
      "['2020 BMW 3 Series', 3.7, 4.5, 4.2, 4.2, 4.1, 4.2, '\\nLong considered the benchmark of compact-luxury sedans\\nEnviable badge & performance reputation\\nNew M340i adds 6-cylinder power to lineup\\nStylish-yet-enduring design\\n\\n', '\\nMore expensive than almost every rival\\nNo manual transmission available\\nLacks Android Auto integration\\n\\n', '\\nAll-new, 6-cylinder BMW M340i joins lineup\\nApple CarPlay and navigation become standard\\n3 Series GT liftback based on previous generation discontinued\\n\\n', '', '', '', '3589 lbs.', '38.7 inches', '42.0 inches', '5', '', '185.7 inches', '56.0 inches', '', '', '112.2 inches', '', 'Available', '4 doors', 'Available', '26 mpg', '36 mpg', '30 mpg', 'RWD', '254 @ 5000 RPM', '294 @ 1550 rpm', '4-Cyl, Turbo, 2.0 Liter', '4 years / 50000 miles', '4 years / 50000 miles', '12 years / Unlimited miles']\n",
      "[4.5, 4.8, 4.6, 4.8, 4.5, 4.8]\n",
      "['2020 BMW 5 Series', 4.5, 4.8, 4.6, 4.8, 4.5, 4.8, '\\nThrilling ride & handling\\nPrestigious name\\nStrong engine lineup\\nHigh-tech options\\n\\n', '\\nCan get pricey as options are added\\nRide can be a bit firm\\nMaintenance after warranty expires can be expensive\\n\\n', '\\nM550i xDrive gains more power\\n530e PHEV gets a larger high-voltage battery pack\\nHeated front seats & M Sport differential added to M550i\\nUpgraded Live Cockpit Professional with navigation\\n\\n', '', '', '', '3713 lbs.', '38.8 inches', '41.4 inches', '5', '', '194.6 inches', '58.7 inches', '', '', '117.1 inches', '83.7 inches', 'Available', '4 doors', 'Available', '25 mpg', '33 mpg', '28 mpg', 'RWD', '248 @ 5200 RPM', '258 @ 1450 rpm', '4-Cyl, Turbo, 2.0 Liter', '4 years / 50000 miles', '4 years / 50000 miles', '12 years / Unlimited miles']\n",
      "[3.9, 4.5, 4.2, 4.0, 4.2, 4.5]\n",
      "['2020 BMW X1', 3.9, 4.5, 4.2, 4.0, 4.2, 4.5, '\\nImpressive handling for an SUV\\nSmall size yet plenty of passenger & cargo space\\nReasonably priced for a BMW\\nWilling turbocharged engine\\n\\n', '\\nVery stiff ride\\nApple CarPlay\\nUncomfortable front seats\\nDoesn’t support Android Auto\\n\\n', '\\nNew front & rear styling w/bolder grille\\n8.8-inch infotainment control display now standard\\nNew colors & wheel design\\nImproved 8-speed automatic\\n\\n', '', '', '', '3543 lbs.', '41.9 inches', '40.4 inches', '5', '', '175.4 inches', '55.6 inches', '58.7 cu.ft.', '', '105.1 inches', '81.1 inches', 'Available', '4 doors', 'Available', '24 mpg', '33 mpg', '27 mpg', 'FWD', '228 @ 5000 RPM', '258 @ 1450 rpm', '4-Cyl, Turbo, 2.0 Liter', '4 years / 50000 miles', '4 years / 50000 miles', '12 years / Unlimited miles']\n",
      "[4.5, 4.8, 4.9, 4.7, 4.9, 4.8]\n",
      "['2020 BMW 2 Series', 4.5, 4.8, 4.9, 4.7, 4.9, 4.8, 'If you’re seeking a small, nimble performance car with tidy proportions and premium pedigree, the 2020 BMW 2 Series tops a very short list. With an impressive power-to-weight ratio, snug seats and legendary BMW ride and handling, the 2 Series is a true driver’s car.\\n', 'Compact cars often bring about big conundrums when it comes to transporting people and things. If you need a more versatile ride, the BMW X3 compact-crossover SUV provides it. Those seeking to spend less on a premium compact might enjoy the Acura ILX, VW GTI or even the Subaru WRX STI.\\n', 'The 2 Series coupe and convertible carryover largely unchanged. The Smokers Package has been removed from the standard equipment list and rain sensing wipers added. Other minor changes include some new paint colors, interior upholstery and wheel choices.\\n', '', '', '', '3386 lbs.', '40.1 inches', '41.5 inches', '4', '', '174.7 inches', '54.4 inches', '', '', '105.9 inches', '78.1 inches', 'Available', '2 doors', 'Available', '24 mpg', '32 mpg', '27 mpg', 'RWD', '248 @ 5200 RPM', '258 @ 1450 rpm', '4-Cyl, Turbo, 2.0 Liter', '4 years / 50000 miles', '4 years / 50000 miles', '12 years / Unlimited miles']\n",
      "[4.8, 5.0, 5.0, 4.5, 4.8, 5.0]\n",
      "['2020 BMW M2', 4.8, 5.0, 5.0, 4.5, 4.8, 5.0, '\\nA subcompact coupe with thrilling power & handling talent\\nThe least expensive way of owning a brand-new BMW M car\\nFocused intensely on performance, requires commitment\\n\\n', '\\nFocused intensely on performance, requires commitment\\n\\n', '\\nDarkened taillights\\nFor this model year only — the 2020 BMW M2 CS version goes on sale\\n\\n', '', '', '', '3600 lbs.', '40.1 inches', '41.5 inches', '4', '4.6 inches', '176.2 inches', '54.4 inches', '', '', '106.0 inches', '78.3 inches', 'Available', '2 doors', 'Available', '17 mpg', '24 mpg', '20 mpg', 'RWD', '405 @ 5230 RPM', '406 @ 2350 rpm', '6-Cyl, Twin Turbo, 3.0 Liter', '4 years / 50000 miles', '', '12 years / Unlimited miles']\n",
      "[4.2, 4.7, 4.6, 4.4, 4.5, 4.7]\n",
      "['2020 BMW X3', 4.2, 4.7, 4.6, 4.4, 4.5, 4.7, '\\nPowerful engine lineup\\nRear-wheel or all-wheel drive\\nPrecise handling\\nHigh-tech options\\n\\n', '\\nMore expensive than most competitors\\nMissing Android Auto\\nRide can be firm\\n\\n', '\\nNavigation added to standard equipment\\nReshuffling of some option-package equipment\\nNew LED headlights with built-in cornering lights\\nHigh-performance X3 M added to the lineup\\n\\n', '', '', '', '3931 lbs.', '41.1 inches', '40.3 inches', '5', '', '185.9 inches', '57.6 inches', '28.7 cu.ft.', '', '112.8 inches', '', 'Available', '4 doors', 'Available', '25 mpg', '29 mpg', '27 mpg', 'RWD', '248 @ 5200 RPM', '258 @ 1450 rpm', '4-Cyl, Turbo, 2.0 Liter', '4 years / 50000 miles', '4 years / 50000 miles', '12 years / Unlimited miles']\n"
     ]
    },
    {
     "name": "stdout",
     "output_type": "stream",
     "text": [
      "[4.3, 4.7, 5.0, 4.7, 4.7, 5.0]\n",
      "['2020 BMW Z4', 4.3, 4.7, 5.0, 4.7, 4.7, 5.0, '\\nA proper rear-drive roadster w/fabric top\\nM40i speed & improved handling\\n50/50 weight distribution\\nAvailable w/Track Handling Package\\nPower top goes down in only 10 seconds\\n\\n', '\\nNo hardtop coupe\\nNo manual transmission\\nShoulder seatbelt rubs the neck of shorter drivers\\n\\n', '\\nNew M40i model features a 382-horsepower turbocharged inline-6\\n\\n', '', '', '', '3287 lbs.', '38.9 inches', '42.2 inches', '2', '', '170.7 inches', '54.3 inches', '', '', '97.2 inches', '79.7 inches', 'Available', '2 doors', 'Available', '24 mpg', '32 mpg', '27 mpg', 'RWD', '254 @ 5000 RPM', '294 @ 1500 rpm', '4-Cyl, Turbo, 2.0 Liter', '4 years / 50000 miles', '4 years / 50000 miles', '12 years / Unlimited miles']\n",
      "[4.0, 5.0, 4.8, 4.0, 4.8, 4.8]\n",
      "['2020 BMW X3 M', 4.0, 5.0, 4.8, 4.0, 4.8, 4.8, '\\nSuperb power\\nGreat handling dynamics\\nRear-biased all-wheel drive\\nM Sport differential\\nAs practical as an X3\\n\\n', '\\nPoor EPA fuel economy\\nRough automatic start/stop\\nNo Android Auto\\n\\n', '\\nAll-new model for 2020\\n\\n', '', '', '', '4620 lbs.', '41.1 inches', '40.4 inches', '5', '8.0 inches', '186.2 inches', '57.6 inches', '28.7 cu.ft.', '20.7 feet', '112.8 inches', '84.2 inches', 'Available', '4 doors', 'Available', '14 mpg', '19 mpg', '16 mpg', 'AWD', '473 @ 5600 RPM', '442 @ 2600 rpm', '6-Cyl, Twin Turbo, 3.0 Liter', '4 years / 50000 miles', '4 years / 50000 miles', '12 years / Unlimited miles']\n",
      "[4.2, 5.0, 4.4, 4.9, 4.5, 4.8]\n",
      "['2020 BMW X7', 4.2, 5.0, 4.4, 4.9, 4.5, 4.8, '\\nRealistic seating for six or seven passengers\\nBMW ride & handling\\nPowerful V8 engine\\nCutting-edge high tech\\nGorgeous interior\\n\\n', '\\nPoor fuel economy\\nSome tech features can overwhelm non-tech types\\nMore expensive than some competitors\\n\\n', '\\nNew X7 M50i model added\\nMore standard features added to xDrive50i and M50i models\\nMinor changes to some optional equipment packages\\n\\n', '', '', '', '5370 lbs.', '41.9 inches', '39.8 inches', '7', '', '203.3 inches', '60.0 inches', '', '', '122.2 inches', '', 'Available', '4 doors', 'Available', '20 mpg', '25 mpg', '22 mpg', 'AWD', '335 @ 5500 RPM', '330 @ 1500 rpm', 'V6, Turbo, 3.0 Liter', '4 years / 50000 miles', '4 years / 50000 miles', '12 years / Unlimited miles']\n",
      "[4.6, 4.8, 4.8, 4.6, 4.7, 4.7]\n",
      "['2020 BMW 4 Series', 4.6, 4.8, 4.8, 4.6, 4.7, 4.7, 'The 2020 BMW 4 Series offers a bit more performance and features than the smaller 3 Series, yet its pricing isn’t all that much higher. The Gran Coupe offers hatchback-like convenience, something that might appeal to those needing the versatility of an SUV but who prefer a car.\\n', 'The 2020 BMW 4 Series can get pricey once you start adding options. If you’re more impressed by bang for the buck, an Infiniti Q60 or Lexus RC might be more appealing, as might a non-premium model like the Kia Stinger, Ford Mustang or Chevrolet Camaro.\\n', 'Changes for the 2020 BMW 4 Series are modest. The Smoker’s Package is removed while rain-sensing wipers and Active Driving Assistant become standard. Other changes include new wheels, upholstery and colors, as well as some upgrades to the diffuser, grille and mirror caps on select trims.\\n', '', '', '', '3680 lbs.', '39.9 inches', '42.2 inches', '5', '', '182.7 inches', '54.8 inches', '', '', '110.6 inches', '79.4 inches', 'Available', '4 doors', 'Available', '23 mpg', '34 mpg', '27 mpg', 'RWD', '248 @ 5200 RPM', '258 @ 1450 rpm', '4-Cyl, SULEV, Turbo, 2.0 Liter', '4 years / 50000 miles', '4 years / 50000 miles', '12 years / Unlimited miles']\n",
      "[3.5, 4.0, 3.7, 3.9, 3.7, 4.0]\n",
      "['2020 BMW M4', 3.5, 4.0, 3.7, 3.9, 3.7, 4.0, '\\nAvailable manual transmission\\nChoice of coupe or hardtop convertible\\nGreat power & driving dynamics\\nBMW M provenance\\n\\n', '\\nLess technology than Mercedes-AMG C 63\\nFewer safety & driver aids like adaptive cruise control\\nNo Android Auto compatibility\\nNew model likely coming soon\\n\\n', '\\nNo significant changes compared to 2019 model\\n\\n', '', '', '', '3625 lbs.', '39.8 inches', '42.2 inches', '4', '4.7 inches', '184.5 inches', '55.3 inches', '11.0 cu.ft.', '20.0 feet', '110.7 inches', '79.3 inches', 'Available', '2 doors', 'Available', '17 mpg', '23 mpg', '19 mpg', 'RWD', '425 @ 7300 RPM', '406 @ 1850 rpm', '6-Cyl, Twin Turbo, 3.0 Liter', '4 years / 50000 miles', '4 years / 50000 miles', '12 years / Unlimited miles']\n",
      "[5.0, 5.0, 5.0, 5.0, 5.0, 5.0]\n",
      "['2020 BMW X6', 5.0, 5.0, 5.0, 5.0, 5.0, 5.0, '\\nRakish design\\nAthletic handling\\nAppealing base price in its segment\\nNew Off-Road Package encourages exploration\\n\\n', '\\nLike Santa Cruz, California, the X6 is keepin’ it weird\\nPay more for less space compared to BMW X5\\nVideo-game instrumentation\\n\\n', '\\nCompletely redesigned for 2020\\nLonger, wider & lower than previous X6\\nImproved power & performance on & off road\\nNext-generation safety, infotainment & convenience technology\\n\\n', '', '', '', '4687 lbs.', '39.3 inches', '40.4 inches', '5', '', '194.8 inches', '60.0 inches', '', '', '117.1 inches', '87.1 inches', 'Available', '4 doors', 'Available', '21 mpg', '26 mpg', '23 mpg', 'RWD', '335 @ 5500 RPM', '330 @ 1550 rpm', '6-Cyl, Turbo, 3.0 Liter', '4 years / 50000 miles', '4 years / 50000 miles', '12 years / Unlimited miles']\n",
      "[4.3, 4.8, 4.3, 4.6, 4.5, 4.7]\n",
      "['2020 BMW X4', 4.3, 4.8, 4.3, 4.6, 4.5, 4.7, '\\nCoupe-like styling with some SUV practicality\\nChoice of powerful engines\\nStandard all-wheel drive\\nSome active-safety features standard\\n\\n', '\\nMore expensive than an X3\\nLess cargo room than a traditional SUV\\nNo Android Auto compatibility\\n\\n', '\\nOptional 6-cylinder engine gains horsepower\\nCD player no longer available\\n\\n', '', '', '', '4147 lbs.', '40.3 inches', '40.7 inches', '5', '', '187.5 inches', '57.5 inches', '50.5 cu.ft.', '', '112.8 inches', '84.2 inches', 'Available', '4 doors', 'Available', '23 mpg', '28 mpg', '25 mpg', 'AWD', '248 @ 5200 RPM', '258 @ 1450 rpm', '4-Cyl, Turbo, 2.0 Liter', '4 years / 50000 miles', '4 years / 50000 miles', '12 years / Unlimited miles']\n",
      "[4.3, 4.8, 4.7, 4.5, 4.6, 4.7]\n",
      "['2020 BMW i3', 4.3, 4.8, 4.7, 4.5, 4.6, 4.7, '\\nA premium all-electric subcompact hatchback\\nGreat for city driving\\nIntriguing design\\nLightweight materials used as much as possible\\n\\n', '\\nRear-passenger doors can be irritating\\nMaximum battery range is only 153 miles\\n\\n', '\\nApple CarPlay smartphone integration now free for 20 years\\nPedestrian warning-sound feature becomes standard\\nLimited-run Edition RoadStyle cosmetic package introduced for the i3s model\\n\\n', '', '', '', '2972 lbs.', '39.6 inches', '40.5 inches', '4', '5.5 inches', '158.3 inches', '53.6 inches', '', '', '', '', 'Available', '4 doors', 'Available', '100 MPGe', '102 MPGe', '113 MPGe', 'RWD', '168 @ 4800 RPM', '250 foot pounds', 'AC Electric Motor', '4 years / 50000 miles', '', '12 years / Unlimited miles']\n",
      "[4.1, 4.8, 4.7, 4.7, 4.4, 4.9]\n",
      "['2020 BMW 7 Series', 4.1, 4.8, 4.7, 4.7, 4.4, 4.9, 'If your ideal full-size luxury car has a dominant presence, a variety of digital interfaces and features, an impressive roster of lux and convenience items, plus elements of BMW’s sports-sedan DNA, the 2020 7 Series is for you.\\n', 'The 2020 BMW 7 Series hints at its sports-sedan past, but is tuned more for highway comfort than sharp cornering. Also, while this BMW has new, modern tech features, you’ll find better, more intuitive amenities in other full-size luxury sedans.\\n', 'In addition to the large, upright grille, the bolder 2020 BMW 7 Series comes with new features such as a fully digital instrument cluster, customizable displays, quad-zone climate control, and quilted Nappa leather. Every powertrain benefits from more power, and the plug-in hybrid variant has both more power and more electric-only range.\\n', '', '', '', '4848 lbs.', '39.9 inches', '41.4 inches', '5', '', '207.4 inches', '59.2 inches', '', '', '126.4 inches', '85.4 inches', 'Available', '4 doors', 'Available', '', '', '22 mpg', 'AWD', '', '330 @ 1500 rpm', '6-Cyl, Hybrid, Turbo, 3.0 Liter', '4 years / 50000 miles', '4 years / 50000 miles', '12 years / Unlimited miles']\n",
      "[4.0, 4.5, 4.5, 4.5, 4.5, 4.4]\n",
      "['2020 BMW 8 Series', 4.0, 4.5, 4.5, 4.5, 4.5, 4.4, '\\nBrilliant handling considering its size\\nChoice of powerful engines\\nOffered in coupe, convertible & 4-door “Gran Coupe”\\nLuxurious interior\\nAll-wheel-drive traction\\n\\n', '\\nLimited rear-seat legroom in coupe & convertible\\nLimited rear-seat headroom in Gran Coupe\\nApple CarPlay requires paid subscription after one year\\nCan get pricey compared to the competition\\n\\n', '\\n4-door Gran Coupe joins the 8 Series lineup\\nNew 6-cylinder 840i & 840i xDrive\\n\\n', '', '', '', '4262 lbs.', '39.1 inches', '42.1 inches', '5', '', '200.2 inches', '57.2 inches', '15.5 cu.ft.', '20.2 feet', '119.0 inches', '84.1 inches', 'Available', '4 doors', '', '22 mpg', '29 mpg', '24 mpg', 'RWD', '335 @ 5000 RPM', '368 @ 1600 rpm', '6-Cyl, Turbo, 3.0 Liter', '4 years / 50000 miles', '4 years / 50000 miles', '12 years / Unlimited miles']\n"
     ]
    },
    {
     "name": "stdout",
     "output_type": "stream",
     "text": [
      "[4.3, 4.8, 4.3, 4.6, 4.5, 4.7]\n",
      "['2020 BMW X4 M', 4.3, 4.8, 4.3, 4.6, 4.5, 4.7, '', '', '', '', '', '', '4590 lbs.', '39.5 inches', '40.7 inches', '5', '8.1 inches', '187.5 inches', '57.5 inches', '50.5 cu.ft.', '20.7 feet', '112.8 inches', '84.2 inches', 'Available', '4 doors', 'Available', '14 mpg', '19 mpg', '16 mpg', 'AWD', '473 @ 5600 RPM', '442 @ 2600 rpm', '6-Cyl, Twin Turbo, 3.0 Liter', '4 years / 50000 miles', '4 years / 50000 miles', '12 years / Unlimited miles']\n",
      "[5.0, 5.0, 5.0, 4.0, 5.0, 5.0]\n",
      "['2020 BMW M8', 5.0, 5.0, 5.0, 4.0, 5.0, 5.0, '', '', '', '', '', '', '4560 lbs.', '38.9 inches', '42.1 inches', '5', '', '191.8 inches', '57.2 inches', '', '', '111.3 inches', '84.1 inches', 'Available', '4 doors', '', '15 mpg', '21 mpg', '17 mpg', 'AWD', '', '553 @ 1800 rpm', 'V8, Twin Turbo, 4.4 Liter', '4 years / 50000 miles', '4 years / 50000 miles', '12 years / Unlimited miles']\n",
      "[4.0, 4.7, 4.4, 4.6, 4.4, 4.6]\n",
      "['2020 BMW X5 M', 4.0, 4.7, 4.4, 4.6, 4.4, 4.6, '\\nSupremely powerful engine\\nExtremely high cornering grip from Competition Package\\nFront-seat comfort & multi-adjustability; rear-seat comfort\\nGenerous storage space & easy loading, thanks to a split tailgate\\nExcellent quality materials, fit & finish\\n\\n', '\\nHarsh ride even in the softest settings\\nDarty steering when driven very quickly on winding roads\\nPoor fuel economy\\nVery expensive\\n\\n', '\\nTwin-turbo, 4.4-liter V8 engine w/600 horsepower (617 w/Competition Package)\\nCompletely revised semi-active suspension\\nEnormous, effective brakes\\nUnique bodywork\\n\\n', '', '', '', '5425 lbs.', '40.7 inches', '39.8 inches', '5', '8.3 inches', '195.0 inches', '60.0 inches', '', '21.0 feet', '117.0 inches', '87.3 inches', 'Available', '4 doors', 'Available', '13 mpg', '18 mpg', '15 mpg', 'AWD', '600 @ 6000 RPM', '553 @ 1800 rpm', 'V8, Twin Turbo, 4.4 Liter', '4 years / 50000 miles', '4 years / 50000 miles', '12 years / Unlimited miles']\n",
      "[4.6, 4.6, 4.6, 4.6, 4.6, 4.5]\n",
      "['2020 BMW M5', 4.6, 4.6, 4.6, 4.6, 4.6, 4.5, '\\nBrutally powerful\\nYet still luxurious\\nAll-wheel drive\\nRear-drive mode\\nAt home on the track\\n\\n', '\\nExpensive\\nNo manual transmission\\nAutomatic start/stop is rough\\n\\n', '\\nEdition 35 model (limited to 35 in the U.S.)\\n12.3-inch digital instrument cluster\\nWireless smartphone charging\\nCD player discontinued\\n\\n', '', '', '', '', '40.7 inches', '41.4 inches', '5', '', '195.5 inches', '58.7 inches', '18.7 cu.ft.', '', '117.4 inches', '83.7 inches', 'Available', '4 doors', 'Available', '15 mpg', '21 mpg', '17 mpg', 'AWD', '600 @ 5700 RPM', '553 @ 1800 rpm', 'V8, Twin Turbo, 4.4 Liter', '4 years / 50000 miles', '4 years / 50000 miles', '12 years / Unlimited miles']\n",
      "[5.0, 5.0, 5.0, 5.0, 5.0, 5.0]\n",
      "['2020 BMW X6 M', 5.0, 5.0, 5.0, 5.0, 5.0, 5.0, '', '', '', '', '', '', '5375 lbs.', '39.3 inches', '40.4 inches', '5', '8.3 inches', '195.0 inches', '60.0 inches', '27.4 cu.ft.', '21.0 feet', '117.0 inches', '87.1 inches', 'Available', '4 doors', 'Available', '13 mpg', '18 mpg', '15 mpg', 'AWD', '600 @ 6000 RPM', '553 @ 1800 rpm', 'V8, Twin Turbo, 4.4 Liter', '4 years / 50000 miles', '4 years / 50000 miles', '12 years / Unlimited miles']\n",
      "[4.8, 4.9, 4.9, 4.8, 4.9, 4.9]\n",
      "['2020 BMW i8', 4.8, 4.9, 4.9, 4.8, 4.9, 4.9, '\\nEco-conscious supercar in coupe or convertible (Roadster) styles\\nRadical looks\\nRevolutionary construction\\nBuilt using 100-percent renewable energy\\nBMW dynamics\\n\\n', '\\nNot the most thrilling soundtrack\\nSeveral rivals are faster despite being heavier\\n\\n', '\\nIcon Adaptive Headlights w/Laserlight is a new option\\nFree Apple CarPlay subscription extended to 20 years\\nUltimate Sophisto Edition cosmetic treatment marks the i8’s final year\\n\\n', '', '', '', '3501 lbs.', '38.7 inches', '43.1 inches', '4', '4.6 inches', '184.9 inches', '56.7 inches', '4.7 cu.ft.', '', '110.2 inches', '87.3 inches', 'Available', '2 doors', 'Available', '', '', '27 mpg', 'AWD', '', '236 @ 3700 rpm', '3-Cyl, Hybrid, Turbo, 1.5 Liter', '4 years / 50000 miles', '', '12 years / Unlimited miles']\n",
      "[4.0, 4.7, 4.4, 4.6, 4.4, 4.6]\n",
      "['2019 BMW X5', 4.0, 4.7, 4.4, 4.6, 4.4, 4.6, 'If you want a midsize-luxury-crossover SUV that behaves more like a BMW sports sedan, the X5 continues to offer impressive performance with everyday practicality. A long list of features and amenities — from a V8 engine and massaging seats to semi-autonomous driving — will please a variety of desires.\\n', 'With a price starting over $60,000 and expanding by the tens of thousands from there, the BMW X5 isn’t cheap. If you regularly plan to seat more than five passengers, you’re better off waiting for the larger, 3-row BMW X7, which will offer more room in the last row.\\n', 'The BMW X5 is all-new for 2019. It has been overhauled with more technology, more sophisticated driving features, and slightly larger dimensions. For the first time in an X model, an off-road package is offered. The X5 continues to be built at BMW’s massive factory in South Carolina.\\n', '', '', '', '4813 lbs.', '40.8 inches', '39.8 inches', '7', '', '194.3 inches', '60.0 inches', '33.9 cu.ft.', '41.4 feet', '117.1 inches', '87.3 inches', 'Available', '4 doors', 'Available', '20 mpg', '26 mpg', '22 mpg', 'AWD', '335 @ 5500 RPM', '330 @ 1500 rpm', '6-Cyl, Turbo, 3.0 Liter', '4 years / 50000 miles', '4 years / 50000 miles', '12 years / Unlimited miles']\n"
     ]
    }
   ],
   "source": [
    "for url in urls :\n",
    "    voit=[]\n",
    "    df1=pd.DataFrame()\n",
    "    ratings=[]\n",
    "    positive_negative=[]\n",
    "    desc= []\n",
    "    l=[]\n",
    "    l4=[]\n",
    "    l5=[]\n",
    "    vari=[]\n",
    "   \n",
    "    response = requests.get(url)\n",
    "    soup = BeautifulSoup(response.content, 'html.parser')\n",
    "    content = soup.get_text()\n",
    "    name = soup.find('div', {'class' : 'css-1z001wv evrbb773'})\n",
    "    voit.append(name.get_text())   \n",
    "    #ratings columns\n",
    "    rate= soup.find_all('div', {'class' : 'css-sf59yt'})\n",
    "    for rating in rate :\n",
    "        ratings.append(float(rating.text))\n",
    "    if len(ratings)>6 :\n",
    "        ratings=ratings[:6]\n",
    "    #pros and cons columns    \n",
    "    proscons = soup.find_all('div', {'class' : 'editoralContent css-q5da8s'})\n",
    "    for p in proscons :\n",
    "        positive_negative.append(p.text)\n",
    "    for i in range(0,9-len(ratings+positive_negative)) :\n",
    "        positive_negative.append('')\n",
    "    \n",
    "    \n",
    "    #car's caract columns\n",
    "    caract= soup.find_all('div',{'class' : 'css-z687n ee33uo36'})\n",
    "    for car in caract :\n",
    "        l.append(car.text)\n",
    "         \n",
    "    for k in  range(0,len(l3)) :\n",
    "        for h in range(0,len(l)) :\n",
    "            if l3[k]==l[h] : \n",
    "                l5.append(l[h])\n",
    "                l4.append(l[h+1])\n",
    "        if l3[k] not in l5 :\n",
    "            l4.append('')\n",
    "        \n",
    "    print(ratings)\n",
    "    print(voit+ratings+positive_negative+l4)\n",
    "    df1=pd.DataFrame([voit+ratings+positive_negative+l4], columns=var2)\n",
    "\n",
    "    \n",
    "    df=df.append(df1, ignore_index=True)\n",
    "df.drop(0, axis=0, inplace=True)\n",
    "df"
   ]
  },
  {
   "cell_type": "markdown",
   "id": "93e2559b",
   "metadata": {},
   "source": [
    "## Création d'un fichier excel"
   ]
  },
  {
   "cell_type": "code",
   "execution_count": 13,
   "id": "11aece51",
   "metadata": {},
   "outputs": [],
   "source": [
    "df.to_excel(\"mclaren_cars.xlsx\", sheet_name='Sheet_name_1') "
   ]
  }
 ],
 "metadata": {
  "kernelspec": {
   "display_name": "Python 3",
   "language": "python",
   "name": "python3"
  },
  "language_info": {
   "codemirror_mode": {
    "name": "ipython",
    "version": 3
   },
   "file_extension": ".py",
   "mimetype": "text/x-python",
   "name": "python",
   "nbconvert_exporter": "python",
   "pygments_lexer": "ipython3",
   "version": "3.8.8"
  }
 },
 "nbformat": 4,
 "nbformat_minor": 5
}
