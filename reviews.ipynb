{
 "cells": [
  {
   "cell_type": "markdown",
   "id": "17ff7d9c",
   "metadata": {},
   "source": [
    "# Reviews Scraping from Kelley Blue Book"
   ]
  },
  {
   "cell_type": "markdown",
   "id": "83575785",
   "metadata": {},
   "source": [
    "## 1. Libraries"
   ]
  },
  {
   "cell_type": "code",
   "execution_count": 1,
   "id": "d26fa11a",
   "metadata": {},
   "outputs": [],
   "source": [
    "from bs4 import BeautifulSoup\n",
    "import requests\n",
    "import pandas as pd \n",
    "import numpy as np"
   ]
  },
  {
   "cell_type": "code",
   "execution_count": 2,
   "id": "fe232aa5",
   "metadata": {},
   "outputs": [],
   "source": [
    "models = ['arteon','atlas','atlas-cross-sport','golf','golf-gti','golf-alltrack','golf-sportwagen', 'jetta', 'jetta-gli', 'new-beetle','passat','rabbit', 'routan', 'taos', 'tiguan','touareg']\n"
   ]
  },
  {
   "cell_type": "code",
   "execution_count": 3,
   "id": "5aa1ef5b",
   "metadata": {},
   "outputs": [
    {
     "name": "stdout",
     "output_type": "stream",
     "text": [
      "179\n",
      "['https://www.kbb.com/volkswagen/arteon/2023', 'https://www.kbb.com/volkswagen/arteon/2022', 'https://www.kbb.com/volkswagen/arteon/2021', 'https://www.kbb.com/volkswagen/arteon/2020', 'https://www.kbb.com/volkswagen/arteon/2019', 'https://www.kbb.com/volkswagen/atlas/2024', 'https://www.kbb.com/volkswagen/atlas/2023', 'https://www.kbb.com/volkswagen/atlas/2022', 'https://www.kbb.com/volkswagen/atlas/2021', 'https://www.kbb.com/volkswagen/atlas/2020', 'https://www.kbb.com/volkswagen/atlas/2019', 'https://www.kbb.com/volkswagen/atlas/2018', 'https://www.kbb.com/volkswagen/atlas-cross-sport/2024', 'https://www.kbb.com/volkswagen/atlas-cross-sport/2023', 'https://www.kbb.com/volkswagen/atlas-cross-sport/2022', 'https://www.kbb.com/volkswagen/atlas-cross-sport/2021', 'https://www.kbb.com/volkswagen/atlas-cross-sport/2020', 'https://www.kbb.com/volkswagen/golf/2023', 'https://www.kbb.com/volkswagen/golf/2022', 'https://www.kbb.com/volkswagen/golf/2021', 'https://www.kbb.com/volkswagen/golf/2020', 'https://www.kbb.com/volkswagen/golf/2019', 'https://www.kbb.com/volkswagen/golf/2018', 'https://www.kbb.com/volkswagen/golf/2017', 'https://www.kbb.com/volkswagen/golf/2016', 'https://www.kbb.com/volkswagen/golf/2015', 'https://www.kbb.com/volkswagen/golf/2014', 'https://www.kbb.com/volkswagen/golf/2013', 'https://www.kbb.com/volkswagen/golf/2012', 'https://www.kbb.com/volkswagen/golf/2011', 'https://www.kbb.com/volkswagen/golf/2010', 'https://www.kbb.com/volkswagen/golf/2006', 'https://www.kbb.com/volkswagen/golf/2005', 'https://www.kbb.com/volkswagen/golf/2004', 'https://www.kbb.com/volkswagen/golf/2003', 'https://www.kbb.com/volkswagen/golf/2002', 'https://www.kbb.com/volkswagen/golf/2001', 'https://www.kbb.com/volkswagen/golf/2000', 'https://www.kbb.com/volkswagen/golf/1999', 'https://www.kbb.com/volkswagen/golf/1998', 'https://www.kbb.com/volkswagen/golf/1997', 'https://www.kbb.com/volkswagen/golf/1996', 'https://www.kbb.com/volkswagen/golf/1992', 'https://www.kbb.com/volkswagen/golf-gti/2023', 'https://www.kbb.com/volkswagen/golf-gti/2022', 'https://www.kbb.com/volkswagen/golf-gti/2021', 'https://www.kbb.com/volkswagen/golf-gti/2020', 'https://www.kbb.com/volkswagen/golf-gti/2019', 'https://www.kbb.com/volkswagen/golf-gti/2018', 'https://www.kbb.com/volkswagen/golf-gti/2017', 'https://www.kbb.com/volkswagen/golf-gti/2016', 'https://www.kbb.com/volkswagen/golf-gti/2015', 'https://www.kbb.com/volkswagen/golf-alltrack/2019', 'https://www.kbb.com/volkswagen/golf-alltrack/2018', 'https://www.kbb.com/volkswagen/golf-alltrack/2017', 'https://www.kbb.com/volkswagen/golf-sportwagen/2019', 'https://www.kbb.com/volkswagen/golf-sportwagen/2018', 'https://www.kbb.com/volkswagen/golf-sportwagen/2017', 'https://www.kbb.com/volkswagen/golf-sportwagen/2016', 'https://www.kbb.com/volkswagen/golf-sportwagen/2015', 'https://www.kbb.com/volkswagen/jetta/2023', 'https://www.kbb.com/volkswagen/jetta/2022', 'https://www.kbb.com/volkswagen/jetta/2021', 'https://www.kbb.com/volkswagen/jetta/2020', 'https://www.kbb.com/volkswagen/jetta/2019', 'https://www.kbb.com/volkswagen/jetta/2018', 'https://www.kbb.com/volkswagen/jetta/2017', 'https://www.kbb.com/volkswagen/jetta/2016', 'https://www.kbb.com/volkswagen/jetta/2015', 'https://www.kbb.com/volkswagen/jetta/2014', 'https://www.kbb.com/volkswagen/jetta/2013', 'https://www.kbb.com/volkswagen/jetta/2012', 'https://www.kbb.com/volkswagen/jetta/2011', 'https://www.kbb.com/volkswagen/jetta/2010', 'https://www.kbb.com/volkswagen/jetta/2009', 'https://www.kbb.com/volkswagen/jetta/2008', 'https://www.kbb.com/volkswagen/jetta/2007', 'https://www.kbb.com/volkswagen/jetta/2006', 'https://www.kbb.com/volkswagen/jetta/2005', 'https://www.kbb.com/volkswagen/jetta/2004', 'https://www.kbb.com/volkswagen/jetta/2003', 'https://www.kbb.com/volkswagen/jetta/2002', 'https://www.kbb.com/volkswagen/jetta/2001', 'https://www.kbb.com/volkswagen/jetta/2000', 'https://www.kbb.com/volkswagen/jetta/1999', 'https://www.kbb.com/volkswagen/jetta/1998', 'https://www.kbb.com/volkswagen/jetta/1997', 'https://www.kbb.com/volkswagen/jetta/1996', 'https://www.kbb.com/volkswagen/jetta/1995', 'https://www.kbb.com/volkswagen/jetta/1994', 'https://www.kbb.com/volkswagen/jetta/1993', 'https://www.kbb.com/volkswagen/jetta/1992', 'https://www.kbb.com/volkswagen/jetta-gli/2023', 'https://www.kbb.com/volkswagen/jetta-gli/2022', 'https://www.kbb.com/volkswagen/jetta-gli/2021', 'https://www.kbb.com/volkswagen/jetta-gli/2020', 'https://www.kbb.com/volkswagen/jetta-gli/2019', 'https://www.kbb.com/volkswagen/new-beetle/2010', 'https://www.kbb.com/volkswagen/new-beetle/2009', 'https://www.kbb.com/volkswagen/new-beetle/2008', 'https://www.kbb.com/volkswagen/new-beetle/2007', 'https://www.kbb.com/volkswagen/new-beetle/2006', 'https://www.kbb.com/volkswagen/new-beetle/2005', 'https://www.kbb.com/volkswagen/new-beetle/2004', 'https://www.kbb.com/volkswagen/new-beetle/2003', 'https://www.kbb.com/volkswagen/new-beetle/2002', 'https://www.kbb.com/volkswagen/new-beetle/2001', 'https://www.kbb.com/volkswagen/new-beetle/2000', 'https://www.kbb.com/volkswagen/new-beetle/1999', 'https://www.kbb.com/volkswagen/new-beetle/1998', 'https://www.kbb.com/volkswagen/passat/2022', 'https://www.kbb.com/volkswagen/passat/2021', 'https://www.kbb.com/volkswagen/passat/2020', 'https://www.kbb.com/volkswagen/passat/2019', 'https://www.kbb.com/volkswagen/passat/2018', 'https://www.kbb.com/volkswagen/passat/2017', 'https://www.kbb.com/volkswagen/passat/2016', 'https://www.kbb.com/volkswagen/passat/2015', 'https://www.kbb.com/volkswagen/passat/2014', 'https://www.kbb.com/volkswagen/passat/2013', 'https://www.kbb.com/volkswagen/passat/2012', 'https://www.kbb.com/volkswagen/passat/2010', 'https://www.kbb.com/volkswagen/passat/2009', 'https://www.kbb.com/volkswagen/passat/2008', 'https://www.kbb.com/volkswagen/passat/2007', 'https://www.kbb.com/volkswagen/passat/2006', 'https://www.kbb.com/volkswagen/passat/2005', 'https://www.kbb.com/volkswagen/passat/2004', 'https://www.kbb.com/volkswagen/passat/2003', 'https://www.kbb.com/volkswagen/passat/2002', 'https://www.kbb.com/volkswagen/passat/2001', 'https://www.kbb.com/volkswagen/passat/2000', 'https://www.kbb.com/volkswagen/passat/1999', 'https://www.kbb.com/volkswagen/passat/1998', 'https://www.kbb.com/volkswagen/passat/1997', 'https://www.kbb.com/volkswagen/passat/1996', 'https://www.kbb.com/volkswagen/passat/1995', 'https://www.kbb.com/volkswagen/passat/1994', 'https://www.kbb.com/volkswagen/passat/1993', 'https://www.kbb.com/volkswagen/passat/1992', 'https://www.kbb.com/volkswagen/rabbit/2009', 'https://www.kbb.com/volkswagen/rabbit/2008', 'https://www.kbb.com/volkswagen/rabbit/2007', 'https://www.kbb.com/volkswagen/rabbit/2006', 'https://www.kbb.com/volkswagen/routan/2014', 'https://www.kbb.com/volkswagen/routan/2013', 'https://www.kbb.com/volkswagen/routan/2012', 'https://www.kbb.com/volkswagen/routan/2011', 'https://www.kbb.com/volkswagen/routan/2010', 'https://www.kbb.com/volkswagen/routan/2009', 'https://www.kbb.com/volkswagen/taos/2023', 'https://www.kbb.com/volkswagen/taos/2022', 'https://www.kbb.com/volkswagen/tiguan/2023', 'https://www.kbb.com/volkswagen/tiguan/2022', 'https://www.kbb.com/volkswagen/tiguan/2021', 'https://www.kbb.com/volkswagen/tiguan/2020', 'https://www.kbb.com/volkswagen/tiguan/2019', 'https://www.kbb.com/volkswagen/tiguan/2018', 'https://www.kbb.com/volkswagen/tiguan/2017', 'https://www.kbb.com/volkswagen/tiguan/2016', 'https://www.kbb.com/volkswagen/tiguan/2015', 'https://www.kbb.com/volkswagen/tiguan/2014', 'https://www.kbb.com/volkswagen/tiguan/2013', 'https://www.kbb.com/volkswagen/tiguan/2012', 'https://www.kbb.com/volkswagen/tiguan/2011', 'https://www.kbb.com/volkswagen/tiguan/2010', 'https://www.kbb.com/volkswagen/tiguan/2009', 'https://www.kbb.com/volkswagen/touareg/2017', 'https://www.kbb.com/volkswagen/touareg/2016', 'https://www.kbb.com/volkswagen/touareg/2015', 'https://www.kbb.com/volkswagen/touareg/2014', 'https://www.kbb.com/volkswagen/touareg/2013', 'https://www.kbb.com/volkswagen/touareg/2012', 'https://www.kbb.com/volkswagen/touareg/2011', 'https://www.kbb.com/volkswagen/touareg/2010', 'https://www.kbb.com/volkswagen/touareg/2007', 'https://www.kbb.com/volkswagen/touareg/2006', 'https://www.kbb.com/volkswagen/touareg/2005', 'https://www.kbb.com/volkswagen/touareg/2004']\n"
     ]
    }
   ],
   "source": [
    "urls=[]\n",
    "\n",
    "for model in models :\n",
    "    url=\"https://www.kbb.com/volkswagen/\"+model+\"/\"\n",
    "    \n",
    "    response = requests.get(url)\n",
    "    soup = BeautifulSoup(response.content, 'html.parser')\n",
    "    content = soup.get_text()\n",
    "    fy = soup.find('div', {'class' : 'css-18vbo1i e9vui821'})\n",
    "    urls.append(url+fy.text)\n",
    "    years = soup.find_all('div', {'class' : 'css-6edjg6 e9vui821'})\n",
    "    for y in years :\n",
    "        \n",
    "        urls.append(url+y.text)\n",
    "print(len(urls))\n",
    "print(urls)"
   ]
  },
  {
   "cell_type": "code",
   "execution_count": 4,
   "id": "a207415f",
   "metadata": {
    "scrolled": false
   },
   "outputs": [],
   "source": [
    "for url in urls :\n",
    "    \n",
    "    reviews = []\n",
    "           \n",
    "    url = url+'/consumer-reviews/'\n",
    "    # request to website\n",
    "    response = requests.get(url)\n",
    "    \n",
    "    # soup object\n",
    "    soup = BeautifulSoup(response.content, 'html.parser')\n",
    "    \n",
    "    # Find all occurrences of \"volkswagen\" and replace with the new car name\n",
    "    content = soup.get_text() \n",
    "    pages = soup.find_all('div', {'class' : 'css-ibi9nq e1hywep22'})\n",
    "    page=[]\n",
    "    for p in pages :\n",
    "        print(p.text)\n",
    "        page.append(p.text)\n"
   ]
  },
  {
   "cell_type": "code",
   "execution_count": 10,
   "id": "8ccdfe12",
   "metadata": {},
   "outputs": [
    {
     "name": "stdout",
     "output_type": "stream",
     "text": [
      "['Let me first say, this is my 14th VW over the years. Mostly driving the Passat or Jetta. This car is absolutely fantastic! It is the best VW produced since the Phaeton (and I own one too). The Phaeton was VW’s highest end US sedan and it failed-but still one of the best. The Arteon is following in those footsteps when it comes to quality, craftsmanship, and overall handling but on a smaller scale. The Arteon definitely stands out in the crowd. The Arteon is sophisticated and I would say, in a class by itself. VW owners may remember this feeling with the 2004-2005 Passats. The Arteon has so much more. VW has brought the German drive feel back to the sedan in this car as they have become so Americanized over the years. The Arteon handles well and the seats alone are reason to buy. The seats are amazingly comfortable yet functional, stylish, and handsome. Some of the expert reviews are not favorable of this car but I don’t care. That’s not my experience. Read the consumer reviews-they are almost all 5 stars. The warranty is unmatched for 2019. Oh-I own the 2019 Arteon SEL Premium R line. As far as mpg, yes it could be better, but considering this car is 4 motion all wheel drive with a little extra weight, I think the mpg is spot on. My average is about 32 on highway which is better than expected. Drive this car is sports mode for more fun! Please go drive one. It’s the next best car to the Phaeton hands down. Remember-the Arteon looks sporty so your driving expectation may be that is is fast and quick maneuvering. While it does have some of those qualities, this car is a cruiser and you will be very happy whether in the car for 15 minutes or 15 hours.', 'Showing 15 of 20 reviews.', 'This car is an Audi with a Volkswagen nameplate.  I have the top trim level, SEL Premium R Line 4 Motion.  Love it.  Luxurious, amazingly appointed, quiet luxurious ride, acoustically perfect stereo, great performance and spacious backseat.  A true secret gem in the car world.  I get head turns daily.  I have had more compliments in this car than any car I have ever had.  I have had two Mercedes, Cadillac, and 37 other cars.  I love this Arteon.  If you’re thinking about one, just do it.  You will love it.', \"Confy ride,\\ndon't lose the power even if your over 100 mph,\\nThe handling is great for this price,\\nThe suspension is great,\", 'Luxury driving at a reasonable cost', 'None', 'I decided to try the Arteon and have really enjoyed everything about it. It has everything I need in a vehicle and I have received many compliments from other motorists while traveling. Purchased my car at Leith Volkswagon in Cary and everyone there has been exceptional from sales to service.', 'Fun to drive', 'Need more power', \"Beautiful car and style and updated. This car is very futuristic and I lot of fun to drive. So many people ask me what kind of car I'm driving, its  a eye catcher.\", 'Great car', 'None', \"I have owned this 21 Arteon SEL 4Motion for 6 months now and love this car!  It runs great, is comfortable and has all tech feature you will ever need.  The 4Motion AWD is a bonus and is great in snowy weather.  I don't know why this car isn't really that popular and the price is well worth it!  I received a large discount from my dealer and never regretted ever buying this car.  I traded in my 2019 Tiguan SE 4 Motion for the Arteon and have almost the same trunk space.  Do yourself a favor and at least take a look at this great car.\", 'Fun to drive, Stunning', 'Turbo Lag', 'The car is very fun to drive, quick enough for everyday driving, and is overall a gorgeous vehicle! Never fails to turn heads!', 'Almost everything!', 'Engine performance could be improved', \"I couldn't be happier with this car. Very reliable and beautiful design. The interior is super spacious and decent quality for this price range. The suspension is really what makes a huge difference in this car compare all others. Super comfortable and handles great when on sport.\", 'Great car with a lot of good features smooth driving experience I highly recommend this car for others', 'Styling, engineering, quality', 'Could use upgraded carpet but that is about it.', 'Design and amenities far exceed the cost of the car in my opinion and are typically only available on vehicles costing tens of thousands more.  Engineering, style and overall quality is top notch, always turns heads wherever I go and is a pleasure to drive', 'Great looking car, fun to drive, great fuel econ', \"I wouldn't change a thing.\", \"I purchased this car in order to get a larger car after our second child came and I was forced to put two car seats in the back seat of a smaller sedan. I am 6'4'' and need space for my legs. I saw the car come off the truck brand new and instantly fell in love with the looks of the exterior of the Arteon. I drive a lot as well, so fuel economy was important to me and kept me out of the SUV market. \\n\\nAfter purchasing the car, I had zero regrets and have only fell deeper in love with this vehicle. The fuel economy (when driven accordingly) gets as high as 38 mpg over my 65 mile commute. On the other side of the driving spectrum, when I am feeling aggressive, this vehicle does not disappoint and easily gets on the freeway and/or gets around traffic.  If you are looking for more, there is a significant boost to the power sold aftermarket for about $1k that turns this into a BEAST.\\n\\nI fit two car seats in the back, and have plenty of room upfront. The trunk is well designed, lighting is great, handling is amazing. This car is very fun to drive, and I get compliments on it often...people are always wanting to know what it is. It is roomy inside for me, and my wife can move the seat all the way up and forward and make it comfortable for her to reach the pedals. She loves driving my car and 'borrows' it whenever she can.\", 'love it, cant wait to see the 2022 model with more power but overall this car is sexy, comfy, and fast', 'Great cruiser, smooth, quiet ride', 'Absolutely none!', 'I reviewed here about a year ago almost one year into ownership. I’m now approaching two years with the Arteon. I completely stand by my initial review of this car. This car stands out in the crowd as not blending in with other midsize sedans. It’s easy to drive, and the seats are way comfortable into Audi territory. What I love about this car? My mpg is way better than expected. Of course I don’t floor the accelerator or drive too crazy. I find on highway about 32-35 is average which is great. \\nThe seats are comfortable and good for long trips. I don’t use the massage feature much but it does feel great. The car has only been to the dealer twice for routine oil changes only. Nothing else. I love this car. The hatchback (or fast back) as it’s now called, is very practical. The backseat is huge and comfy too. What has happened here?  VW decided to get back to making those fun to drive cars with the Arteon. For me, the Arteon is today what the Passat used to be in the early 2000’s. Go drive one! Truly an unremarkable car. Don’t pay attention to the price tag. Go and drive. One more thing-don’t expect it to be super fast. It’s a cruiser not a GTI. It has ample power with a smooth shifting gearbox. Still a bit of turbo lag but that’s not a dealbreaker for me. If you enjoy the old Passat and Phaeton, you will love this car. Kind of the best of both.', 'Flat cornering. 4 wheel drive grabs in corners too', 'Maybe some turbo lag, a lot of info-stuff to learn', \"I've never owned a better car.   I have a Buick Grand National, faster... NOT better\\n\\nI have the standard 2.0 with a stage one APR ECU tune.  370 horsepower,  Add a cold air intake and APR spark coils.  \\n\\nI figure it's 380 to 390.   I am so pleased.\\n\\nhighway speeds? It loves 90 to 95 cruising, ha... I got passed by a Kia Soul at 95 today, go figure.\\n\\nThis is a great car.    OH&gt;  I added 20 inch rims from APR and big continental 35 series tires.\", 'Amazing style, amazing deal', 'Poor sound system, out of the box needs more power', 'I have the top of the line SEL Premium with AWD. This car is a true GT. For those interested in the aftermarket, the engine is the same turbo 4 in the Golf R. $1200 will bump this car up 90hp & 100 ft lbs  (with a warranty).\\n\\nThe car is very comfortable and has TONS of room, both for passengers and for cargo. Handling is nimble, especially in long sweepers. The technology is top notch and intuitive. Volkswagen is giving massive discounts on this model making it an incredible deal.', 'Beautiful, fast, fun to drive, comfortable', 'None', 'Absolutely love this car! Got it a year ago, and have been super impressed with everything - starting from stunning design, on of the most comfortable seats I have sat in, spacious interior, excellent fit and finish (very sharp, practical, without unneeded extra\\'s), powerful engine, smooth gearbox. I also have an APR st1 tune for 91 gas (~350hp - a total must, best bang for the $), turns off the auto start-stop feature too). It is a highway beast. Once up to 45-50 mph, it pulls like a rocket. Even when it was stock, it was just as fast as similar 250-300hp sedan competitors.\\n\\nNumbers wise, right up there with the performance of the Kia Stinger GT, Lincoln MKZ 3.0T 400hp, Cadillac CT5-V, BMW 540i G30, and etc. If we base of the 60-130 mph, it\\'s really close with the S5 3.0T, Q50RS, and other 350-400hp vehicles, going off their times I have clocked on my dragy. Super close times for either car in that discipline. \\n\\nWhile our US version does not include launch control as does the DSG in Europe, it still has a strong 0-60 (have clocked mid 5s per dragy on a hot and humid day), and the 60-130 is very fast. The US spec was definetly geared for high speeds rather than focusing on the low speed range as much. The power seems to be slightly limited a little in the first two gears (with the tune as well) for the safety and reliability of the gearbox, which is smart. It shifts very smooth and does not have jerks or confusion unlike the DSG I drove in the CC. \\n\\nHave been able to get 38mpg on the freeway! Superb car. Highly recommend. \\n\\nFor those of you who are tuned, I will make one suggestion. Don\\'t floor the car to the WOT switch (clicker at the end of the pedal), but floor it right before it clicks. That prevents any confusion and doesn\\'t create any over-boost which gets limited for the safety of the transmission. Makes for a better acceleration times. To get the best time from idle, stay in \"Normal\" mode, and do ESC off. That will eliminate any extra lag \"Sport\" gives off the line. Once at speed, \"Sport\" mode works good for peppy cruising. For the best quarter mile time, stay in \"Normal\" mode, ESC off, hold the brake, rev to 2500, let go and floor it right before the click. You will see solid times in stock/tuned form. \\n\\nHopefully my suggestions were able to help you!']\n",
      "[]\n"
     ]
    }
   ],
   "source": [
    "url='https://www.kbb.com/volkswagen/arteon/2023/consumer-reviews/'\n",
    "\n",
    "reviews=[]\n",
    "# request to website\n",
    "response = requests.get(url)\n",
    "    \n",
    "# soup object\n",
    "soup = BeautifulSoup(response.content, 'html.parser')\n",
    "    \n",
    "# Find all occurrences of \"volkswagen\" and replace with the new car name\n",
    "content = soup.get_text()\n",
    "    \n",
    "results = soup.find_all('p', {'class' : 'css-25a2lr emgezi80'})\n",
    "    \n",
    "for result in results :\n",
    "    reviews.append(result.text) #review is a list that contains all the reviews of volkswagen's cars\n",
    "print(reviews)\n",
    "pages = soup.find_all('button', {'class' : 'css-11n21oy e1tev6y61'})\n",
    "page=[]\n",
    "for p in pages :\n",
    "        \n",
    "    page.append(p.text)\n",
    "print(page)        "
   ]
  },
  {
   "cell_type": "code",
   "execution_count": null,
   "id": "4bb8803f",
   "metadata": {},
   "outputs": [],
   "source": []
  }
 ],
 "metadata": {
  "kernelspec": {
   "display_name": "Python 3",
   "language": "python",
   "name": "python3"
  },
  "language_info": {
   "codemirror_mode": {
    "name": "ipython",
    "version": 3
   },
   "file_extension": ".py",
   "mimetype": "text/x-python",
   "name": "python",
   "nbconvert_exporter": "python",
   "pygments_lexer": "ipython3",
   "version": "3.8.8"
  }
 },
 "nbformat": 4,
 "nbformat_minor": 5
}
